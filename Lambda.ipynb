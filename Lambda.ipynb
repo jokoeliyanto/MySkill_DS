{
  "nbformat": 4,
  "nbformat_minor": 0,
  "metadata": {
    "colab": {
      "name": "Lambda.ipynb",
      "provenance": [],
      "authorship_tag": "ABX9TyOoTuYCkrGcHuSLSWmejZNn",
      "include_colab_link": true
    },
    "kernelspec": {
      "name": "python3",
      "display_name": "Python 3"
    },
    "language_info": {
      "name": "python"
    }
  },
  "cells": [
    {
      "cell_type": "markdown",
      "metadata": {
        "id": "view-in-github",
        "colab_type": "text"
      },
      "source": [
        "<a href=\"https://colab.research.google.com/github/jokoeliyanto/MySkill_DS/blob/main/Lambda.ipynb\" target=\"_parent\"><img src=\"https://colab.research.google.com/assets/colab-badge.svg\" alt=\"Open In Colab\"/></a>"
      ]
    },
    {
      "cell_type": "markdown",
      "metadata": {
        "id": "z9Gy-81Q1mRL"
      },
      "source": [
        "# Lambda\n",
        "\n",
        "Fungsi lambda adalah fungsi anonim `one line` yang didefinisikan tanpa nama. Fungsi lambda dapat mengambil sejumlah `arguments`, tetapi hanya dapat memiliki satu `expression`. Sementara fungsi normal didefinisikan menggunakan kata kunci `def`, dalam Python fungsi anonim didefinisikan menggunakan kata kunci lambda.\n",
        "\n",
        "\n",
        "Fungsi Lambda digunakan ketika fungsi sederhana hanya digunakan sekali atau untuk waktu yang singkat dalam kode kita. Penggunaannya yang paling umum adalah sebagai argumen untuk fungsi tingkat tinggi (fungsi yang menggunakan fungsi lain sebagai argumen). "
      ]
    },
    {
      "cell_type": "markdown",
      "metadata": {
        "id": "bNAdbVITh9Px"
      },
      "source": [
        "Lambda expression di Python adalah sebuah ekspresi untuk membuat fungsi.\n",
        "\n",
        "Lambda sendiri berasal dari teori kalkulus, yakni Lambda Calculus yang dikenalkan oleh Alonzo Church di tahun 1930.\n",
        "\n",
        "Berkat lambda, kita bisa membuat fungsi tanpa nama atau dikenal juga dengan anonymous function.\n",
        "\n",
        "Misalkan kita punya fungsi penjumlahan kuadrat seperti ini:"
      ]
    },
    {
      "cell_type": "code",
      "metadata": {
        "id": "AGT1pIaah-Tn"
      },
      "source": [
        "def suqare_sum(x,y):\n",
        "  return x**2 + y**2"
      ],
      "execution_count": 1,
      "outputs": []
    },
    {
      "cell_type": "markdown",
      "metadata": {
        "id": "unGq0PwwiAT4"
      },
      "source": [
        "dengan lambda.. kita tidak perlu menggunakan def dan return, bahkan kita juga tidak perlu menuliskan namanya."
      ]
    },
    {
      "cell_type": "code",
      "metadata": {
        "colab": {
          "base_uri": "https://localhost:8080/"
        },
        "id": "pgFMt_pgiDqh",
        "outputId": "d86fcfe0-76e3-44f0-f1fe-455f3ea6fe3e"
      },
      "source": [
        "lambda x,y : x**2 + y**2"
      ],
      "execution_count": 2,
      "outputs": [
        {
          "output_type": "execute_result",
          "data": {
            "text/plain": [
              "<function __main__.<lambda>>"
            ]
          },
          "metadata": {},
          "execution_count": 2
        }
      ]
    },
    {
      "cell_type": "markdown",
      "metadata": {
        "id": "ZthOV-aZiFdg"
      },
      "source": [
        "## Menggunakan Lambda Expression"
      ]
    },
    {
      "cell_type": "markdown",
      "metadata": {
        "id": "H8KjBBhoiQA8"
      },
      "source": [
        "Intinya, lambda digunakan untuk membuat fungsi dalam satu baris ekspresi.\n",
        "\n",
        "Ini adalah format untuk membuat fungsi lambda:"
      ]
    },
    {
      "cell_type": "markdown",
      "metadata": {
        "id": "o6c5GEPeiOhi"
      },
      "source": [
        "<table>\n",
        "  <tr><td>\n",
        "    <img src='https://www.petanikode.com/img/python/lambda/lambda-expression.png'>\n",
        "  </td></tr>\n",
        "<table>\n",
        "\n",
        "\n"
      ]
    },
    {
      "cell_type": "markdown",
      "metadata": {
        "id": "k4J_DTFAiTf9"
      },
      "source": [
        "Lambda bisa memiliki lebih dari satu argumen atau parameter, tapi hanya bisa memiliki satu ekspresi atau isi."
      ]
    },
    {
      "cell_type": "code",
      "metadata": {
        "id": "qNqXIl8uiV6W"
      },
      "source": [
        "greeting = lambda name: print(f\"Hello, {name}\") "
      ],
      "execution_count": 3,
      "outputs": []
    },
    {
      "cell_type": "markdown",
      "metadata": {
        "id": "xn26H8oniWsj"
      },
      "source": [
        "Karena fungsi lambda tidak punya nama, jadi kita butuh variabel untuk menyimpannya.\n",
        "\n",
        "Nanti saat kita mau panggil, kita tinggal tuliskan saja nama variabelnya seperti ini:"
      ]
    },
    {
      "cell_type": "code",
      "metadata": {
        "colab": {
          "base_uri": "https://localhost:8080/"
        },
        "id": "VidTDtg6iYpN",
        "outputId": "d94cb3a8-967d-4f3f-bb83-6465a7df74ac"
      },
      "source": [
        "greeting(\"Dian\")\n",
        "greeting(\"Ayu\")"
      ],
      "execution_count": 4,
      "outputs": [
        {
          "output_type": "stream",
          "name": "stdout",
          "text": [
            "Hello, Dian\n",
            "Hello, Ayu\n"
          ]
        }
      ]
    },
    {
      "cell_type": "markdown",
      "metadata": {
        "id": "zBdO4yjml0uh"
      },
      "source": [
        "Beberapa contoh penggunaan fungsi lambda"
      ]
    },
    {
      "cell_type": "code",
      "metadata": {
        "colab": {
          "base_uri": "https://localhost:8080/"
        },
        "id": "uPBwEBL-1mRQ",
        "outputId": "9e69c622-231e-4bf0-9bac-79c5e07d929e"
      },
      "source": [
        "# Fungsi lambda untuk menambahkan angka 10 kepada argument input\n",
        "f = lambda x: x+10\n",
        "val1 = f(5)\n",
        "val2 = f(100)\n",
        "print(val1, val2)"
      ],
      "execution_count": 5,
      "outputs": [
        {
          "output_type": "stream",
          "name": "stdout",
          "text": [
            "15 110\n"
          ]
        }
      ]
    },
    {
      "cell_type": "code",
      "metadata": {
        "colab": {
          "base_uri": "https://localhost:8080/"
        },
        "id": "xh-kkFqrgWJS",
        "outputId": "2aecf0a5-f001-4c78-feaa-758da41c57bb"
      },
      "source": [
        "# fungsi lambda untuk mengalikan dua argumen input dan menampilkan hasilnya\n",
        "f = lambda x,y: x*y\n",
        "val3 = f(2,10)\n",
        "val4 = f(7,5)\n",
        "print(val3, val4)"
      ],
      "execution_count": 6,
      "outputs": [
        {
          "output_type": "stream",
          "name": "stdout",
          "text": [
            "20 35\n"
          ]
        }
      ]
    },
    {
      "cell_type": "markdown",
      "metadata": {
        "id": "Fk7KNJxomOa9"
      },
      "source": [
        "## Anonymous Function"
      ]
    },
    {
      "cell_type": "markdown",
      "metadata": {
        "id": "cU0vXD_bizoO"
      },
      "source": [
        "Karena lambda adalah anonymous function, ia akan bebas menggunakan nama apa saja. Dengan kata lain, fungsi lambda bisa disimpan di variabel mana pun. Ini tentunya tidak bisa dilakukan oleh fungsi yang dibuat dengan def. Coba perhatikan ini:"
      ]
    },
    {
      "cell_type": "code",
      "metadata": {
        "colab": {
          "base_uri": "https://localhost:8080/"
        },
        "id": "8sHNEPh_mW5V",
        "outputId": "770973ba-4967-45ed-8cee-dd6e5108e982"
      },
      "source": [
        "def say_hello(nama):\n",
        "  print(f\"Hello {nama}, apa kabar?\")\n",
        "\n",
        "ucapin = say_hello('nama')"
      ],
      "execution_count": 8,
      "outputs": [
        {
          "output_type": "stream",
          "name": "stdout",
          "text": [
            "Hello nama, apa kabar?\n"
          ]
        }
      ]
    },
    {
      "cell_type": "markdown",
      "metadata": {
        "id": "GDEIh3NVjBk-"
      },
      "source": [
        "Saya mencoba membuat fungsi say_hello() dengan def, kemudian menyimpannya ke dalam variabel ucapin.\n",
        "\n",
        "Tapi malah error!\n",
        "\n",
        "Ini karena fungsi tersebut bukanlah fungsi anonymous yang boleh dibah-ubah namanya.\n",
        "\n",
        "Lalu coba perhatikan di baris terakhir, fungsi lambda greeting() yang sudah dibuat disimpan lagi ke variabel yang berbeda, yakni sapa."
      ]
    },
    {
      "cell_type": "code",
      "metadata": {
        "colab": {
          "base_uri": "https://localhost:8080/"
        },
        "id": "bpv3SI-Yi3hA",
        "outputId": "5d524eec-1625-4b9f-e603-36fdf146bdff"
      },
      "source": [
        "greeting = lambda name: print(f\"Hello, {name}\")\n",
        "sapa = greeting\n",
        "greeting(\"Andi\")\n",
        "sapa(\"Neli\")"
      ],
      "execution_count": 9,
      "outputs": [
        {
          "output_type": "stream",
          "name": "stdout",
          "text": [
            "Hello, Andi\n",
            "Hello, Neli\n"
          ]
        }
      ]
    },
    {
      "cell_type": "markdown",
      "metadata": {
        "id": "TOB7r7-YjGM8"
      },
      "source": [
        "Hasilnya tidak error, karena ini adalah fungsi anonymous atau lambda."
      ]
    },
    {
      "cell_type": "markdown",
      "metadata": {
        "id": "A8n-muVAm-P7"
      },
      "source": [
        "## Eksekusi Lambda Secara Langsung"
      ]
    },
    {
      "cell_type": "markdown",
      "metadata": {
        "id": "mm31yKzjjKdf"
      },
      "source": [
        "Eksekusi Lambda Secara Langsung\n",
        "Kelebihan fungsi lambda dibandingkan def adalah bisa kita eksekusi langsung.\n",
        "\n",
        "Contohnya:"
      ]
    },
    {
      "cell_type": "code",
      "metadata": {
        "colab": {
          "base_uri": "https://localhost:8080/"
        },
        "id": "POJK2urUjLS-",
        "outputId": "1e48f199-4347-47e1-be6e-f5d9a11f0298"
      },
      "source": [
        "(lambda x,y: x**2 + y**2)(4,6)"
      ],
      "execution_count": 10,
      "outputs": [
        {
          "output_type": "execute_result",
          "data": {
            "text/plain": [
              "52"
            ]
          },
          "metadata": {},
          "execution_count": 10
        }
      ]
    },
    {
      "cell_type": "markdown",
      "metadata": {
        "id": "KQCRBK_7jNA9"
      },
      "source": [
        "Tanda kurung yang mengapit fungsi lambda artinya kita akan langsung mengeksekusi fungsi tersebut.\n",
        "\n",
        "Lalu kurung berikutnya akan berisi parameter.\n",
        "\n",
        "Angka 4 dan 6 adalah parameter x dan y yang akan diberikan kepada fungsi lambda.\n",
        "\n",
        "Mak akita akan langsung mendapatkan hasilnya, yakni: 4**2 + 6**2 = 52.\n",
        "\n",
        "Hasil dari eksekusi ini bisa juga kita simpan ke dalam variabel."
      ]
    },
    {
      "cell_type": "code",
      "metadata": {
        "id": "E3pVAHNLjQLX"
      },
      "source": [
        "hasil = (lambda x,y: x**2 + y**2)(4,6)"
      ],
      "execution_count": 11,
      "outputs": []
    },
    {
      "cell_type": "markdown",
      "metadata": {
        "id": "15m5yj8ajQ3q"
      },
      "source": [
        "## Mengapa Harus Pakai Lambda?\n",
        "\n",
        "\n",
        "Kita memang tidak harus selalu menggunakan Lambda, tapi dalam kasus tertentu lambda lebih baik dibandingkan fungsi biasa.\n",
        "\n",
        "Lambda biasanya dibutuhkan saat kita ingin membuat fungsi dalam satu baris.\n",
        "\n",
        "Biasanya saat menggunakan fungsi-fungsi seperti `filter()`, `map()`, dan `reduce()` kita akan membutuhkan lambda.\n",
        "\n",
        "Mengapa?\n",
        "\n",
        "Karena di fungsi-fungsi tersebut membutuhkan parameter fungsi.\n",
        "\n",
        "Contoh:"
      ]
    },
    {
      "cell_type": "code",
      "metadata": {
        "colab": {
          "base_uri": "https://localhost:8080/"
        },
        "id": "yT3TVhV9j5dp",
        "outputId": "c8324ccb-1c26-472f-ba1f-e5b85d9bd044"
      },
      "source": [
        "bilangan = [10,2,8,7,5,4,3,11,0, 1]\n",
        "filtered_result = map (lambda x: x*x, bilangan) \n",
        "print(list(filtered_result))"
      ],
      "execution_count": 12,
      "outputs": [
        {
          "output_type": "stream",
          "name": "stdout",
          "text": [
            "[100, 4, 64, 49, 25, 16, 9, 121, 0, 1]\n"
          ]
        }
      ]
    },
    {
      "cell_type": "markdown",
      "metadata": {
        "id": "MYrk9bIFj7RY"
      },
      "source": [
        "Pada fungsi map() kita memberikan parameter dengan fungsi lambda.\n",
        "\n",
        "Mengapa bisa begitu?\n",
        "\n",
        "Karena lambda bisa disimpan ke dalam variabel, otmatis dia akan bisa juga jadi parameter.\n",
        "\n",
        "Satu lagi contoh dengan fungsi filter():"
      ]
    },
    {
      "cell_type": "code",
      "metadata": {
        "colab": {
          "base_uri": "https://localhost:8080/"
        },
        "id": "IOTYlvpqkAnV",
        "outputId": "71084bf0-e478-494e-c9fa-1016676596e7"
      },
      "source": [
        "# menentukan bilangan genap\n",
        "genap = lambda x: x%2 == 0\n",
        "list(filter(genap, range(11)))"
      ],
      "execution_count": 13,
      "outputs": [
        {
          "output_type": "execute_result",
          "data": {
            "text/plain": [
              "[0, 2, 4, 6, 8, 10]"
            ]
          },
          "metadata": {},
          "execution_count": 13
        }
      ]
    }
  ]
}