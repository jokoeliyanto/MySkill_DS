{
  "nbformat": 4,
  "nbformat_minor": 0,
  "metadata": {
    "colab": {
      "name": "Machine Learning - MySkill",
      "provenance": [],
      "collapsed_sections": [],
      "toc_visible": true,
      "authorship_tag": "ABX9TyOT1fhaxx+ZuP8WUiNb3GSr",
      "include_colab_link": true
    },
    "kernelspec": {
      "name": "python3",
      "display_name": "Python 3"
    },
    "language_info": {
      "name": "python"
    },
    "accelerator": "TPU",
    "gpuClass": "standard"
  },
  "cells": [
    {
      "cell_type": "markdown",
      "metadata": {
        "id": "view-in-github",
        "colab_type": "text"
      },
      "source": [
        "<a href=\"https://colab.research.google.com/github/jokoeliyanto/MySkill_DS/blob/main/Machine_Learning_MySkill.ipynb\" target=\"_parent\"><img src=\"https://colab.research.google.com/assets/colab-badge.svg\" alt=\"Open In Colab\"/></a>"
      ]
    },
    {
      "cell_type": "markdown",
      "source": [
        "# Churn Prediction\n",
        "\n",
        "Customer churn analysis refers to the customer attrition rate in a company. This analysis helps companies identify the cause of the churn and implement effective strategies for retention. Identifying customers who are likely to cancel their contracts soon.\n",
        "\n",
        "- If the company can do that, it can handle users before churn\n",
        "- The target variable that we want to predict is categorical and has only two possible outcomes: churn or not churn (Binary Classification).\n",
        "- We also would like to understand why the model thinks our customers churn, and for that, we need to be able to interpret the model’s predictions.\n",
        "\n",
        "We will use data from https://www.kaggle.com/blastchar/telco-customer-churn.\n",
        "\n",
        "According to the description, this dataset has the following information:\n",
        "\n",
        "- Services of the customers: phone; multiple lines; internet; tech support and extra services such as online security, backup, device protection, and TV streaming\n",
        "- Account information: how long they have been clients, type of contract, type of payment method\n",
        "- Charges: how much the client was charged in the past month and in total\n",
        "- Demographic information: gender, age, and whether they have dependents or a partner\n",
        "- Churn: yes/no, whether the customer left the company within the past month"
      ],
      "metadata": {
        "id": "tYmPss4wIvaV"
      }
    },
    {
      "cell_type": "markdown",
      "source": [
        "# Steps for Customer Churn Prediction\n",
        "\n",
        "The steps to be taken are,\n",
        "\n",
        "1. Loading the Dataset\n",
        "2. Understanding the Data\n",
        "3. Performing Exploratory Data Analysis\n",
        "4. Doing Data Pre-Processing\n",
        "5. Machine Learning Modelling\n",
        "6. Determining the Best Model"
      ],
      "metadata": {
        "id": "Rvpq0ECdLFm9"
      }
    },
    {
      "cell_type": "markdown",
      "source": [
        "## Import Library"
      ],
      "metadata": {
        "id": "HNhBUMVpJIZQ"
      }
    },
    {
      "cell_type": "code",
      "execution_count": null,
      "metadata": {
        "id": "JEBLbbbPHhPY"
      },
      "outputs": [],
      "source": [
        "import pandas as pd\n",
        "import numpy as np\n",
        "import matplotlib.pyplot as plt\n",
        "import seaborn as sns\n",
        "%matplotlib inline\n",
        "\n",
        "import warnings\n",
        "warnings.filterwarnings('ignore')"
      ]
    },
    {
      "cell_type": "markdown",
      "source": [
        "#1 Loading the Dataset"
      ],
      "metadata": {
        "id": "3IZ4iMb0LIhk"
      }
    },
    {
      "cell_type": "code",
      "source": [
        "# load the dataset\n",
        "df = pd.read_csv(\"telco_customer_churn.csv\")"
      ],
      "metadata": {
        "id": "0whCmMgUJLON"
      },
      "execution_count": null,
      "outputs": []
    },
    {
      "cell_type": "code",
      "source": [
        "# set the for show max columns\n",
        "pd.set_option('display.max_columns', None)"
      ],
      "metadata": {
        "id": "hnOxsciWKlAD"
      },
      "execution_count": null,
      "outputs": []
    },
    {
      "cell_type": "markdown",
      "source": [
        "# 2 Understanding the Data"
      ],
      "metadata": {
        "id": "oGCygNtaLdt3"
      }
    },
    {
      "cell_type": "code",
      "source": [
        "df.head(8)"
      ],
      "metadata": {
        "colab": {
          "base_uri": "https://localhost:8080/",
          "height": 503
        },
        "id": "jSFOwmj7yV7Z",
        "outputId": "a8d3e43c-0dd9-4cbc-d350-a4942311c1a9"
      },
      "execution_count": null,
      "outputs": [
        {
          "output_type": "execute_result",
          "data": {
            "text/plain": [
              "   customerID  gender  SeniorCitizen Partner Dependents  tenure PhoneService  \\\n",
              "0  7590-VHVEG  Female              0     Yes         No       1           No   \n",
              "1  5575-GNVDE    Male              0      No         No      34          Yes   \n",
              "2  3668-QPYBK    Male              0      No         No       2          Yes   \n",
              "3  7795-CFOCW    Male              0      No         No      45           No   \n",
              "4  9237-HQITU  Female              0      No         No       2          Yes   \n",
              "5  9305-CDSKC  Female              0      No         No       8          Yes   \n",
              "6  1452-KIOVK    Male              0      No        Yes      22          Yes   \n",
              "7  6713-OKOMC  Female              0      No         No      10           No   \n",
              "\n",
              "      MultipleLines InternetService OnlineSecurity OnlineBackup  \\\n",
              "0  No phone service             DSL             No          Yes   \n",
              "1                No             DSL            Yes           No   \n",
              "2                No             DSL            Yes          Yes   \n",
              "3  No phone service             DSL            Yes           No   \n",
              "4                No     Fiber optic             No           No   \n",
              "5               Yes     Fiber optic             No           No   \n",
              "6               Yes     Fiber optic             No          Yes   \n",
              "7  No phone service             DSL            Yes           No   \n",
              "\n",
              "  DeviceProtection TechSupport StreamingTV StreamingMovies        Contract  \\\n",
              "0               No          No          No              No  Month-to-month   \n",
              "1              Yes          No          No              No        One year   \n",
              "2               No          No          No              No  Month-to-month   \n",
              "3              Yes         Yes          No              No        One year   \n",
              "4               No          No          No              No  Month-to-month   \n",
              "5              Yes          No         Yes             Yes  Month-to-month   \n",
              "6               No          No         Yes              No  Month-to-month   \n",
              "7               No          No          No              No  Month-to-month   \n",
              "\n",
              "  PaperlessBilling              PaymentMethod  MonthlyCharges TotalCharges  \\\n",
              "0              Yes           Electronic check           29.85        29.85   \n",
              "1               No               Mailed check           56.95       1889.5   \n",
              "2              Yes               Mailed check           53.85       108.15   \n",
              "3               No  Bank transfer (automatic)           42.30      1840.75   \n",
              "4              Yes           Electronic check           70.70       151.65   \n",
              "5              Yes           Electronic check           99.65        820.5   \n",
              "6              Yes    Credit card (automatic)           89.10       1949.4   \n",
              "7               No               Mailed check           29.75        301.9   \n",
              "\n",
              "  Churn  \n",
              "0    No  \n",
              "1    No  \n",
              "2   Yes  \n",
              "3    No  \n",
              "4   Yes  \n",
              "5   Yes  \n",
              "6    No  \n",
              "7    No  "
            ],
            "text/html": [
              "\n",
              "  <div id=\"df-6a6b0529-33ef-47a8-8ee5-786b8606e9e6\">\n",
              "    <div class=\"colab-df-container\">\n",
              "      <div>\n",
              "<style scoped>\n",
              "    .dataframe tbody tr th:only-of-type {\n",
              "        vertical-align: middle;\n",
              "    }\n",
              "\n",
              "    .dataframe tbody tr th {\n",
              "        vertical-align: top;\n",
              "    }\n",
              "\n",
              "    .dataframe thead th {\n",
              "        text-align: right;\n",
              "    }\n",
              "</style>\n",
              "<table border=\"1\" class=\"dataframe\">\n",
              "  <thead>\n",
              "    <tr style=\"text-align: right;\">\n",
              "      <th></th>\n",
              "      <th>customerID</th>\n",
              "      <th>gender</th>\n",
              "      <th>SeniorCitizen</th>\n",
              "      <th>Partner</th>\n",
              "      <th>Dependents</th>\n",
              "      <th>tenure</th>\n",
              "      <th>PhoneService</th>\n",
              "      <th>MultipleLines</th>\n",
              "      <th>InternetService</th>\n",
              "      <th>OnlineSecurity</th>\n",
              "      <th>OnlineBackup</th>\n",
              "      <th>DeviceProtection</th>\n",
              "      <th>TechSupport</th>\n",
              "      <th>StreamingTV</th>\n",
              "      <th>StreamingMovies</th>\n",
              "      <th>Contract</th>\n",
              "      <th>PaperlessBilling</th>\n",
              "      <th>PaymentMethod</th>\n",
              "      <th>MonthlyCharges</th>\n",
              "      <th>TotalCharges</th>\n",
              "      <th>Churn</th>\n",
              "    </tr>\n",
              "  </thead>\n",
              "  <tbody>\n",
              "    <tr>\n",
              "      <th>0</th>\n",
              "      <td>7590-VHVEG</td>\n",
              "      <td>Female</td>\n",
              "      <td>0</td>\n",
              "      <td>Yes</td>\n",
              "      <td>No</td>\n",
              "      <td>1</td>\n",
              "      <td>No</td>\n",
              "      <td>No phone service</td>\n",
              "      <td>DSL</td>\n",
              "      <td>No</td>\n",
              "      <td>Yes</td>\n",
              "      <td>No</td>\n",
              "      <td>No</td>\n",
              "      <td>No</td>\n",
              "      <td>No</td>\n",
              "      <td>Month-to-month</td>\n",
              "      <td>Yes</td>\n",
              "      <td>Electronic check</td>\n",
              "      <td>29.85</td>\n",
              "      <td>29.85</td>\n",
              "      <td>No</td>\n",
              "    </tr>\n",
              "    <tr>\n",
              "      <th>1</th>\n",
              "      <td>5575-GNVDE</td>\n",
              "      <td>Male</td>\n",
              "      <td>0</td>\n",
              "      <td>No</td>\n",
              "      <td>No</td>\n",
              "      <td>34</td>\n",
              "      <td>Yes</td>\n",
              "      <td>No</td>\n",
              "      <td>DSL</td>\n",
              "      <td>Yes</td>\n",
              "      <td>No</td>\n",
              "      <td>Yes</td>\n",
              "      <td>No</td>\n",
              "      <td>No</td>\n",
              "      <td>No</td>\n",
              "      <td>One year</td>\n",
              "      <td>No</td>\n",
              "      <td>Mailed check</td>\n",
              "      <td>56.95</td>\n",
              "      <td>1889.5</td>\n",
              "      <td>No</td>\n",
              "    </tr>\n",
              "    <tr>\n",
              "      <th>2</th>\n",
              "      <td>3668-QPYBK</td>\n",
              "      <td>Male</td>\n",
              "      <td>0</td>\n",
              "      <td>No</td>\n",
              "      <td>No</td>\n",
              "      <td>2</td>\n",
              "      <td>Yes</td>\n",
              "      <td>No</td>\n",
              "      <td>DSL</td>\n",
              "      <td>Yes</td>\n",
              "      <td>Yes</td>\n",
              "      <td>No</td>\n",
              "      <td>No</td>\n",
              "      <td>No</td>\n",
              "      <td>No</td>\n",
              "      <td>Month-to-month</td>\n",
              "      <td>Yes</td>\n",
              "      <td>Mailed check</td>\n",
              "      <td>53.85</td>\n",
              "      <td>108.15</td>\n",
              "      <td>Yes</td>\n",
              "    </tr>\n",
              "    <tr>\n",
              "      <th>3</th>\n",
              "      <td>7795-CFOCW</td>\n",
              "      <td>Male</td>\n",
              "      <td>0</td>\n",
              "      <td>No</td>\n",
              "      <td>No</td>\n",
              "      <td>45</td>\n",
              "      <td>No</td>\n",
              "      <td>No phone service</td>\n",
              "      <td>DSL</td>\n",
              "      <td>Yes</td>\n",
              "      <td>No</td>\n",
              "      <td>Yes</td>\n",
              "      <td>Yes</td>\n",
              "      <td>No</td>\n",
              "      <td>No</td>\n",
              "      <td>One year</td>\n",
              "      <td>No</td>\n",
              "      <td>Bank transfer (automatic)</td>\n",
              "      <td>42.30</td>\n",
              "      <td>1840.75</td>\n",
              "      <td>No</td>\n",
              "    </tr>\n",
              "    <tr>\n",
              "      <th>4</th>\n",
              "      <td>9237-HQITU</td>\n",
              "      <td>Female</td>\n",
              "      <td>0</td>\n",
              "      <td>No</td>\n",
              "      <td>No</td>\n",
              "      <td>2</td>\n",
              "      <td>Yes</td>\n",
              "      <td>No</td>\n",
              "      <td>Fiber optic</td>\n",
              "      <td>No</td>\n",
              "      <td>No</td>\n",
              "      <td>No</td>\n",
              "      <td>No</td>\n",
              "      <td>No</td>\n",
              "      <td>No</td>\n",
              "      <td>Month-to-month</td>\n",
              "      <td>Yes</td>\n",
              "      <td>Electronic check</td>\n",
              "      <td>70.70</td>\n",
              "      <td>151.65</td>\n",
              "      <td>Yes</td>\n",
              "    </tr>\n",
              "    <tr>\n",
              "      <th>5</th>\n",
              "      <td>9305-CDSKC</td>\n",
              "      <td>Female</td>\n",
              "      <td>0</td>\n",
              "      <td>No</td>\n",
              "      <td>No</td>\n",
              "      <td>8</td>\n",
              "      <td>Yes</td>\n",
              "      <td>Yes</td>\n",
              "      <td>Fiber optic</td>\n",
              "      <td>No</td>\n",
              "      <td>No</td>\n",
              "      <td>Yes</td>\n",
              "      <td>No</td>\n",
              "      <td>Yes</td>\n",
              "      <td>Yes</td>\n",
              "      <td>Month-to-month</td>\n",
              "      <td>Yes</td>\n",
              "      <td>Electronic check</td>\n",
              "      <td>99.65</td>\n",
              "      <td>820.5</td>\n",
              "      <td>Yes</td>\n",
              "    </tr>\n",
              "    <tr>\n",
              "      <th>6</th>\n",
              "      <td>1452-KIOVK</td>\n",
              "      <td>Male</td>\n",
              "      <td>0</td>\n",
              "      <td>No</td>\n",
              "      <td>Yes</td>\n",
              "      <td>22</td>\n",
              "      <td>Yes</td>\n",
              "      <td>Yes</td>\n",
              "      <td>Fiber optic</td>\n",
              "      <td>No</td>\n",
              "      <td>Yes</td>\n",
              "      <td>No</td>\n",
              "      <td>No</td>\n",
              "      <td>Yes</td>\n",
              "      <td>No</td>\n",
              "      <td>Month-to-month</td>\n",
              "      <td>Yes</td>\n",
              "      <td>Credit card (automatic)</td>\n",
              "      <td>89.10</td>\n",
              "      <td>1949.4</td>\n",
              "      <td>No</td>\n",
              "    </tr>\n",
              "    <tr>\n",
              "      <th>7</th>\n",
              "      <td>6713-OKOMC</td>\n",
              "      <td>Female</td>\n",
              "      <td>0</td>\n",
              "      <td>No</td>\n",
              "      <td>No</td>\n",
              "      <td>10</td>\n",
              "      <td>No</td>\n",
              "      <td>No phone service</td>\n",
              "      <td>DSL</td>\n",
              "      <td>Yes</td>\n",
              "      <td>No</td>\n",
              "      <td>No</td>\n",
              "      <td>No</td>\n",
              "      <td>No</td>\n",
              "      <td>No</td>\n",
              "      <td>Month-to-month</td>\n",
              "      <td>No</td>\n",
              "      <td>Mailed check</td>\n",
              "      <td>29.75</td>\n",
              "      <td>301.9</td>\n",
              "      <td>No</td>\n",
              "    </tr>\n",
              "  </tbody>\n",
              "</table>\n",
              "</div>\n",
              "      <button class=\"colab-df-convert\" onclick=\"convertToInteractive('df-6a6b0529-33ef-47a8-8ee5-786b8606e9e6')\"\n",
              "              title=\"Convert this dataframe to an interactive table.\"\n",
              "              style=\"display:none;\">\n",
              "        \n",
              "  <svg xmlns=\"http://www.w3.org/2000/svg\" height=\"24px\"viewBox=\"0 0 24 24\"\n",
              "       width=\"24px\">\n",
              "    <path d=\"M0 0h24v24H0V0z\" fill=\"none\"/>\n",
              "    <path d=\"M18.56 5.44l.94 2.06.94-2.06 2.06-.94-2.06-.94-.94-2.06-.94 2.06-2.06.94zm-11 1L8.5 8.5l.94-2.06 2.06-.94-2.06-.94L8.5 2.5l-.94 2.06-2.06.94zm10 10l.94 2.06.94-2.06 2.06-.94-2.06-.94-.94-2.06-.94 2.06-2.06.94z\"/><path d=\"M17.41 7.96l-1.37-1.37c-.4-.4-.92-.59-1.43-.59-.52 0-1.04.2-1.43.59L10.3 9.45l-7.72 7.72c-.78.78-.78 2.05 0 2.83L4 21.41c.39.39.9.59 1.41.59.51 0 1.02-.2 1.41-.59l7.78-7.78 2.81-2.81c.8-.78.8-2.07 0-2.86zM5.41 20L4 18.59l7.72-7.72 1.47 1.35L5.41 20z\"/>\n",
              "  </svg>\n",
              "      </button>\n",
              "      \n",
              "  <style>\n",
              "    .colab-df-container {\n",
              "      display:flex;\n",
              "      flex-wrap:wrap;\n",
              "      gap: 12px;\n",
              "    }\n",
              "\n",
              "    .colab-df-convert {\n",
              "      background-color: #E8F0FE;\n",
              "      border: none;\n",
              "      border-radius: 50%;\n",
              "      cursor: pointer;\n",
              "      display: none;\n",
              "      fill: #1967D2;\n",
              "      height: 32px;\n",
              "      padding: 0 0 0 0;\n",
              "      width: 32px;\n",
              "    }\n",
              "\n",
              "    .colab-df-convert:hover {\n",
              "      background-color: #E2EBFA;\n",
              "      box-shadow: 0px 1px 2px rgba(60, 64, 67, 0.3), 0px 1px 3px 1px rgba(60, 64, 67, 0.15);\n",
              "      fill: #174EA6;\n",
              "    }\n",
              "\n",
              "    [theme=dark] .colab-df-convert {\n",
              "      background-color: #3B4455;\n",
              "      fill: #D2E3FC;\n",
              "    }\n",
              "\n",
              "    [theme=dark] .colab-df-convert:hover {\n",
              "      background-color: #434B5C;\n",
              "      box-shadow: 0px 1px 3px 1px rgba(0, 0, 0, 0.15);\n",
              "      filter: drop-shadow(0px 1px 2px rgba(0, 0, 0, 0.3));\n",
              "      fill: #FFFFFF;\n",
              "    }\n",
              "  </style>\n",
              "\n",
              "      <script>\n",
              "        const buttonEl =\n",
              "          document.querySelector('#df-6a6b0529-33ef-47a8-8ee5-786b8606e9e6 button.colab-df-convert');\n",
              "        buttonEl.style.display =\n",
              "          google.colab.kernel.accessAllowed ? 'block' : 'none';\n",
              "\n",
              "        async function convertToInteractive(key) {\n",
              "          const element = document.querySelector('#df-6a6b0529-33ef-47a8-8ee5-786b8606e9e6');\n",
              "          const dataTable =\n",
              "            await google.colab.kernel.invokeFunction('convertToInteractive',\n",
              "                                                     [key], {});\n",
              "          if (!dataTable) return;\n",
              "\n",
              "          const docLinkHtml = 'Like what you see? Visit the ' +\n",
              "            '<a target=\"_blank\" href=https://colab.research.google.com/notebooks/data_table.ipynb>data table notebook</a>'\n",
              "            + ' to learn more about interactive tables.';\n",
              "          element.innerHTML = '';\n",
              "          dataTable['output_type'] = 'display_data';\n",
              "          await google.colab.output.renderOutput(dataTable, element);\n",
              "          const docLink = document.createElement('div');\n",
              "          docLink.innerHTML = docLinkHtml;\n",
              "          element.appendChild(docLink);\n",
              "        }\n",
              "      </script>\n",
              "    </div>\n",
              "  </div>\n",
              "  "
            ]
          },
          "metadata": {},
          "execution_count": 34
        }
      ]
    },
    {
      "cell_type": "code",
      "source": [
        "# Chek data sample\n",
        "df.sample(10)"
      ],
      "metadata": {
        "colab": {
          "base_uri": "https://localhost:8080/",
          "height": 600
        },
        "id": "q3OpXDKQK5mc",
        "outputId": "e10c70be-bebc-4ab4-e060-8e0b2b9ad7c2"
      },
      "execution_count": null,
      "outputs": [
        {
          "output_type": "execute_result",
          "data": {
            "text/plain": [
              "      customerID  gender  SeniorCitizen Partner Dependents  tenure  \\\n",
              "6272  4636-OLWOE    Male              0      No        Yes      54   \n",
              "4531  4910-AQFFX    Male              0     Yes        Yes       9   \n",
              "796   2040-OBMLJ    Male              0      No         No      31   \n",
              "868   3313-QKNKB    Male              0     Yes         No      59   \n",
              "6557  8709-KRDVL  Female              0      No         No      33   \n",
              "3210  9055-MOJJJ  Female              0     Yes        Yes      64   \n",
              "5251  8485-GJCDN  Female              1      No         No       5   \n",
              "2357  9251-WNSOD  Female              0     Yes         No      67   \n",
              "5600  3799-ISUZQ    Male              0     Yes        Yes       7   \n",
              "3593  9540-JYROE    Male              0      No         No       8   \n",
              "\n",
              "     PhoneService MultipleLines InternetService OnlineSecurity OnlineBackup  \\\n",
              "6272          Yes            No             DSL             No          Yes   \n",
              "4531          Yes           Yes     Fiber optic             No           No   \n",
              "796           Yes           Yes     Fiber optic             No           No   \n",
              "868           Yes           Yes     Fiber optic             No           No   \n",
              "6557          Yes           Yes     Fiber optic             No          Yes   \n",
              "3210          Yes            No             DSL            Yes           No   \n",
              "5251          Yes            No     Fiber optic             No           No   \n",
              "2357          Yes           Yes             DSL            Yes          Yes   \n",
              "5600          Yes            No     Fiber optic             No           No   \n",
              "3593          Yes            No     Fiber optic             No           No   \n",
              "\n",
              "     DeviceProtection TechSupport StreamingTV StreamingMovies        Contract  \\\n",
              "6272              Yes         Yes          No              No        One year   \n",
              "4531              Yes          No          No              No  Month-to-month   \n",
              "796                No         Yes          No              No        One year   \n",
              "868                No          No          No             Yes        One year   \n",
              "6557               No          No         Yes             Yes  Month-to-month   \n",
              "3210               No         Yes         Yes              No        One year   \n",
              "5251               No          No          No              No  Month-to-month   \n",
              "2357              Yes          No          No             Yes        One year   \n",
              "5600               No          No          No              No  Month-to-month   \n",
              "3593               No          No          No              No  Month-to-month   \n",
              "\n",
              "     PaperlessBilling              PaymentMethod  MonthlyCharges TotalCharges  \\\n",
              "6272              Yes           Electronic check           61.00      3283.05   \n",
              "4531              Yes  Bank transfer (automatic)           79.35       661.25   \n",
              "796                No    Credit card (automatic)           81.70      2548.65   \n",
              "868                No           Electronic check           85.55      5084.65   \n",
              "6557              Yes           Electronic check          100.00       3320.6   \n",
              "3210               No               Mailed check           65.80         4068   \n",
              "5251              Yes               Mailed check           69.05        318.5   \n",
              "2357               No               Mailed check           75.10      5064.45   \n",
              "5600              Yes  Bank transfer (automatic)           69.95        529.5   \n",
              "3593              Yes               Mailed check           70.10       551.35   \n",
              "\n",
              "     Churn  \n",
              "6272    No  \n",
              "4531   Yes  \n",
              "796     No  \n",
              "868    Yes  \n",
              "6557    No  \n",
              "3210    No  \n",
              "5251   Yes  \n",
              "2357    No  \n",
              "5600   Yes  \n",
              "3593   Yes  "
            ],
            "text/html": [
              "\n",
              "  <div id=\"df-3bf4a010-37ac-49e0-b6da-a44979e6f4e9\">\n",
              "    <div class=\"colab-df-container\">\n",
              "      <div>\n",
              "<style scoped>\n",
              "    .dataframe tbody tr th:only-of-type {\n",
              "        vertical-align: middle;\n",
              "    }\n",
              "\n",
              "    .dataframe tbody tr th {\n",
              "        vertical-align: top;\n",
              "    }\n",
              "\n",
              "    .dataframe thead th {\n",
              "        text-align: right;\n",
              "    }\n",
              "</style>\n",
              "<table border=\"1\" class=\"dataframe\">\n",
              "  <thead>\n",
              "    <tr style=\"text-align: right;\">\n",
              "      <th></th>\n",
              "      <th>customerID</th>\n",
              "      <th>gender</th>\n",
              "      <th>SeniorCitizen</th>\n",
              "      <th>Partner</th>\n",
              "      <th>Dependents</th>\n",
              "      <th>tenure</th>\n",
              "      <th>PhoneService</th>\n",
              "      <th>MultipleLines</th>\n",
              "      <th>InternetService</th>\n",
              "      <th>OnlineSecurity</th>\n",
              "      <th>OnlineBackup</th>\n",
              "      <th>DeviceProtection</th>\n",
              "      <th>TechSupport</th>\n",
              "      <th>StreamingTV</th>\n",
              "      <th>StreamingMovies</th>\n",
              "      <th>Contract</th>\n",
              "      <th>PaperlessBilling</th>\n",
              "      <th>PaymentMethod</th>\n",
              "      <th>MonthlyCharges</th>\n",
              "      <th>TotalCharges</th>\n",
              "      <th>Churn</th>\n",
              "    </tr>\n",
              "  </thead>\n",
              "  <tbody>\n",
              "    <tr>\n",
              "      <th>6272</th>\n",
              "      <td>4636-OLWOE</td>\n",
              "      <td>Male</td>\n",
              "      <td>0</td>\n",
              "      <td>No</td>\n",
              "      <td>Yes</td>\n",
              "      <td>54</td>\n",
              "      <td>Yes</td>\n",
              "      <td>No</td>\n",
              "      <td>DSL</td>\n",
              "      <td>No</td>\n",
              "      <td>Yes</td>\n",
              "      <td>Yes</td>\n",
              "      <td>Yes</td>\n",
              "      <td>No</td>\n",
              "      <td>No</td>\n",
              "      <td>One year</td>\n",
              "      <td>Yes</td>\n",
              "      <td>Electronic check</td>\n",
              "      <td>61.00</td>\n",
              "      <td>3283.05</td>\n",
              "      <td>No</td>\n",
              "    </tr>\n",
              "    <tr>\n",
              "      <th>4531</th>\n",
              "      <td>4910-AQFFX</td>\n",
              "      <td>Male</td>\n",
              "      <td>0</td>\n",
              "      <td>Yes</td>\n",
              "      <td>Yes</td>\n",
              "      <td>9</td>\n",
              "      <td>Yes</td>\n",
              "      <td>Yes</td>\n",
              "      <td>Fiber optic</td>\n",
              "      <td>No</td>\n",
              "      <td>No</td>\n",
              "      <td>Yes</td>\n",
              "      <td>No</td>\n",
              "      <td>No</td>\n",
              "      <td>No</td>\n",
              "      <td>Month-to-month</td>\n",
              "      <td>Yes</td>\n",
              "      <td>Bank transfer (automatic)</td>\n",
              "      <td>79.35</td>\n",
              "      <td>661.25</td>\n",
              "      <td>Yes</td>\n",
              "    </tr>\n",
              "    <tr>\n",
              "      <th>796</th>\n",
              "      <td>2040-OBMLJ</td>\n",
              "      <td>Male</td>\n",
              "      <td>0</td>\n",
              "      <td>No</td>\n",
              "      <td>No</td>\n",
              "      <td>31</td>\n",
              "      <td>Yes</td>\n",
              "      <td>Yes</td>\n",
              "      <td>Fiber optic</td>\n",
              "      <td>No</td>\n",
              "      <td>No</td>\n",
              "      <td>No</td>\n",
              "      <td>Yes</td>\n",
              "      <td>No</td>\n",
              "      <td>No</td>\n",
              "      <td>One year</td>\n",
              "      <td>No</td>\n",
              "      <td>Credit card (automatic)</td>\n",
              "      <td>81.70</td>\n",
              "      <td>2548.65</td>\n",
              "      <td>No</td>\n",
              "    </tr>\n",
              "    <tr>\n",
              "      <th>868</th>\n",
              "      <td>3313-QKNKB</td>\n",
              "      <td>Male</td>\n",
              "      <td>0</td>\n",
              "      <td>Yes</td>\n",
              "      <td>No</td>\n",
              "      <td>59</td>\n",
              "      <td>Yes</td>\n",
              "      <td>Yes</td>\n",
              "      <td>Fiber optic</td>\n",
              "      <td>No</td>\n",
              "      <td>No</td>\n",
              "      <td>No</td>\n",
              "      <td>No</td>\n",
              "      <td>No</td>\n",
              "      <td>Yes</td>\n",
              "      <td>One year</td>\n",
              "      <td>No</td>\n",
              "      <td>Electronic check</td>\n",
              "      <td>85.55</td>\n",
              "      <td>5084.65</td>\n",
              "      <td>Yes</td>\n",
              "    </tr>\n",
              "    <tr>\n",
              "      <th>6557</th>\n",
              "      <td>8709-KRDVL</td>\n",
              "      <td>Female</td>\n",
              "      <td>0</td>\n",
              "      <td>No</td>\n",
              "      <td>No</td>\n",
              "      <td>33</td>\n",
              "      <td>Yes</td>\n",
              "      <td>Yes</td>\n",
              "      <td>Fiber optic</td>\n",
              "      <td>No</td>\n",
              "      <td>Yes</td>\n",
              "      <td>No</td>\n",
              "      <td>No</td>\n",
              "      <td>Yes</td>\n",
              "      <td>Yes</td>\n",
              "      <td>Month-to-month</td>\n",
              "      <td>Yes</td>\n",
              "      <td>Electronic check</td>\n",
              "      <td>100.00</td>\n",
              "      <td>3320.6</td>\n",
              "      <td>No</td>\n",
              "    </tr>\n",
              "    <tr>\n",
              "      <th>3210</th>\n",
              "      <td>9055-MOJJJ</td>\n",
              "      <td>Female</td>\n",
              "      <td>0</td>\n",
              "      <td>Yes</td>\n",
              "      <td>Yes</td>\n",
              "      <td>64</td>\n",
              "      <td>Yes</td>\n",
              "      <td>No</td>\n",
              "      <td>DSL</td>\n",
              "      <td>Yes</td>\n",
              "      <td>No</td>\n",
              "      <td>No</td>\n",
              "      <td>Yes</td>\n",
              "      <td>Yes</td>\n",
              "      <td>No</td>\n",
              "      <td>One year</td>\n",
              "      <td>No</td>\n",
              "      <td>Mailed check</td>\n",
              "      <td>65.80</td>\n",
              "      <td>4068</td>\n",
              "      <td>No</td>\n",
              "    </tr>\n",
              "    <tr>\n",
              "      <th>5251</th>\n",
              "      <td>8485-GJCDN</td>\n",
              "      <td>Female</td>\n",
              "      <td>1</td>\n",
              "      <td>No</td>\n",
              "      <td>No</td>\n",
              "      <td>5</td>\n",
              "      <td>Yes</td>\n",
              "      <td>No</td>\n",
              "      <td>Fiber optic</td>\n",
              "      <td>No</td>\n",
              "      <td>No</td>\n",
              "      <td>No</td>\n",
              "      <td>No</td>\n",
              "      <td>No</td>\n",
              "      <td>No</td>\n",
              "      <td>Month-to-month</td>\n",
              "      <td>Yes</td>\n",
              "      <td>Mailed check</td>\n",
              "      <td>69.05</td>\n",
              "      <td>318.5</td>\n",
              "      <td>Yes</td>\n",
              "    </tr>\n",
              "    <tr>\n",
              "      <th>2357</th>\n",
              "      <td>9251-WNSOD</td>\n",
              "      <td>Female</td>\n",
              "      <td>0</td>\n",
              "      <td>Yes</td>\n",
              "      <td>No</td>\n",
              "      <td>67</td>\n",
              "      <td>Yes</td>\n",
              "      <td>Yes</td>\n",
              "      <td>DSL</td>\n",
              "      <td>Yes</td>\n",
              "      <td>Yes</td>\n",
              "      <td>Yes</td>\n",
              "      <td>No</td>\n",
              "      <td>No</td>\n",
              "      <td>Yes</td>\n",
              "      <td>One year</td>\n",
              "      <td>No</td>\n",
              "      <td>Mailed check</td>\n",
              "      <td>75.10</td>\n",
              "      <td>5064.45</td>\n",
              "      <td>No</td>\n",
              "    </tr>\n",
              "    <tr>\n",
              "      <th>5600</th>\n",
              "      <td>3799-ISUZQ</td>\n",
              "      <td>Male</td>\n",
              "      <td>0</td>\n",
              "      <td>Yes</td>\n",
              "      <td>Yes</td>\n",
              "      <td>7</td>\n",
              "      <td>Yes</td>\n",
              "      <td>No</td>\n",
              "      <td>Fiber optic</td>\n",
              "      <td>No</td>\n",
              "      <td>No</td>\n",
              "      <td>No</td>\n",
              "      <td>No</td>\n",
              "      <td>No</td>\n",
              "      <td>No</td>\n",
              "      <td>Month-to-month</td>\n",
              "      <td>Yes</td>\n",
              "      <td>Bank transfer (automatic)</td>\n",
              "      <td>69.95</td>\n",
              "      <td>529.5</td>\n",
              "      <td>Yes</td>\n",
              "    </tr>\n",
              "    <tr>\n",
              "      <th>3593</th>\n",
              "      <td>9540-JYROE</td>\n",
              "      <td>Male</td>\n",
              "      <td>0</td>\n",
              "      <td>No</td>\n",
              "      <td>No</td>\n",
              "      <td>8</td>\n",
              "      <td>Yes</td>\n",
              "      <td>No</td>\n",
              "      <td>Fiber optic</td>\n",
              "      <td>No</td>\n",
              "      <td>No</td>\n",
              "      <td>No</td>\n",
              "      <td>No</td>\n",
              "      <td>No</td>\n",
              "      <td>No</td>\n",
              "      <td>Month-to-month</td>\n",
              "      <td>Yes</td>\n",
              "      <td>Mailed check</td>\n",
              "      <td>70.10</td>\n",
              "      <td>551.35</td>\n",
              "      <td>Yes</td>\n",
              "    </tr>\n",
              "  </tbody>\n",
              "</table>\n",
              "</div>\n",
              "      <button class=\"colab-df-convert\" onclick=\"convertToInteractive('df-3bf4a010-37ac-49e0-b6da-a44979e6f4e9')\"\n",
              "              title=\"Convert this dataframe to an interactive table.\"\n",
              "              style=\"display:none;\">\n",
              "        \n",
              "  <svg xmlns=\"http://www.w3.org/2000/svg\" height=\"24px\"viewBox=\"0 0 24 24\"\n",
              "       width=\"24px\">\n",
              "    <path d=\"M0 0h24v24H0V0z\" fill=\"none\"/>\n",
              "    <path d=\"M18.56 5.44l.94 2.06.94-2.06 2.06-.94-2.06-.94-.94-2.06-.94 2.06-2.06.94zm-11 1L8.5 8.5l.94-2.06 2.06-.94-2.06-.94L8.5 2.5l-.94 2.06-2.06.94zm10 10l.94 2.06.94-2.06 2.06-.94-2.06-.94-.94-2.06-.94 2.06-2.06.94z\"/><path d=\"M17.41 7.96l-1.37-1.37c-.4-.4-.92-.59-1.43-.59-.52 0-1.04.2-1.43.59L10.3 9.45l-7.72 7.72c-.78.78-.78 2.05 0 2.83L4 21.41c.39.39.9.59 1.41.59.51 0 1.02-.2 1.41-.59l7.78-7.78 2.81-2.81c.8-.78.8-2.07 0-2.86zM5.41 20L4 18.59l7.72-7.72 1.47 1.35L5.41 20z\"/>\n",
              "  </svg>\n",
              "      </button>\n",
              "      \n",
              "  <style>\n",
              "    .colab-df-container {\n",
              "      display:flex;\n",
              "      flex-wrap:wrap;\n",
              "      gap: 12px;\n",
              "    }\n",
              "\n",
              "    .colab-df-convert {\n",
              "      background-color: #E8F0FE;\n",
              "      border: none;\n",
              "      border-radius: 50%;\n",
              "      cursor: pointer;\n",
              "      display: none;\n",
              "      fill: #1967D2;\n",
              "      height: 32px;\n",
              "      padding: 0 0 0 0;\n",
              "      width: 32px;\n",
              "    }\n",
              "\n",
              "    .colab-df-convert:hover {\n",
              "      background-color: #E2EBFA;\n",
              "      box-shadow: 0px 1px 2px rgba(60, 64, 67, 0.3), 0px 1px 3px 1px rgba(60, 64, 67, 0.15);\n",
              "      fill: #174EA6;\n",
              "    }\n",
              "\n",
              "    [theme=dark] .colab-df-convert {\n",
              "      background-color: #3B4455;\n",
              "      fill: #D2E3FC;\n",
              "    }\n",
              "\n",
              "    [theme=dark] .colab-df-convert:hover {\n",
              "      background-color: #434B5C;\n",
              "      box-shadow: 0px 1px 3px 1px rgba(0, 0, 0, 0.15);\n",
              "      filter: drop-shadow(0px 1px 2px rgba(0, 0, 0, 0.3));\n",
              "      fill: #FFFFFF;\n",
              "    }\n",
              "  </style>\n",
              "\n",
              "      <script>\n",
              "        const buttonEl =\n",
              "          document.querySelector('#df-3bf4a010-37ac-49e0-b6da-a44979e6f4e9 button.colab-df-convert');\n",
              "        buttonEl.style.display =\n",
              "          google.colab.kernel.accessAllowed ? 'block' : 'none';\n",
              "\n",
              "        async function convertToInteractive(key) {\n",
              "          const element = document.querySelector('#df-3bf4a010-37ac-49e0-b6da-a44979e6f4e9');\n",
              "          const dataTable =\n",
              "            await google.colab.kernel.invokeFunction('convertToInteractive',\n",
              "                                                     [key], {});\n",
              "          if (!dataTable) return;\n",
              "\n",
              "          const docLinkHtml = 'Like what you see? Visit the ' +\n",
              "            '<a target=\"_blank\" href=https://colab.research.google.com/notebooks/data_table.ipynb>data table notebook</a>'\n",
              "            + ' to learn more about interactive tables.';\n",
              "          element.innerHTML = '';\n",
              "          dataTable['output_type'] = 'display_data';\n",
              "          await google.colab.output.renderOutput(dataTable, element);\n",
              "          const docLink = document.createElement('div');\n",
              "          docLink.innerHTML = docLinkHtml;\n",
              "          element.appendChild(docLink);\n",
              "        }\n",
              "      </script>\n",
              "    </div>\n",
              "  </div>\n",
              "  "
            ]
          },
          "metadata": {},
          "execution_count": 35
        }
      ]
    },
    {
      "cell_type": "code",
      "source": [
        "# Check columns name of the data\n",
        "df.columns"
      ],
      "metadata": {
        "colab": {
          "base_uri": "https://localhost:8080/"
        },
        "id": "sMq95xdzLi61",
        "outputId": "4fc4394c-fb14-42ce-a4ee-0eeb613ff840"
      },
      "execution_count": null,
      "outputs": [
        {
          "output_type": "execute_result",
          "data": {
            "text/plain": [
              "Index(['customerID', 'gender', 'SeniorCitizen', 'Partner', 'Dependents',\n",
              "       'tenure', 'PhoneService', 'MultipleLines', 'InternetService',\n",
              "       'OnlineSecurity', 'OnlineBackup', 'DeviceProtection', 'TechSupport',\n",
              "       'StreamingTV', 'StreamingMovies', 'Contract', 'PaperlessBilling',\n",
              "       'PaymentMethod', 'MonthlyCharges', 'TotalCharges', 'Churn'],\n",
              "      dtype='object')"
            ]
          },
          "metadata": {},
          "execution_count": 36
        }
      ]
    },
    {
      "cell_type": "code",
      "source": [
        "# Table shape\n",
        "df.shape"
      ],
      "metadata": {
        "colab": {
          "base_uri": "https://localhost:8080/"
        },
        "id": "Idvx-UN0Ltw7",
        "outputId": "0aa3d9a4-7e15-4023-acf4-1178642cfd8d"
      },
      "execution_count": null,
      "outputs": [
        {
          "output_type": "execute_result",
          "data": {
            "text/plain": [
              "(7043, 21)"
            ]
          },
          "metadata": {},
          "execution_count": 37
        }
      ]
    },
    {
      "cell_type": "code",
      "source": [
        "# Data Info\n",
        "df.info()"
      ],
      "metadata": {
        "colab": {
          "base_uri": "https://localhost:8080/"
        },
        "id": "cj-di0C3LlnZ",
        "outputId": "e3aa167b-627f-47f7-89da-a404f1011ec8"
      },
      "execution_count": null,
      "outputs": [
        {
          "output_type": "stream",
          "name": "stdout",
          "text": [
            "<class 'pandas.core.frame.DataFrame'>\n",
            "RangeIndex: 7043 entries, 0 to 7042\n",
            "Data columns (total 21 columns):\n",
            " #   Column            Non-Null Count  Dtype  \n",
            "---  ------            --------------  -----  \n",
            " 0   customerID        7043 non-null   object \n",
            " 1   gender            7043 non-null   object \n",
            " 2   SeniorCitizen     7043 non-null   int64  \n",
            " 3   Partner           7043 non-null   object \n",
            " 4   Dependents        7043 non-null   object \n",
            " 5   tenure            7043 non-null   int64  \n",
            " 6   PhoneService      7043 non-null   object \n",
            " 7   MultipleLines     7043 non-null   object \n",
            " 8   InternetService   7043 non-null   object \n",
            " 9   OnlineSecurity    7043 non-null   object \n",
            " 10  OnlineBackup      7043 non-null   object \n",
            " 11  DeviceProtection  7043 non-null   object \n",
            " 12  TechSupport       7043 non-null   object \n",
            " 13  StreamingTV       7043 non-null   object \n",
            " 14  StreamingMovies   7043 non-null   object \n",
            " 15  Contract          7043 non-null   object \n",
            " 16  PaperlessBilling  7043 non-null   object \n",
            " 17  PaymentMethod     7043 non-null   object \n",
            " 18  MonthlyCharges    7043 non-null   float64\n",
            " 19  TotalCharges      7043 non-null   object \n",
            " 20  Churn             7043 non-null   object \n",
            "dtypes: float64(1), int64(2), object(18)\n",
            "memory usage: 1.1+ MB\n"
          ]
        }
      ]
    },
    {
      "cell_type": "markdown",
      "source": [
        "Note : Wrong Data Type ==> [(SeniorCitizen, object), (MonthlyCharges, numerical)]"
      ],
      "metadata": {
        "id": "7tbuFZIXN44W"
      }
    },
    {
      "cell_type": "code",
      "source": [
        "# Fix Data Type\n",
        "df['SeniorCitizen'] = df['SeniorCitizen'].astype('str')\n",
        "df['TotalCharges'] = pd.to_numeric(df['TotalCharges'],errors='coerce')"
      ],
      "metadata": {
        "id": "aP9QooDzOYhV"
      },
      "execution_count": null,
      "outputs": []
    },
    {
      "cell_type": "code",
      "source": [
        "df.info()"
      ],
      "metadata": {
        "colab": {
          "base_uri": "https://localhost:8080/"
        },
        "id": "SI7F_ENtz3OT",
        "outputId": "1f5fa64e-12af-45a4-de29-17ea91b16c5d"
      },
      "execution_count": null,
      "outputs": [
        {
          "output_type": "stream",
          "name": "stdout",
          "text": [
            "<class 'pandas.core.frame.DataFrame'>\n",
            "RangeIndex: 7043 entries, 0 to 7042\n",
            "Data columns (total 21 columns):\n",
            " #   Column            Non-Null Count  Dtype  \n",
            "---  ------            --------------  -----  \n",
            " 0   customerID        7043 non-null   object \n",
            " 1   gender            7043 non-null   object \n",
            " 2   SeniorCitizen     7043 non-null   object \n",
            " 3   Partner           7043 non-null   object \n",
            " 4   Dependents        7043 non-null   object \n",
            " 5   tenure            7043 non-null   int64  \n",
            " 6   PhoneService      7043 non-null   object \n",
            " 7   MultipleLines     7043 non-null   object \n",
            " 8   InternetService   7043 non-null   object \n",
            " 9   OnlineSecurity    7043 non-null   object \n",
            " 10  OnlineBackup      7043 non-null   object \n",
            " 11  DeviceProtection  7043 non-null   object \n",
            " 12  TechSupport       7043 non-null   object \n",
            " 13  StreamingTV       7043 non-null   object \n",
            " 14  StreamingMovies   7043 non-null   object \n",
            " 15  Contract          7043 non-null   object \n",
            " 16  PaperlessBilling  7043 non-null   object \n",
            " 17  PaymentMethod     7043 non-null   object \n",
            " 18  MonthlyCharges    7043 non-null   float64\n",
            " 19  TotalCharges      7032 non-null   float64\n",
            " 20  Churn             7043 non-null   object \n",
            "dtypes: float64(2), int64(1), object(18)\n",
            "memory usage: 1.1+ MB\n"
          ]
        }
      ]
    },
    {
      "cell_type": "code",
      "source": [
        "# Missing Value Check\n",
        "df.isnull().sum()"
      ],
      "metadata": {
        "colab": {
          "base_uri": "https://localhost:8080/"
        },
        "id": "P2NmPpJcL0bo",
        "outputId": "dabc51b4-7552-4c63-e63d-2e6cd29b9512"
      },
      "execution_count": null,
      "outputs": [
        {
          "output_type": "execute_result",
          "data": {
            "text/plain": [
              "customerID           0\n",
              "gender               0\n",
              "SeniorCitizen        0\n",
              "Partner              0\n",
              "Dependents           0\n",
              "tenure               0\n",
              "PhoneService         0\n",
              "MultipleLines        0\n",
              "InternetService      0\n",
              "OnlineSecurity       0\n",
              "OnlineBackup         0\n",
              "DeviceProtection     0\n",
              "TechSupport          0\n",
              "StreamingTV          0\n",
              "StreamingMovies      0\n",
              "Contract             0\n",
              "PaperlessBilling     0\n",
              "PaymentMethod        0\n",
              "MonthlyCharges       0\n",
              "TotalCharges        11\n",
              "Churn                0\n",
              "dtype: int64"
            ]
          },
          "metadata": {},
          "execution_count": 41
        }
      ]
    },
    {
      "cell_type": "code",
      "source": [
        "# Input Missing Data with mean\n",
        "df = df.fillna(np.mean(df['TotalCharges']))\n",
        "df.isnull().sum()"
      ],
      "metadata": {
        "colab": {
          "base_uri": "https://localhost:8080/"
        },
        "id": "X6_kMpamPlMM",
        "outputId": "3e075cc5-6fcd-4253-f728-4748b933abe9"
      },
      "execution_count": null,
      "outputs": [
        {
          "output_type": "execute_result",
          "data": {
            "text/plain": [
              "customerID          0\n",
              "gender              0\n",
              "SeniorCitizen       0\n",
              "Partner             0\n",
              "Dependents          0\n",
              "tenure              0\n",
              "PhoneService        0\n",
              "MultipleLines       0\n",
              "InternetService     0\n",
              "OnlineSecurity      0\n",
              "OnlineBackup        0\n",
              "DeviceProtection    0\n",
              "TechSupport         0\n",
              "StreamingTV         0\n",
              "StreamingMovies     0\n",
              "Contract            0\n",
              "PaperlessBilling    0\n",
              "PaymentMethod       0\n",
              "MonthlyCharges      0\n",
              "TotalCharges        0\n",
              "Churn               0\n",
              "dtype: int64"
            ]
          },
          "metadata": {},
          "execution_count": 42
        }
      ]
    },
    {
      "cell_type": "code",
      "source": [
        "len(list(df.customerID.unique()))"
      ],
      "metadata": {
        "colab": {
          "base_uri": "https://localhost:8080/"
        },
        "id": "RVVGSvHG1OSI",
        "outputId": "56837f17-7851-4524-a201-c0c41995a224"
      },
      "execution_count": null,
      "outputs": [
        {
          "output_type": "execute_result",
          "data": {
            "text/plain": [
              "7043"
            ]
          },
          "metadata": {},
          "execution_count": 43
        }
      ]
    },
    {
      "cell_type": "markdown",
      "source": [
        "# 3 Performing Exploratory Data Analysis"
      ],
      "metadata": {
        "id": "484qXzGsMsSn"
      }
    },
    {
      "cell_type": "code",
      "source": [
        "df.Churn.value_counts()"
      ],
      "metadata": {
        "colab": {
          "base_uri": "https://localhost:8080/"
        },
        "id": "kYdmJhFu1AI1",
        "outputId": "b3e30c47-30a4-4b5f-fcfe-d208f2cdf1d9"
      },
      "execution_count": null,
      "outputs": [
        {
          "output_type": "execute_result",
          "data": {
            "text/plain": [
              "No     5174\n",
              "Yes    1869\n",
              "Name: Churn, dtype: int64"
            ]
          },
          "metadata": {},
          "execution_count": 44
        }
      ]
    },
    {
      "cell_type": "code",
      "source": [
        "fig = plt.figure()\n",
        "ax = fig.add_axes([0,0,1,1])\n",
        "ax.axis('equal')\n",
        "labels = ['No','Yes']\n",
        "churn = df.Churn.value_counts()\n",
        "ax.pie(churn, labels=labels, autopct='%.0f%%')\n",
        "plt.title('Presentase Of Churn Customers')\n",
        "plt.show()"
      ],
      "metadata": {
        "colab": {
          "base_uri": "https://localhost:8080/",
          "height": 335
        },
        "id": "wRdxZGL5alph",
        "outputId": "505e0bc2-817a-45a9-d5c0-489ac98066d5"
      },
      "execution_count": null,
      "outputs": [
        {
          "output_type": "display_data",
          "data": {
            "text/plain": [
              "<Figure size 432x288 with 1 Axes>"
            ],
            "image/png": "[encoded data removed]"
          },
          "metadata": {}
        }
      ]
    },
    {
      "cell_type": "code",
      "source": [
        "df.corr()"
      ],
      "metadata": {
        "colab": {
          "base_uri": "https://localhost:8080/",
          "height": 143
        },
        "id": "PF7IJIr32Ijh",
        "outputId": "0c412dfb-3bf7-45a0-a053-8b3dc268f14b"
      },
      "execution_count": null,
      "outputs": [
        {
          "output_type": "execute_result",
          "data": {
            "text/plain": [
              "                  tenure  MonthlyCharges  TotalCharges\n",
              "tenure          1.000000        0.247900      0.824757\n",
              "MonthlyCharges  0.247900        1.000000      0.650468\n",
              "TotalCharges    0.824757        0.650468      1.000000"
            ],
            "text/html": [
              "\n",
              "  <div id=\"df-14569c29-1675-4540-b7aa-e3de1dfde109\">\n",
              "    <div class=\"colab-df-container\">\n",
              "      <div>\n",
              "<style scoped>\n",
              "    .dataframe tbody tr th:only-of-type {\n",
              "        vertical-align: middle;\n",
              "    }\n",
              "\n",
              "    .dataframe tbody tr th {\n",
              "        vertical-align: top;\n",
              "    }\n",
              "\n",
              "    .dataframe thead th {\n",
              "        text-align: right;\n",
              "    }\n",
              "</style>\n",
              "<table border=\"1\" class=\"dataframe\">\n",
              "  <thead>\n",
              "    <tr style=\"text-align: right;\">\n",
              "      <th></th>\n",
              "      <th>tenure</th>\n",
              "      <th>MonthlyCharges</th>\n",
              "      <th>TotalCharges</th>\n",
              "    </tr>\n",
              "  </thead>\n",
              "  <tbody>\n",
              "    <tr>\n",
              "      <th>tenure</th>\n",
              "      <td>1.000000</td>\n",
              "      <td>0.247900</td>\n",
              "      <td>0.824757</td>\n",
              "    </tr>\n",
              "    <tr>\n",
              "      <th>MonthlyCharges</th>\n",
              "      <td>0.247900</td>\n",
              "      <td>1.000000</td>\n",
              "      <td>0.650468</td>\n",
              "    </tr>\n",
              "    <tr>\n",
              "      <th>TotalCharges</th>\n",
              "      <td>0.824757</td>\n",
              "      <td>0.650468</td>\n",
              "      <td>1.000000</td>\n",
              "    </tr>\n",
              "  </tbody>\n",
              "</table>\n",
              "</div>\n",
              "      <button class=\"colab-df-convert\" onclick=\"convertToInteractive('df-14569c29-1675-4540-b7aa-e3de1dfde109')\"\n",
              "              title=\"Convert this dataframe to an interactive table.\"\n",
              "              style=\"display:none;\">\n",
              "        \n",
              "  <svg xmlns=\"http://www.w3.org/2000/svg\" height=\"24px\"viewBox=\"0 0 24 24\"\n",
              "       width=\"24px\">\n",
              "    <path d=\"M0 0h24v24H0V0z\" fill=\"none\"/>\n",
              "    <path d=\"M18.56 5.44l.94 2.06.94-2.06 2.06-.94-2.06-.94-.94-2.06-.94 2.06-2.06.94zm-11 1L8.5 8.5l.94-2.06 2.06-.94-2.06-.94L8.5 2.5l-.94 2.06-2.06.94zm10 10l.94 2.06.94-2.06 2.06-.94-2.06-.94-.94-2.06-.94 2.06-2.06.94z\"/><path d=\"M17.41 7.96l-1.37-1.37c-.4-.4-.92-.59-1.43-.59-.52 0-1.04.2-1.43.59L10.3 9.45l-7.72 7.72c-.78.78-.78 2.05 0 2.83L4 21.41c.39.39.9.59 1.41.59.51 0 1.02-.2 1.41-.59l7.78-7.78 2.81-2.81c.8-.78.8-2.07 0-2.86zM5.41 20L4 18.59l7.72-7.72 1.47 1.35L5.41 20z\"/>\n",
              "  </svg>\n",
              "      </button>\n",
              "      \n",
              "  <style>\n",
              "    .colab-df-container {\n",
              "      display:flex;\n",
              "      flex-wrap:wrap;\n",
              "      gap: 12px;\n",
              "    }\n",
              "\n",
              "    .colab-df-convert {\n",
              "      background-color: #E8F0FE;\n",
              "      border: none;\n",
              "      border-radius: 50%;\n",
              "      cursor: pointer;\n",
              "      display: none;\n",
              "      fill: #1967D2;\n",
              "      height: 32px;\n",
              "      padding: 0 0 0 0;\n",
              "      width: 32px;\n",
              "    }\n",
              "\n",
              "    .colab-df-convert:hover {\n",
              "      background-color: #E2EBFA;\n",
              "      box-shadow: 0px 1px 2px rgba(60, 64, 67, 0.3), 0px 1px 3px 1px rgba(60, 64, 67, 0.15);\n",
              "      fill: #174EA6;\n",
              "    }\n",
              "\n",
              "    [theme=dark] .colab-df-convert {\n",
              "      background-color: #3B4455;\n",
              "      fill: #D2E3FC;\n",
              "    }\n",
              "\n",
              "    [theme=dark] .colab-df-convert:hover {\n",
              "      background-color: #434B5C;\n",
              "      box-shadow: 0px 1px 3px 1px rgba(0, 0, 0, 0.15);\n",
              "      filter: drop-shadow(0px 1px 2px rgba(0, 0, 0, 0.3));\n",
              "      fill: #FFFFFF;\n",
              "    }\n",
              "  </style>\n",
              "\n",
              "      <script>\n",
              "        const buttonEl =\n",
              "          document.querySelector('#df-14569c29-1675-4540-b7aa-e3de1dfde109 button.colab-df-convert');\n",
              "        buttonEl.style.display =\n",
              "          google.colab.kernel.accessAllowed ? 'block' : 'none';\n",
              "\n",
              "        async function convertToInteractive(key) {\n",
              "          const element = document.querySelector('#df-14569c29-1675-4540-b7aa-e3de1dfde109');\n",
              "          const dataTable =\n",
              "            await google.colab.kernel.invokeFunction('convertToInteractive',\n",
              "                                                     [key], {});\n",
              "          if (!dataTable) return;\n",
              "\n",
              "          const docLinkHtml = 'Like what you see? Visit the ' +\n",
              "            '<a target=\"_blank\" href=https://colab.research.google.com/notebooks/data_table.ipynb>data table notebook</a>'\n",
              "            + ' to learn more about interactive tables.';\n",
              "          element.innerHTML = '';\n",
              "          dataTable['output_type'] = 'display_data';\n",
              "          await google.colab.output.renderOutput(dataTable, element);\n",
              "          const docLink = document.createElement('div');\n",
              "          docLink.innerHTML = docLinkHtml;\n",
              "          element.appendChild(docLink);\n",
              "        }\n",
              "      </script>\n",
              "    </div>\n",
              "  </div>\n",
              "  "
            ]
          },
          "metadata": {},
          "execution_count": 46
        }
      ]
    },
    {
      "cell_type": "markdown",
      "source": [
        "## EDA for Numerical Values"
      ],
      "metadata": {
        "id": "DaApimUQaWgZ"
      }
    },
    {
      "cell_type": "code",
      "source": [
        "#Now, let's look at the numerical data. Creating correlation heatmap\n",
        "\n",
        "sns.heatmap(df.corr(),annot=True)\n",
        "\n",
        "#Tenure and TotalCharges, Monthly and TotalCharges are corelated and it makes sense,as totalcharges = tenure*MonthlyCharges"
      ],
      "metadata": {
        "colab": {
          "base_uri": "https://localhost:8080/",
          "height": 286
        },
        "id": "PJ4Kqn5veq84",
        "outputId": "0b1f9130-5b55-478a-ad32-419628668b3f"
      },
      "execution_count": null,
      "outputs": [
        {
          "output_type": "execute_result",
          "data": {
            "text/plain": [
              "<matplotlib.axes._subplots.AxesSubplot at 0x7f9908357c90>"
            ]
          },
          "metadata": {},
          "execution_count": 47
        },
        {
          "output_type": "display_data",
          "data": {
            "text/plain": [
              "<Figure size 432x288 with 2 Axes>"
            ],
            "image/png": "[encoded data removed]"
          },
          "metadata": {
            "needs_background": "light"
          }
        }
      ]
    },
    {
      "cell_type": "code",
      "source": [
        "# Statistic for numerical value\n",
        "df.describe()"
      ],
      "metadata": {
        "colab": {
          "base_uri": "https://localhost:8080/",
          "height": 300
        },
        "id": "Ur4Df-HyMyqQ",
        "outputId": "af66c329-b762-4328-9ffd-4760656f9e5b"
      },
      "execution_count": null,
      "outputs": [
        {
          "output_type": "execute_result",
          "data": {
            "text/plain": [
              "            tenure  MonthlyCharges  TotalCharges\n",
              "count  7043.000000     7043.000000   7043.000000\n",
              "mean     32.371149       64.761692   2283.300441\n",
              "std      24.559481       30.090047   2265.000258\n",
              "min       0.000000       18.250000     18.800000\n",
              "25%       9.000000       35.500000    402.225000\n",
              "50%      29.000000       70.350000   1400.550000\n",
              "75%      55.000000       89.850000   3786.600000\n",
              "max      72.000000      118.750000   8684.800000"
            ],
            "text/html": [
              "\n",
              "  <div id=\"df-9ee4be6c-ce1e-4efe-baff-42d44b428a4b\">\n",
              "    <div class=\"colab-df-container\">\n",
              "      <div>\n",
              "<style scoped>\n",
              "    .dataframe tbody tr th:only-of-type {\n",
              "        vertical-align: middle;\n",
              "    }\n",
              "\n",
              "    .dataframe tbody tr th {\n",
              "        vertical-align: top;\n",
              "    }\n",
              "\n",
              "    .dataframe thead th {\n",
              "        text-align: right;\n",
              "    }\n",
              "</style>\n",
              "<table border=\"1\" class=\"dataframe\">\n",
              "  <thead>\n",
              "    <tr style=\"text-align: right;\">\n",
              "      <th></th>\n",
              "      <th>tenure</th>\n",
              "      <th>MonthlyCharges</th>\n",
              "      <th>TotalCharges</th>\n",
              "    </tr>\n",
              "  </thead>\n",
              "  <tbody>\n",
              "    <tr>\n",
              "      <th>count</th>\n",
              "      <td>7043.000000</td>\n",
              "      <td>7043.000000</td>\n",
              "      <td>7043.000000</td>\n",
              "    </tr>\n",
              "    <tr>\n",
              "      <th>mean</th>\n",
              "      <td>32.371149</td>\n",
              "      <td>64.761692</td>\n",
              "      <td>2283.300441</td>\n",
              "    </tr>\n",
              "    <tr>\n",
              "      <th>std</th>\n",
              "      <td>24.559481</td>\n",
              "      <td>30.090047</td>\n",
              "      <td>2265.000258</td>\n",
              "    </tr>\n",
              "    <tr>\n",
              "      <th>min</th>\n",
              "      <td>0.000000</td>\n",
              "      <td>18.250000</td>\n",
              "      <td>18.800000</td>\n",
              "    </tr>\n",
              "    <tr>\n",
              "      <th>25%</th>\n",
              "      <td>9.000000</td>\n",
              "      <td>35.500000</td>\n",
              "      <td>402.225000</td>\n",
              "    </tr>\n",
              "    <tr>\n",
              "      <th>50%</th>\n",
              "      <td>29.000000</td>\n",
              "      <td>70.350000</td>\n",
              "      <td>1400.550000</td>\n",
              "    </tr>\n",
              "    <tr>\n",
              "      <th>75%</th>\n",
              "      <td>55.000000</td>\n",
              "      <td>89.850000</td>\n",
              "      <td>3786.600000</td>\n",
              "    </tr>\n",
              "    <tr>\n",
              "      <th>max</th>\n",
              "      <td>72.000000</td>\n",
              "      <td>118.750000</td>\n",
              "      <td>8684.800000</td>\n",
              "    </tr>\n",
              "  </tbody>\n",
              "</table>\n",
              "</div>\n",
              "      <button class=\"colab-df-convert\" onclick=\"convertToInteractive('df-9ee4be6c-ce1e-4efe-baff-42d44b428a4b')\"\n",
              "              title=\"Convert this dataframe to an interactive table.\"\n",
              "              style=\"display:none;\">\n",
              "        \n",
              "  <svg xmlns=\"http://www.w3.org/2000/svg\" height=\"24px\"viewBox=\"0 0 24 24\"\n",
              "       width=\"24px\">\n",
              "    <path d=\"M0 0h24v24H0V0z\" fill=\"none\"/>\n",
              "    <path d=\"M18.56 5.44l.94 2.06.94-2.06 2.06-.94-2.06-.94-.94-2.06-.94 2.06-2.06.94zm-11 1L8.5 8.5l.94-2.06 2.06-.94-2.06-.94L8.5 2.5l-.94 2.06-2.06.94zm10 10l.94 2.06.94-2.06 2.06-.94-2.06-.94-.94-2.06-.94 2.06-2.06.94z\"/><path d=\"M17.41 7.96l-1.37-1.37c-.4-.4-.92-.59-1.43-.59-.52 0-1.04.2-1.43.59L10.3 9.45l-7.72 7.72c-.78.78-.78 2.05 0 2.83L4 21.41c.39.39.9.59 1.41.59.51 0 1.02-.2 1.41-.59l7.78-7.78 2.81-2.81c.8-.78.8-2.07 0-2.86zM5.41 20L4 18.59l7.72-7.72 1.47 1.35L5.41 20z\"/>\n",
              "  </svg>\n",
              "      </button>\n",
              "      \n",
              "  <style>\n",
              "    .colab-df-container {\n",
              "      display:flex;\n",
              "      flex-wrap:wrap;\n",
              "      gap: 12px;\n",
              "    }\n",
              "\n",
              "    .colab-df-convert {\n",
              "      background-color: #E8F0FE;\n",
              "      border: none;\n",
              "      border-radius: 50%;\n",
              "      cursor: pointer;\n",
              "      display: none;\n",
              "      fill: #1967D2;\n",
              "      height: 32px;\n",
              "      padding: 0 0 0 0;\n",
              "      width: 32px;\n",
              "    }\n",
              "\n",
              "    .colab-df-convert:hover {\n",
              "      background-color: #E2EBFA;\n",
              "      box-shadow: 0px 1px 2px rgba(60, 64, 67, 0.3), 0px 1px 3px 1px rgba(60, 64, 67, 0.15);\n",
              "      fill: #174EA6;\n",
              "    }\n",
              "\n",
              "    [theme=dark] .colab-df-convert {\n",
              "      background-color: #3B4455;\n",
              "      fill: #D2E3FC;\n",
              "    }\n",
              "\n",
              "    [theme=dark] .colab-df-convert:hover {\n",
              "      background-color: #434B5C;\n",
              "      box-shadow: 0px 1px 3px 1px rgba(0, 0, 0, 0.15);\n",
              "      filter: drop-shadow(0px 1px 2px rgba(0, 0, 0, 0.3));\n",
              "      fill: #FFFFFF;\n",
              "    }\n",
              "  </style>\n",
              "\n",
              "      <script>\n",
              "        const buttonEl =\n",
              "          document.querySelector('#df-9ee4be6c-ce1e-4efe-baff-42d44b428a4b button.colab-df-convert');\n",
              "        buttonEl.style.display =\n",
              "          google.colab.kernel.accessAllowed ? 'block' : 'none';\n",
              "\n",
              "        async function convertToInteractive(key) {\n",
              "          const element = document.querySelector('#df-9ee4be6c-ce1e-4efe-baff-42d44b428a4b');\n",
              "          const dataTable =\n",
              "            await google.colab.kernel.invokeFunction('convertToInteractive',\n",
              "                                                     [key], {});\n",
              "          if (!dataTable) return;\n",
              "\n",
              "          const docLinkHtml = 'Like what you see? Visit the ' +\n",
              "            '<a target=\"_blank\" href=https://colab.research.google.com/notebooks/data_table.ipynb>data table notebook</a>'\n",
              "            + ' to learn more about interactive tables.';\n",
              "          element.innerHTML = '';\n",
              "          dataTable['output_type'] = 'display_data';\n",
              "          await google.colab.output.renderOutput(dataTable, element);\n",
              "          const docLink = document.createElement('div');\n",
              "          docLink.innerHTML = docLinkHtml;\n",
              "          element.appendChild(docLink);\n",
              "        }\n",
              "      </script>\n",
              "    </div>\n",
              "  </div>\n",
              "  "
            ]
          },
          "metadata": {},
          "execution_count": 48
        }
      ]
    },
    {
      "cell_type": "code",
      "source": [
        "#creating bin in chart\n",
        "numerical_features = ['MonthlyCharges','TotalCharges','tenure']\n",
        "fig, ax = plt.subplots(1, 3, figsize=(15, 6))\n",
        "# Use the following code to plot two overlays of histogram per each numerical_features, use a color of blue and orange, respectively\n",
        "df[df.Churn == 'No'][numerical_features].hist(bins=20, color='blue', alpha=0.5, ax=ax)\n",
        "df[df.Churn == 'Yes'][numerical_features].hist(bins=20, color='orange', alpha=0.5, ax=ax)\n",
        "plt.show()"
      ],
      "metadata": {
        "colab": {
          "base_uri": "https://localhost:8080/",
          "height": 379
        },
        "id": "vFEVIuyPafCZ",
        "outputId": "59322fda-2b49-42dd-ad5b-d21fafa50ffb"
      },
      "execution_count": null,
      "outputs": [
        {
          "output_type": "display_data",
          "data": {
            "text/plain": [
              "<Figure size 1080x432 with 3 Axes>"
            ],
            "image/png": "[encoded data removed]"
          },
          "metadata": {
            "needs_background": "light"
          }
        }
      ]
    },
    {
      "cell_type": "markdown",
      "source": [
        "## EDA for Categorical Values"
      ],
      "metadata": {
        "id": "jBRaQeu0acIj"
      }
    },
    {
      "cell_type": "code",
      "source": [
        "# Statistic for vategorical value\n",
        "df.describe(exclude=[np.number]) "
      ],
      "metadata": {
        "colab": {
          "base_uri": "https://localhost:8080/",
          "height": 256
        },
        "id": "VxWwaWQZNiRP",
        "outputId": "77ababe0-03cd-46f1-9da9-dc4d4240bc44"
      },
      "execution_count": null,
      "outputs": [
        {
          "output_type": "execute_result",
          "data": {
            "text/plain": [
              "        customerID gender SeniorCitizen Partner Dependents PhoneService  \\\n",
              "count         7043   7043          7043    7043       7043         7043   \n",
              "unique        7043      2             2       2          2            2   \n",
              "top     7590-VHVEG   Male             0      No         No          Yes   \n",
              "freq             1   3555          5901    3641       4933         6361   \n",
              "\n",
              "       MultipleLines InternetService OnlineSecurity OnlineBackup  \\\n",
              "count           7043            7043           7043         7043   \n",
              "unique             3               3              3            3   \n",
              "top               No     Fiber optic             No           No   \n",
              "freq            3390            3096           3498         3088   \n",
              "\n",
              "       DeviceProtection TechSupport StreamingTV StreamingMovies  \\\n",
              "count              7043        7043        7043            7043   \n",
              "unique                3           3           3               3   \n",
              "top                  No          No          No              No   \n",
              "freq               3095        3473        2810            2785   \n",
              "\n",
              "              Contract PaperlessBilling     PaymentMethod Churn  \n",
              "count             7043             7043              7043  7043  \n",
              "unique               3                2                 4     2  \n",
              "top     Month-to-month              Yes  Electronic check    No  \n",
              "freq              3875             4171              2365  5174  "
            ],
            "text/html": [
              "\n",
              "  <div id=\"df-f689a5db-943b-4435-98c8-b462fff64591\">\n",
              "    <div class=\"colab-df-container\">\n",
              "      <div>\n",
              "<style scoped>\n",
              "    .dataframe tbody tr th:only-of-type {\n",
              "        vertical-align: middle;\n",
              "    }\n",
              "\n",
              "    .dataframe tbody tr th {\n",
              "        vertical-align: top;\n",
              "    }\n",
              "\n",
              "    .dataframe thead th {\n",
              "        text-align: right;\n",
              "    }\n",
              "</style>\n",
              "<table border=\"1\" class=\"dataframe\">\n",
              "  <thead>\n",
              "    <tr style=\"text-align: right;\">\n",
              "      <th></th>\n",
              "      <th>customerID</th>\n",
              "      <th>gender</th>\n",
              "      <th>SeniorCitizen</th>\n",
              "      <th>Partner</th>\n",
              "      <th>Dependents</th>\n",
              "      <th>PhoneService</th>\n",
              "      <th>MultipleLines</th>\n",
              "      <th>InternetService</th>\n",
              "      <th>OnlineSecurity</th>\n",
              "      <th>OnlineBackup</th>\n",
              "      <th>DeviceProtection</th>\n",
              "      <th>TechSupport</th>\n",
              "      <th>StreamingTV</th>\n",
              "      <th>StreamingMovies</th>\n",
              "      <th>Contract</th>\n",
              "      <th>PaperlessBilling</th>\n",
              "      <th>PaymentMethod</th>\n",
              "      <th>Churn</th>\n",
              "    </tr>\n",
              "  </thead>\n",
              "  <tbody>\n",
              "    <tr>\n",
              "      <th>count</th>\n",
              "      <td>7043</td>\n",
              "      <td>7043</td>\n",
              "      <td>7043</td>\n",
              "      <td>7043</td>\n",
              "      <td>7043</td>\n",
              "      <td>7043</td>\n",
              "      <td>7043</td>\n",
              "      <td>7043</td>\n",
              "      <td>7043</td>\n",
              "      <td>7043</td>\n",
              "      <td>7043</td>\n",
              "      <td>7043</td>\n",
              "      <td>7043</td>\n",
              "      <td>7043</td>\n",
              "      <td>7043</td>\n",
              "      <td>7043</td>\n",
              "      <td>7043</td>\n",
              "      <td>7043</td>\n",
              "    </tr>\n",
              "    <tr>\n",
              "      <th>unique</th>\n",
              "      <td>7043</td>\n",
              "      <td>2</td>\n",
              "      <td>2</td>\n",
              "      <td>2</td>\n",
              "      <td>2</td>\n",
              "      <td>2</td>\n",
              "      <td>3</td>\n",
              "      <td>3</td>\n",
              "      <td>3</td>\n",
              "      <td>3</td>\n",
              "      <td>3</td>\n",
              "      <td>3</td>\n",
              "      <td>3</td>\n",
              "      <td>3</td>\n",
              "      <td>3</td>\n",
              "      <td>2</td>\n",
              "      <td>4</td>\n",
              "      <td>2</td>\n",
              "    </tr>\n",
              "    <tr>\n",
              "      <th>top</th>\n",
              "      <td>7590-VHVEG</td>\n",
              "      <td>Male</td>\n",
              "      <td>0</td>\n",
              "      <td>No</td>\n",
              "      <td>No</td>\n",
              "      <td>Yes</td>\n",
              "      <td>No</td>\n",
              "      <td>Fiber optic</td>\n",
              "      <td>No</td>\n",
              "      <td>No</td>\n",
              "      <td>No</td>\n",
              "      <td>No</td>\n",
              "      <td>No</td>\n",
              "      <td>No</td>\n",
              "      <td>Month-to-month</td>\n",
              "      <td>Yes</td>\n",
              "      <td>Electronic check</td>\n",
              "      <td>No</td>\n",
              "    </tr>\n",
              "    <tr>\n",
              "      <th>freq</th>\n",
              "      <td>1</td>\n",
              "      <td>3555</td>\n",
              "      <td>5901</td>\n",
              "      <td>3641</td>\n",
              "      <td>4933</td>\n",
              "      <td>6361</td>\n",
              "      <td>3390</td>\n",
              "      <td>3096</td>\n",
              "      <td>3498</td>\n",
              "      <td>3088</td>\n",
              "      <td>3095</td>\n",
              "      <td>3473</td>\n",
              "      <td>2810</td>\n",
              "      <td>2785</td>\n",
              "      <td>3875</td>\n",
              "      <td>4171</td>\n",
              "      <td>2365</td>\n",
              "      <td>5174</td>\n",
              "    </tr>\n",
              "  </tbody>\n",
              "</table>\n",
              "</div>\n",
              "      <button class=\"colab-df-convert\" onclick=\"convertToInteractive('df-f689a5db-943b-4435-98c8-b462fff64591')\"\n",
              "              title=\"Convert this dataframe to an interactive table.\"\n",
              "              style=\"display:none;\">\n",
              "        \n",
              "  <svg xmlns=\"http://www.w3.org/2000/svg\" height=\"24px\"viewBox=\"0 0 24 24\"\n",
              "       width=\"24px\">\n",
              "    <path d=\"M0 0h24v24H0V0z\" fill=\"none\"/>\n",
              "    <path d=\"M18.56 5.44l.94 2.06.94-2.06 2.06-.94-2.06-.94-.94-2.06-.94 2.06-2.06.94zm-11 1L8.5 8.5l.94-2.06 2.06-.94-2.06-.94L8.5 2.5l-.94 2.06-2.06.94zm10 10l.94 2.06.94-2.06 2.06-.94-2.06-.94-.94-2.06-.94 2.06-2.06.94z\"/><path d=\"M17.41 7.96l-1.37-1.37c-.4-.4-.92-.59-1.43-.59-.52 0-1.04.2-1.43.59L10.3 9.45l-7.72 7.72c-.78.78-.78 2.05 0 2.83L4 21.41c.39.39.9.59 1.41.59.51 0 1.02-.2 1.41-.59l7.78-7.78 2.81-2.81c.8-.78.8-2.07 0-2.86zM5.41 20L4 18.59l7.72-7.72 1.47 1.35L5.41 20z\"/>\n",
              "  </svg>\n",
              "      </button>\n",
              "      \n",
              "  <style>\n",
              "    .colab-df-container {\n",
              "      display:flex;\n",
              "      flex-wrap:wrap;\n",
              "      gap: 12px;\n",
              "    }\n",
              "\n",
              "    .colab-df-convert {\n",
              "      background-color: #E8F0FE;\n",
              "      border: none;\n",
              "      border-radius: 50%;\n",
              "      cursor: pointer;\n",
              "      display: none;\n",
              "      fill: #1967D2;\n",
              "      height: 32px;\n",
              "      padding: 0 0 0 0;\n",
              "      width: 32px;\n",
              "    }\n",
              "\n",
              "    .colab-df-convert:hover {\n",
              "      background-color: #E2EBFA;\n",
              "      box-shadow: 0px 1px 2px rgba(60, 64, 67, 0.3), 0px 1px 3px 1px rgba(60, 64, 67, 0.15);\n",
              "      fill: #174EA6;\n",
              "    }\n",
              "\n",
              "    [theme=dark] .colab-df-convert {\n",
              "      background-color: #3B4455;\n",
              "      fill: #D2E3FC;\n",
              "    }\n",
              "\n",
              "    [theme=dark] .colab-df-convert:hover {\n",
              "      background-color: #434B5C;\n",
              "      box-shadow: 0px 1px 3px 1px rgba(0, 0, 0, 0.15);\n",
              "      filter: drop-shadow(0px 1px 2px rgba(0, 0, 0, 0.3));\n",
              "      fill: #FFFFFF;\n",
              "    }\n",
              "  </style>\n",
              "\n",
              "      <script>\n",
              "        const buttonEl =\n",
              "          document.querySelector('#df-f689a5db-943b-4435-98c8-b462fff64591 button.colab-df-convert');\n",
              "        buttonEl.style.display =\n",
              "          google.colab.kernel.accessAllowed ? 'block' : 'none';\n",
              "\n",
              "        async function convertToInteractive(key) {\n",
              "          const element = document.querySelector('#df-f689a5db-943b-4435-98c8-b462fff64591');\n",
              "          const dataTable =\n",
              "            await google.colab.kernel.invokeFunction('convertToInteractive',\n",
              "                                                     [key], {});\n",
              "          if (!dataTable) return;\n",
              "\n",
              "          const docLinkHtml = 'Like what you see? Visit the ' +\n",
              "            '<a target=\"_blank\" href=https://colab.research.google.com/notebooks/data_table.ipynb>data table notebook</a>'\n",
              "            + ' to learn more about interactive tables.';\n",
              "          element.innerHTML = '';\n",
              "          dataTable['output_type'] = 'display_data';\n",
              "          await google.colab.output.renderOutput(dataTable, element);\n",
              "          const docLink = document.createElement('div');\n",
              "          docLink.innerHTML = docLinkHtml;\n",
              "          element.appendChild(docLink);\n",
              "        }\n",
              "      </script>\n",
              "    </div>\n",
              "  </div>\n",
              "  "
            ]
          },
          "metadata": {},
          "execution_count": 50
        }
      ]
    },
    {
      "cell_type": "code",
      "source": [
        "df.info()"
      ],
      "metadata": {
        "colab": {
          "base_uri": "https://localhost:8080/"
        },
        "id": "CwdqLm8J4vAe",
        "outputId": "3c21353e-001b-49ee-d2ec-43a8f189f5a5"
      },
      "execution_count": null,
      "outputs": [
        {
          "output_type": "stream",
          "name": "stdout",
          "text": [
            "<class 'pandas.core.frame.DataFrame'>\n",
            "RangeIndex: 7043 entries, 0 to 7042\n",
            "Data columns (total 21 columns):\n",
            " #   Column            Non-Null Count  Dtype  \n",
            "---  ------            --------------  -----  \n",
            " 0   customerID        7043 non-null   object \n",
            " 1   gender            7043 non-null   object \n",
            " 2   SeniorCitizen     7043 non-null   object \n",
            " 3   Partner           7043 non-null   object \n",
            " 4   Dependents        7043 non-null   object \n",
            " 5   tenure            7043 non-null   int64  \n",
            " 6   PhoneService      7043 non-null   object \n",
            " 7   MultipleLines     7043 non-null   object \n",
            " 8   InternetService   7043 non-null   object \n",
            " 9   OnlineSecurity    7043 non-null   object \n",
            " 10  OnlineBackup      7043 non-null   object \n",
            " 11  DeviceProtection  7043 non-null   object \n",
            " 12  TechSupport       7043 non-null   object \n",
            " 13  StreamingTV       7043 non-null   object \n",
            " 14  StreamingMovies   7043 non-null   object \n",
            " 15  Contract          7043 non-null   object \n",
            " 16  PaperlessBilling  7043 non-null   object \n",
            " 17  PaymentMethod     7043 non-null   object \n",
            " 18  MonthlyCharges    7043 non-null   float64\n",
            " 19  TotalCharges      7043 non-null   float64\n",
            " 20  Churn             7043 non-null   object \n",
            "dtypes: float64(2), int64(1), object(18)\n",
            "memory usage: 1.1+ MB\n"
          ]
        }
      ]
    },
    {
      "cell_type": "code",
      "source": [
        "# Ideally SeniorCitizen column should be a factor, so let's convert 1,0 values to Yes,No and later we can label encode all factor columns\n",
        "\n",
        "df.SeniorCitizen=df.SeniorCitizen.apply(lambda x: 'Yes' if x=='1' else 'No')\n",
        "df.SeniorCitizen.value_counts()"
      ],
      "metadata": {
        "colab": {
          "base_uri": "https://localhost:8080/"
        },
        "id": "-sOXkW-HQHZk",
        "outputId": "99a926e1-4281-4c48-f864-b3eba4e1bb1e"
      },
      "execution_count": null,
      "outputs": [
        {
          "output_type": "execute_result",
          "data": {
            "text/plain": [
              "No     5901\n",
              "Yes    1142\n",
              "Name: SeniorCitizen, dtype: int64"
            ]
          },
          "metadata": {},
          "execution_count": 53
        }
      ]
    },
    {
      "cell_type": "code",
      "source": [
        "df.head()"
      ],
      "metadata": {
        "colab": {
          "base_uri": "https://localhost:8080/",
          "height": 357
        },
        "id": "dmEuhPKJ4jUY",
        "outputId": "b2ad6aa4-2ab2-4650-9a2b-98b7d2ff4f03"
      },
      "execution_count": null,
      "outputs": [
        {
          "output_type": "execute_result",
          "data": {
            "text/plain": [
              "   customerID  gender SeniorCitizen Partner Dependents  tenure PhoneService  \\\n",
              "0  7590-VHVEG  Female            No     Yes         No       1           No   \n",
              "1  5575-GNVDE    Male            No      No         No      34          Yes   \n",
              "2  3668-QPYBK    Male            No      No         No       2          Yes   \n",
              "3  7795-CFOCW    Male            No      No         No      45           No   \n",
              "4  9237-HQITU  Female            No      No         No       2          Yes   \n",
              "\n",
              "      MultipleLines InternetService OnlineSecurity OnlineBackup  \\\n",
              "0  No phone service             DSL             No          Yes   \n",
              "1                No             DSL            Yes           No   \n",
              "2                No             DSL            Yes          Yes   \n",
              "3  No phone service             DSL            Yes           No   \n",
              "4                No     Fiber optic             No           No   \n",
              "\n",
              "  DeviceProtection TechSupport StreamingTV StreamingMovies        Contract  \\\n",
              "0               No          No          No              No  Month-to-month   \n",
              "1              Yes          No          No              No        One year   \n",
              "2               No          No          No              No  Month-to-month   \n",
              "3              Yes         Yes          No              No        One year   \n",
              "4               No          No          No              No  Month-to-month   \n",
              "\n",
              "  PaperlessBilling              PaymentMethod  MonthlyCharges  TotalCharges  \\\n",
              "0              Yes           Electronic check           29.85         29.85   \n",
              "1               No               Mailed check           56.95       1889.50   \n",
              "2              Yes               Mailed check           53.85        108.15   \n",
              "3               No  Bank transfer (automatic)           42.30       1840.75   \n",
              "4              Yes           Electronic check           70.70        151.65   \n",
              "\n",
              "  Churn  \n",
              "0    No  \n",
              "1    No  \n",
              "2   Yes  \n",
              "3    No  \n",
              "4   Yes  "
            ],
            "text/html": [
              "\n",
              "  <div id=\"df-24692503-42fe-4846-af71-8f1a181652fa\">\n",
              "    <div class=\"colab-df-container\">\n",
              "      <div>\n",
              "<style scoped>\n",
              "    .dataframe tbody tr th:only-of-type {\n",
              "        vertical-align: middle;\n",
              "    }\n",
              "\n",
              "    .dataframe tbody tr th {\n",
              "        vertical-align: top;\n",
              "    }\n",
              "\n",
              "    .dataframe thead th {\n",
              "        text-align: right;\n",
              "    }\n",
              "</style>\n",
              "<table border=\"1\" class=\"dataframe\">\n",
              "  <thead>\n",
              "    <tr style=\"text-align: right;\">\n",
              "      <th></th>\n",
              "      <th>customerID</th>\n",
              "      <th>gender</th>\n",
              "      <th>SeniorCitizen</th>\n",
              "      <th>Partner</th>\n",
              "      <th>Dependents</th>\n",
              "      <th>tenure</th>\n",
              "      <th>PhoneService</th>\n",
              "      <th>MultipleLines</th>\n",
              "      <th>InternetService</th>\n",
              "      <th>OnlineSecurity</th>\n",
              "      <th>OnlineBackup</th>\n",
              "      <th>DeviceProtection</th>\n",
              "      <th>TechSupport</th>\n",
              "      <th>StreamingTV</th>\n",
              "      <th>StreamingMovies</th>\n",
              "      <th>Contract</th>\n",
              "      <th>PaperlessBilling</th>\n",
              "      <th>PaymentMethod</th>\n",
              "      <th>MonthlyCharges</th>\n",
              "      <th>TotalCharges</th>\n",
              "      <th>Churn</th>\n",
              "    </tr>\n",
              "  </thead>\n",
              "  <tbody>\n",
              "    <tr>\n",
              "      <th>0</th>\n",
              "      <td>7590-VHVEG</td>\n",
              "      <td>Female</td>\n",
              "      <td>No</td>\n",
              "      <td>Yes</td>\n",
              "      <td>No</td>\n",
              "      <td>1</td>\n",
              "      <td>No</td>\n",
              "      <td>No phone service</td>\n",
              "      <td>DSL</td>\n",
              "      <td>No</td>\n",
              "      <td>Yes</td>\n",
              "      <td>No</td>\n",
              "      <td>No</td>\n",
              "      <td>No</td>\n",
              "      <td>No</td>\n",
              "      <td>Month-to-month</td>\n",
              "      <td>Yes</td>\n",
              "      <td>Electronic check</td>\n",
              "      <td>29.85</td>\n",
              "      <td>29.85</td>\n",
              "      <td>No</td>\n",
              "    </tr>\n",
              "    <tr>\n",
              "      <th>1</th>\n",
              "      <td>5575-GNVDE</td>\n",
              "      <td>Male</td>\n",
              "      <td>No</td>\n",
              "      <td>No</td>\n",
              "      <td>No</td>\n",
              "      <td>34</td>\n",
              "      <td>Yes</td>\n",
              "      <td>No</td>\n",
              "      <td>DSL</td>\n",
              "      <td>Yes</td>\n",
              "      <td>No</td>\n",
              "      <td>Yes</td>\n",
              "      <td>No</td>\n",
              "      <td>No</td>\n",
              "      <td>No</td>\n",
              "      <td>One year</td>\n",
              "      <td>No</td>\n",
              "      <td>Mailed check</td>\n",
              "      <td>56.95</td>\n",
              "      <td>1889.50</td>\n",
              "      <td>No</td>\n",
              "    </tr>\n",
              "    <tr>\n",
              "      <th>2</th>\n",
              "      <td>3668-QPYBK</td>\n",
              "      <td>Male</td>\n",
              "      <td>No</td>\n",
              "      <td>No</td>\n",
              "      <td>No</td>\n",
              "      <td>2</td>\n",
              "      <td>Yes</td>\n",
              "      <td>No</td>\n",
              "      <td>DSL</td>\n",
              "      <td>Yes</td>\n",
              "      <td>Yes</td>\n",
              "      <td>No</td>\n",
              "      <td>No</td>\n",
              "      <td>No</td>\n",
              "      <td>No</td>\n",
              "      <td>Month-to-month</td>\n",
              "      <td>Yes</td>\n",
              "      <td>Mailed check</td>\n",
              "      <td>53.85</td>\n",
              "      <td>108.15</td>\n",
              "      <td>Yes</td>\n",
              "    </tr>\n",
              "    <tr>\n",
              "      <th>3</th>\n",
              "      <td>7795-CFOCW</td>\n",
              "      <td>Male</td>\n",
              "      <td>No</td>\n",
              "      <td>No</td>\n",
              "      <td>No</td>\n",
              "      <td>45</td>\n",
              "      <td>No</td>\n",
              "      <td>No phone service</td>\n",
              "      <td>DSL</td>\n",
              "      <td>Yes</td>\n",
              "      <td>No</td>\n",
              "      <td>Yes</td>\n",
              "      <td>Yes</td>\n",
              "      <td>No</td>\n",
              "      <td>No</td>\n",
              "      <td>One year</td>\n",
              "      <td>No</td>\n",
              "      <td>Bank transfer (automatic)</td>\n",
              "      <td>42.30</td>\n",
              "      <td>1840.75</td>\n",
              "      <td>No</td>\n",
              "    </tr>\n",
              "    <tr>\n",
              "      <th>4</th>\n",
              "      <td>9237-HQITU</td>\n",
              "      <td>Female</td>\n",
              "      <td>No</td>\n",
              "      <td>No</td>\n",
              "      <td>No</td>\n",
              "      <td>2</td>\n",
              "      <td>Yes</td>\n",
              "      <td>No</td>\n",
              "      <td>Fiber optic</td>\n",
              "      <td>No</td>\n",
              "      <td>No</td>\n",
              "      <td>No</td>\n",
              "      <td>No</td>\n",
              "      <td>No</td>\n",
              "      <td>No</td>\n",
              "      <td>Month-to-month</td>\n",
              "      <td>Yes</td>\n",
              "      <td>Electronic check</td>\n",
              "      <td>70.70</td>\n",
              "      <td>151.65</td>\n",
              "      <td>Yes</td>\n",
              "    </tr>\n",
              "  </tbody>\n",
              "</table>\n",
              "</div>\n",
              "      <button class=\"colab-df-convert\" onclick=\"convertToInteractive('df-24692503-42fe-4846-af71-8f1a181652fa')\"\n",
              "              title=\"Convert this dataframe to an interactive table.\"\n",
              "              style=\"display:none;\">\n",
              "        \n",
              "  <svg xmlns=\"http://www.w3.org/2000/svg\" height=\"24px\"viewBox=\"0 0 24 24\"\n",
              "       width=\"24px\">\n",
              "    <path d=\"M0 0h24v24H0V0z\" fill=\"none\"/>\n",
              "    <path d=\"M18.56 5.44l.94 2.06.94-2.06 2.06-.94-2.06-.94-.94-2.06-.94 2.06-2.06.94zm-11 1L8.5 8.5l.94-2.06 2.06-.94-2.06-.94L8.5 2.5l-.94 2.06-2.06.94zm10 10l.94 2.06.94-2.06 2.06-.94-2.06-.94-.94-2.06-.94 2.06-2.06.94z\"/><path d=\"M17.41 7.96l-1.37-1.37c-.4-.4-.92-.59-1.43-.59-.52 0-1.04.2-1.43.59L10.3 9.45l-7.72 7.72c-.78.78-.78 2.05 0 2.83L4 21.41c.39.39.9.59 1.41.59.51 0 1.02-.2 1.41-.59l7.78-7.78 2.81-2.81c.8-.78.8-2.07 0-2.86zM5.41 20L4 18.59l7.72-7.72 1.47 1.35L5.41 20z\"/>\n",
              "  </svg>\n",
              "      </button>\n",
              "      \n",
              "  <style>\n",
              "    .colab-df-container {\n",
              "      display:flex;\n",
              "      flex-wrap:wrap;\n",
              "      gap: 12px;\n",
              "    }\n",
              "\n",
              "    .colab-df-convert {\n",
              "      background-color: #E8F0FE;\n",
              "      border: none;\n",
              "      border-radius: 50%;\n",
              "      cursor: pointer;\n",
              "      display: none;\n",
              "      fill: #1967D2;\n",
              "      height: 32px;\n",
              "      padding: 0 0 0 0;\n",
              "      width: 32px;\n",
              "    }\n",
              "\n",
              "    .colab-df-convert:hover {\n",
              "      background-color: #E2EBFA;\n",
              "      box-shadow: 0px 1px 2px rgba(60, 64, 67, 0.3), 0px 1px 3px 1px rgba(60, 64, 67, 0.15);\n",
              "      fill: #174EA6;\n",
              "    }\n",
              "\n",
              "    [theme=dark] .colab-df-convert {\n",
              "      background-color: #3B4455;\n",
              "      fill: #D2E3FC;\n",
              "    }\n",
              "\n",
              "    [theme=dark] .colab-df-convert:hover {\n",
              "      background-color: #434B5C;\n",
              "      box-shadow: 0px 1px 3px 1px rgba(0, 0, 0, 0.15);\n",
              "      filter: drop-shadow(0px 1px 2px rgba(0, 0, 0, 0.3));\n",
              "      fill: #FFFFFF;\n",
              "    }\n",
              "  </style>\n",
              "\n",
              "      <script>\n",
              "        const buttonEl =\n",
              "          document.querySelector('#df-24692503-42fe-4846-af71-8f1a181652fa button.colab-df-convert');\n",
              "        buttonEl.style.display =\n",
              "          google.colab.kernel.accessAllowed ? 'block' : 'none';\n",
              "\n",
              "        async function convertToInteractive(key) {\n",
              "          const element = document.querySelector('#df-24692503-42fe-4846-af71-8f1a181652fa');\n",
              "          const dataTable =\n",
              "            await google.colab.kernel.invokeFunction('convertToInteractive',\n",
              "                                                     [key], {});\n",
              "          if (!dataTable) return;\n",
              "\n",
              "          const docLinkHtml = 'Like what you see? Visit the ' +\n",
              "            '<a target=\"_blank\" href=https://colab.research.google.com/notebooks/data_table.ipynb>data table notebook</a>'\n",
              "            + ' to learn more about interactive tables.';\n",
              "          element.innerHTML = '';\n",
              "          dataTable['output_type'] = 'display_data';\n",
              "          await google.colab.output.renderOutput(dataTable, element);\n",
              "          const docLink = document.createElement('div');\n",
              "          docLink.innerHTML = docLinkHtml;\n",
              "          element.appendChild(docLink);\n",
              "        }\n",
              "      </script>\n",
              "    </div>\n",
              "  </div>\n",
              "  "
            ]
          },
          "metadata": {},
          "execution_count": 54
        }
      ]
    },
    {
      "cell_type": "code",
      "source": [
        "#It makes more sense to categorize customers wrt tenure, so let's convert tenure column to tenure range/buckets\n",
        "\n",
        "def convert_to_buckets(tenure):\n",
        "    if tenure <=24:\n",
        "        return '0 - 24 months'\n",
        "    elif tenure <=36:\n",
        "        return '24 - 36 months'\n",
        "    elif tenure <=48:\n",
        "        return '36 - 48 months'\n",
        "    elif tenure <=60:\n",
        "        return '48 - 60 months'\n",
        "    else:\n",
        "        return '> 60 months'\n",
        "\n",
        "df['tenure_group']=df['tenure'].map(convert_to_buckets)\n",
        "df['tenure_group'].value_counts()"
      ],
      "metadata": {
        "colab": {
          "base_uri": "https://localhost:8080/"
        },
        "id": "tDKLtn3rQ82N",
        "outputId": "d3a8ef28-a660-4674-86d5-8d748004befe"
      },
      "execution_count": null,
      "outputs": [
        {
          "output_type": "execute_result",
          "data": {
            "text/plain": [
              "0 - 24 months     3210\n",
              "> 60 months       1407\n",
              "24 - 36 months     832\n",
              "48 - 60 months     832\n",
              "36 - 48 months     762\n",
              "Name: tenure_group, dtype: int64"
            ]
          },
          "metadata": {},
          "execution_count": 55
        }
      ]
    },
    {
      "cell_type": "code",
      "source": [
        "cat_column_name = df.describe(exclude=[np.number]).columns\n",
        "cat_column_name"
      ],
      "metadata": {
        "colab": {
          "base_uri": "https://localhost:8080/"
        },
        "id": "G-5YqfLocI-N",
        "outputId": "71c3ef60-0759-4cc0-86d7-9c31b77c1b3b"
      },
      "execution_count": null,
      "outputs": [
        {
          "output_type": "execute_result",
          "data": {
            "text/plain": [
              "Index(['customerID', 'gender', 'SeniorCitizen', 'Partner', 'Dependents',\n",
              "       'PhoneService', 'MultipleLines', 'InternetService', 'OnlineSecurity',\n",
              "       'OnlineBackup', 'DeviceProtection', 'TechSupport', 'StreamingTV',\n",
              "       'StreamingMovies', 'Contract', 'PaperlessBilling', 'PaymentMethod',\n",
              "       'Churn', 'tenure_group'],\n",
              "      dtype='object')"
            ]
          },
          "metadata": {},
          "execution_count": 56
        }
      ]
    },
    {
      "cell_type": "code",
      "source": [
        "pd.pivot_table(df, values='TotalCharges', index='tenure_group', columns='Churn',\n",
        "                          aggfunc='count')"
      ],
      "metadata": {
        "colab": {
          "base_uri": "https://localhost:8080/",
          "height": 237
        },
        "id": "ualgoSCo5ev-",
        "outputId": "612c23a3-7509-46c9-b1b2-29d064106e97"
      },
      "execution_count": null,
      "outputs": [
        {
          "output_type": "execute_result",
          "data": {
            "text/plain": [
              "Churn             No   Yes\n",
              "tenure_group              \n",
              "0 - 24 months   1879  1331\n",
              "24 - 36 months   652   180\n",
              "36 - 48 months   617   145\n",
              "48 - 60 months   712   120\n",
              "> 60 months     1314    93"
            ],
            "text/html": [
              "\n",
              "  <div id=\"df-f3a82e0f-d6ab-4ca9-b369-6767c192069e\">\n",
              "    <div class=\"colab-df-container\">\n",
              "      <div>\n",
              "<style scoped>\n",
              "    .dataframe tbody tr th:only-of-type {\n",
              "        vertical-align: middle;\n",
              "    }\n",
              "\n",
              "    .dataframe tbody tr th {\n",
              "        vertical-align: top;\n",
              "    }\n",
              "\n",
              "    .dataframe thead th {\n",
              "        text-align: right;\n",
              "    }\n",
              "</style>\n",
              "<table border=\"1\" class=\"dataframe\">\n",
              "  <thead>\n",
              "    <tr style=\"text-align: right;\">\n",
              "      <th>Churn</th>\n",
              "      <th>No</th>\n",
              "      <th>Yes</th>\n",
              "    </tr>\n",
              "    <tr>\n",
              "      <th>tenure_group</th>\n",
              "      <th></th>\n",
              "      <th></th>\n",
              "    </tr>\n",
              "  </thead>\n",
              "  <tbody>\n",
              "    <tr>\n",
              "      <th>0 - 24 months</th>\n",
              "      <td>1879</td>\n",
              "      <td>1331</td>\n",
              "    </tr>\n",
              "    <tr>\n",
              "      <th>24 - 36 months</th>\n",
              "      <td>652</td>\n",
              "      <td>180</td>\n",
              "    </tr>\n",
              "    <tr>\n",
              "      <th>36 - 48 months</th>\n",
              "      <td>617</td>\n",
              "      <td>145</td>\n",
              "    </tr>\n",
              "    <tr>\n",
              "      <th>48 - 60 months</th>\n",
              "      <td>712</td>\n",
              "      <td>120</td>\n",
              "    </tr>\n",
              "    <tr>\n",
              "      <th>&gt; 60 months</th>\n",
              "      <td>1314</td>\n",
              "      <td>93</td>\n",
              "    </tr>\n",
              "  </tbody>\n",
              "</table>\n",
              "</div>\n",
              "      <button class=\"colab-df-convert\" onclick=\"convertToInteractive('df-f3a82e0f-d6ab-4ca9-b369-6767c192069e')\"\n",
              "              title=\"Convert this dataframe to an interactive table.\"\n",
              "              style=\"display:none;\">\n",
              "        \n",
              "  <svg xmlns=\"http://www.w3.org/2000/svg\" height=\"24px\"viewBox=\"0 0 24 24\"\n",
              "       width=\"24px\">\n",
              "    <path d=\"M0 0h24v24H0V0z\" fill=\"none\"/>\n",
              "    <path d=\"M18.56 5.44l.94 2.06.94-2.06 2.06-.94-2.06-.94-.94-2.06-.94 2.06-2.06.94zm-11 1L8.5 8.5l.94-2.06 2.06-.94-2.06-.94L8.5 2.5l-.94 2.06-2.06.94zm10 10l.94 2.06.94-2.06 2.06-.94-2.06-.94-.94-2.06-.94 2.06-2.06.94z\"/><path d=\"M17.41 7.96l-1.37-1.37c-.4-.4-.92-.59-1.43-.59-.52 0-1.04.2-1.43.59L10.3 9.45l-7.72 7.72c-.78.78-.78 2.05 0 2.83L4 21.41c.39.39.9.59 1.41.59.51 0 1.02-.2 1.41-.59l7.78-7.78 2.81-2.81c.8-.78.8-2.07 0-2.86zM5.41 20L4 18.59l7.72-7.72 1.47 1.35L5.41 20z\"/>\n",
              "  </svg>\n",
              "      </button>\n",
              "      \n",
              "  <style>\n",
              "    .colab-df-container {\n",
              "      display:flex;\n",
              "      flex-wrap:wrap;\n",
              "      gap: 12px;\n",
              "    }\n",
              "\n",
              "    .colab-df-convert {\n",
              "      background-color: #E8F0FE;\n",
              "      border: none;\n",
              "      border-radius: 50%;\n",
              "      cursor: pointer;\n",
              "      display: none;\n",
              "      fill: #1967D2;\n",
              "      height: 32px;\n",
              "      padding: 0 0 0 0;\n",
              "      width: 32px;\n",
              "    }\n",
              "\n",
              "    .colab-df-convert:hover {\n",
              "      background-color: #E2EBFA;\n",
              "      box-shadow: 0px 1px 2px rgba(60, 64, 67, 0.3), 0px 1px 3px 1px rgba(60, 64, 67, 0.15);\n",
              "      fill: #174EA6;\n",
              "    }\n",
              "\n",
              "    [theme=dark] .colab-df-convert {\n",
              "      background-color: #3B4455;\n",
              "      fill: #D2E3FC;\n",
              "    }\n",
              "\n",
              "    [theme=dark] .colab-df-convert:hover {\n",
              "      background-color: #434B5C;\n",
              "      box-shadow: 0px 1px 3px 1px rgba(0, 0, 0, 0.15);\n",
              "      filter: drop-shadow(0px 1px 2px rgba(0, 0, 0, 0.3));\n",
              "      fill: #FFFFFF;\n",
              "    }\n",
              "  </style>\n",
              "\n",
              "      <script>\n",
              "        const buttonEl =\n",
              "          document.querySelector('#df-f3a82e0f-d6ab-4ca9-b369-6767c192069e button.colab-df-convert');\n",
              "        buttonEl.style.display =\n",
              "          google.colab.kernel.accessAllowed ? 'block' : 'none';\n",
              "\n",
              "        async function convertToInteractive(key) {\n",
              "          const element = document.querySelector('#df-f3a82e0f-d6ab-4ca9-b369-6767c192069e');\n",
              "          const dataTable =\n",
              "            await google.colab.kernel.invokeFunction('convertToInteractive',\n",
              "                                                     [key], {});\n",
              "          if (!dataTable) return;\n",
              "\n",
              "          const docLinkHtml = 'Like what you see? Visit the ' +\n",
              "            '<a target=\"_blank\" href=https://colab.research.google.com/notebooks/data_table.ipynb>data table notebook</a>'\n",
              "            + ' to learn more about interactive tables.';\n",
              "          element.innerHTML = '';\n",
              "          dataTable['output_type'] = 'display_data';\n",
              "          await google.colab.output.renderOutput(dataTable, element);\n",
              "          const docLink = document.createElement('div');\n",
              "          docLink.innerHTML = docLinkHtml;\n",
              "          element.appendChild(docLink);\n",
              "        }\n",
              "      </script>\n",
              "    </div>\n",
              "  </div>\n",
              "  "
            ]
          },
          "metadata": {},
          "execution_count": 57
        }
      ]
    },
    {
      "cell_type": "code",
      "source": [
        "def eda_cat(df, column_index, column_hue):\n",
        "  pivot_table = pd.pivot_table(df, values='TotalCharges', index=column_index, columns=column_hue,\n",
        "                          aggfunc='count')\n",
        "  pivot_table.plot(kind='bar', \n",
        "                   stacked=True, \n",
        "                   color=['green', 'red'],\n",
        "                   title = 'Churn Customer Bar Chart Based on ' + column_index)"
      ],
      "metadata": {
        "id": "V0tezBf-VyG-"
      },
      "execution_count": null,
      "outputs": []
    },
    {
      "cell_type": "code",
      "source": [
        "# Churn base on tenure\n",
        "eda_cat(df, 'tenure_group', 'Churn')"
      ],
      "metadata": {
        "colab": {
          "base_uri": "https://localhost:8080/",
          "height": 361
        },
        "id": "exmsNyOOWP0W",
        "outputId": "f4bee541-dae6-4f69-f136-5f4563d86eab"
      },
      "execution_count": null,
      "outputs": [
        {
          "output_type": "display_data",
          "data": {
            "text/plain": [
              "<Figure size 432x288 with 1 Axes>"
            ],
            "image/png": "[encoded data removed]"
          },
          "metadata": {
            "needs_background": "light"
          }
        }
      ]
    },
    {
      "cell_type": "code",
      "source": [
        "cat_column_name = df.describe(exclude=[np.number]).columns\n",
        "cat_column_name"
      ],
      "metadata": {
        "colab": {
          "base_uri": "https://localhost:8080/"
        },
        "id": "qVb204-HYYAB",
        "outputId": "57bf9df8-41ac-47af-8784-0aa32f7457e9"
      },
      "execution_count": null,
      "outputs": [
        {
          "output_type": "execute_result",
          "data": {
            "text/plain": [
              "Index(['customerID', 'gender', 'SeniorCitizen', 'Partner', 'Dependents',\n",
              "       'PhoneService', 'MultipleLines', 'InternetService', 'OnlineSecurity',\n",
              "       'OnlineBackup', 'DeviceProtection', 'TechSupport', 'StreamingTV',\n",
              "       'StreamingMovies', 'Contract', 'PaperlessBilling', 'PaymentMethod',\n",
              "       'Churn', 'tenure_group'],\n",
              "      dtype='object')"
            ]
          },
          "metadata": {},
          "execution_count": 311
        }
      ]
    },
    {
      "cell_type": "code",
      "source": [
        "# Churn base on gender\n",
        "eda_cat(df, 'gender', 'Churn')"
      ],
      "metadata": {
        "colab": {
          "base_uri": "https://localhost:8080/",
          "height": 321
        },
        "id": "ubPcvL4fXE1S",
        "outputId": "7f4eb708-dcd1-456e-ff9e-13be819a6c3d"
      },
      "execution_count": null,
      "outputs": [
        {
          "output_type": "display_data",
          "data": {
            "text/plain": [
              "<Figure size 432x288 with 1 Axes>"
            ],
            "image/png": "[encoded data removed]"
          },
          "metadata": {
            "needs_background": "light"
          }
        }
      ]
    },
    {
      "cell_type": "code",
      "source": [
        "# Churn base on SeniorCitizen\n",
        "eda_cat(df, 'SeniorCitizen', 'Churn')"
      ],
      "metadata": {
        "colab": {
          "base_uri": "https://localhost:8080/",
          "height": 301
        },
        "id": "migWedY8ZEiv",
        "outputId": "67a39385-7aac-45a3-9de1-d0a717a7e669"
      },
      "execution_count": null,
      "outputs": [
        {
          "output_type": "display_data",
          "data": {
            "text/plain": [
              "<Figure size 432x288 with 1 Axes>"
            ],
            "image/png": "[encoded data removed]"
          },
          "metadata": {
            "needs_background": "light"
          }
        }
      ]
    },
    {
      "cell_type": "code",
      "source": [
        "# Churn base on Partner\n",
        "eda_cat(df, 'Partner', 'Churn')"
      ],
      "metadata": {
        "colab": {
          "base_uri": "https://localhost:8080/",
          "height": 301
        },
        "id": "JKLkNkBCZHI2",
        "outputId": "b15221e0-e976-4cce-c87d-17b9972e543c"
      },
      "execution_count": null,
      "outputs": [
        {
          "output_type": "display_data",
          "data": {
            "text/plain": [
              "<Figure size 432x288 with 1 Axes>"
            ],
            "image/png": "[encoded data removed]"
          },
          "metadata": {
            "needs_background": "light"
          }
        }
      ]
    },
    {
      "cell_type": "code",
      "source": [
        "# Churn base on Dependents\n",
        "eda_cat(df, 'Dependents', 'Churn')"
      ],
      "metadata": {
        "colab": {
          "base_uri": "https://localhost:8080/",
          "height": 301
        },
        "id": "15cILg1_ZNku",
        "outputId": "f4051d0b-60e0-40ae-b378-6e49ce5a1a18"
      },
      "execution_count": null,
      "outputs": [
        {
          "output_type": "display_data",
          "data": {
            "text/plain": [
              "<Figure size 432x288 with 1 Axes>"
            ],
            "image/png": "[encoded data removed]"
          },
          "metadata": {
            "needs_background": "light"
          }
        }
      ]
    },
    {
      "cell_type": "code",
      "source": [
        "# Churn base on PhoneService\n",
        "eda_cat(df, 'PhoneService', 'Churn')"
      ],
      "metadata": {
        "colab": {
          "base_uri": "https://localhost:8080/",
          "height": 301
        },
        "id": "Nt2M_mmJZUFe",
        "outputId": "f8739043-c6dd-4f58-c805-17ee759c334a"
      },
      "execution_count": null,
      "outputs": [
        {
          "output_type": "display_data",
          "data": {
            "text/plain": [
              "<Figure size 432x288 with 1 Axes>"
            ],
            "image/png": "[encoded data removed]"
          },
          "metadata": {
            "needs_background": "light"
          }
        }
      ]
    },
    {
      "cell_type": "code",
      "source": [
        "# Churn base on MultipleLines\n",
        "eda_cat(df, 'MultipleLines', 'Churn')"
      ],
      "metadata": {
        "colab": {
          "base_uri": "https://localhost:8080/",
          "height": 372
        },
        "id": "MvI3ex7XZZbQ",
        "outputId": "c72f166f-f604-45fc-bcb2-befd6b8d777e"
      },
      "execution_count": null,
      "outputs": [
        {
          "output_type": "display_data",
          "data": {
            "text/plain": [
              "<Figure size 432x288 with 1 Axes>"
            ],
            "image/png": "[encoded data removed]"
          },
          "metadata": {
            "needs_background": "light"
          }
        }
      ]
    },
    {
      "cell_type": "code",
      "source": [
        "# Churn base on InternetService\n",
        "eda_cat(df, 'InternetService', 'Churn')"
      ],
      "metadata": {
        "colab": {
          "base_uri": "https://localhost:8080/",
          "height": 337
        },
        "id": "SvseAnYeZdvQ",
        "outputId": "36a38552-be48-442c-8c6a-7d0baedeb0b3"
      },
      "execution_count": null,
      "outputs": [
        {
          "output_type": "display_data",
          "data": {
            "text/plain": [
              "<Figure size 432x288 with 1 Axes>"
            ],
            "image/png": "[encoded data removed]"
          },
          "metadata": {
            "needs_background": "light"
          }
        }
      ]
    },
    {
      "cell_type": "code",
      "source": [
        "# Churn base on OnlineSecurity\n",
        "eda_cat(df, 'OnlineSecurity', 'Churn')"
      ],
      "metadata": {
        "colab": {
          "base_uri": "https://localhost:8080/",
          "height": 381
        },
        "id": "w_F00LKKZjt_",
        "outputId": "aa844e19-5ed4-43ea-ce21-2efe6aa557fe"
      },
      "execution_count": null,
      "outputs": [
        {
          "output_type": "display_data",
          "data": {
            "text/plain": [
              "<Figure size 432x288 with 1 Axes>"
            ],
            "image/png": "[encoded data removed]"
          },
          "metadata": {
            "needs_background": "light"
          }
        }
      ]
    },
    {
      "cell_type": "code",
      "source": [
        "# Churn base on OnlineBackup\n",
        "eda_cat(df, 'OnlineBackup', 'Churn')"
      ],
      "metadata": {
        "colab": {
          "base_uri": "https://localhost:8080/",
          "height": 381
        },
        "id": "bl7E4DMCZngC",
        "outputId": "746525f3-1c69-4d4c-9855-c4a96d0d55c9"
      },
      "execution_count": null,
      "outputs": [
        {
          "output_type": "display_data",
          "data": {
            "text/plain": [
              "<Figure size 432x288 with 1 Axes>"
            ],
            "image/png": "[encoded data removed]"
          },
          "metadata": {
            "needs_background": "light"
          }
        }
      ]
    },
    {
      "cell_type": "code",
      "source": [
        "# Churn base on DeviceProtection\n",
        "eda_cat(df, 'DeviceProtection', 'Churn')"
      ],
      "metadata": {
        "colab": {
          "base_uri": "https://localhost:8080/",
          "height": 381
        },
        "id": "FF5vA9AQZrzi",
        "outputId": "c385b410-e7a3-4af6-b623-2f70cc4ace32"
      },
      "execution_count": null,
      "outputs": [
        {
          "output_type": "display_data",
          "data": {
            "text/plain": [
              "<Figure size 432x288 with 1 Axes>"
            ],
            "image/png": "[encoded data removed]"
          },
          "metadata": {
            "needs_background": "light"
          }
        }
      ]
    },
    {
      "cell_type": "code",
      "source": [
        "# Churn base on TechSupport\n",
        "eda_cat(df, 'TechSupport', 'Churn')"
      ],
      "metadata": {
        "colab": {
          "base_uri": "https://localhost:8080/",
          "height": 381
        },
        "id": "RmGFn3exZxhH",
        "outputId": "916ca2a6-600d-4b8f-9618-751a51287f93"
      },
      "execution_count": null,
      "outputs": [
        {
          "output_type": "display_data",
          "data": {
            "text/plain": [
              "<Figure size 432x288 with 1 Axes>"
            ],
            "image/png": "[encoded data removed]"
          },
          "metadata": {
            "needs_background": "light"
          }
        }
      ]
    },
    {
      "cell_type": "code",
      "source": [
        "# Churn base on StreamingTV\n",
        "eda_cat(df, 'StreamingTV', 'Churn')"
      ],
      "metadata": {
        "colab": {
          "base_uri": "https://localhost:8080/",
          "height": 381
        },
        "id": "FubwXfkKZ0_p",
        "outputId": "2b77816a-9132-4baf-baf5-e8d2867256da"
      },
      "execution_count": null,
      "outputs": [
        {
          "output_type": "display_data",
          "data": {
            "text/plain": [
              "<Figure size 432x288 with 1 Axes>"
            ],
            "image/png": "[encoded data removed]"
          },
          "metadata": {
            "needs_background": "light"
          }
        }
      ]
    },
    {
      "cell_type": "code",
      "source": [
        "# Churn base on StreamingMovies\n",
        "eda_cat(df, 'StreamingMovies', 'Churn')"
      ],
      "metadata": {
        "colab": {
          "base_uri": "https://localhost:8080/",
          "height": 381
        },
        "id": "R61jlKstZ41Y",
        "outputId": "05a12c27-0d8d-4c61-a489-37c647a26cda"
      },
      "execution_count": null,
      "outputs": [
        {
          "output_type": "display_data",
          "data": {
            "text/plain": [
              "<Figure size 432x288 with 1 Axes>"
            ],
            "image/png": "[encoded data removed]"
          },
          "metadata": {
            "needs_background": "light"
          }
        }
      ]
    },
    {
      "cell_type": "code",
      "source": [
        "# Churn base on Contract\n",
        "eda_cat(df, 'Contract', 'Churn')"
      ],
      "metadata": {
        "colab": {
          "base_uri": "https://localhost:8080/",
          "height": 381
        },
        "id": "3M5jcGWEZ-YP",
        "outputId": "5bb9e804-3ce3-471c-81da-ee356435a924"
      },
      "execution_count": null,
      "outputs": [
        {
          "output_type": "display_data",
          "data": {
            "text/plain": [
              "<Figure size 432x288 with 1 Axes>"
            ],
            "image/png": "[encoded data removed]"
          },
          "metadata": {
            "needs_background": "light"
          }
        }
      ]
    },
    {
      "cell_type": "code",
      "source": [
        "# Churn base on PaperlessBilling\n",
        "eda_cat(df, 'PaperlessBilling', 'Churn')"
      ],
      "metadata": {
        "colab": {
          "base_uri": "https://localhost:8080/",
          "height": 301
        },
        "id": "NwpZn1pvaEtg",
        "outputId": "9d0aaaeb-cb87-411a-b7ff-adb2e73558ac"
      },
      "execution_count": null,
      "outputs": [
        {
          "output_type": "display_data",
          "data": {
            "text/plain": [
              "<Figure size 432x288 with 1 Axes>"
            ],
            "image/png": "[encoded data removed]"
          },
          "metadata": {
            "needs_background": "light"
          }
        }
      ]
    },
    {
      "cell_type": "code",
      "source": [
        "# Churn base on PaymentMethod\n",
        "eda_cat(df, 'PaymentMethod', 'Churn')"
      ],
      "metadata": {
        "colab": {
          "base_uri": "https://localhost:8080/",
          "height": 414
        },
        "id": "G2-EHblKaI3n",
        "outputId": "d6c43669-1482-42b5-80fe-884a10f1d9a0"
      },
      "execution_count": null,
      "outputs": [
        {
          "output_type": "display_data",
          "data": {
            "text/plain": [
              "<Figure size 432x288 with 1 Axes>"
            ],
            "image/png": "[encoded data removed]"
          },
          "metadata": {
            "needs_background": "light"
          }
        }
      ]
    },
    {
      "cell_type": "markdown",
      "source": [
        "## Conclusion\n",
        "Based on the results and analysis above, it can be concluded:\n",
        "\n",
        "* First, we can see that the distribution of data as a whole does not churn customers, with details of Churn as much as 26% and No Churn as much as 74%.\n",
        "\n",
        "* Second, we can see that for MonthlyCharges there is a tendency that the smaller the monthly fee charged, the smaller the tendency to Churn. For TotalCharges, there seems to be no trend towards Churn customers. For tenure, there is a tendency that the longer the customer subscribes, the smaller the tendency to Churn.\n",
        "\n",
        "* Third, we can see that there is no significant difference for people who do churn in terms of gender and telephone service. However, there is a tendency that people who churn are people who do not have partners (partners: No), people whose status is senior citizens (SeniorCitizen: Yes), people who have TV streaming services (StreamingTV: Yes) , people who have Internet service (internetService: Yes) and people whose bills are paperless (PaperlessBilling: Yes)."
      ],
      "metadata": {
        "id": "FGTyjiohgjFg"
      }
    },
    {
      "cell_type": "markdown",
      "source": [
        "#4 Data Pre-Processing / Feature Engineenring"
      ],
      "metadata": {
        "id": "1ok13mHTeaUp"
      }
    },
    {
      "cell_type": "markdown",
      "source": [
        "## Removing Unnecessary Columns from data\n",
        "\n",
        "Next we will delete the column that will not be included in the modeling, then save it with **name cleaned_df**. Show the top 5 rows.\n",
        "\n",
        "Use **drop()** to remove a column from a data"
      ],
      "metadata": {
        "id": "9Yg7pztggupl"
      }
    },
    {
      "cell_type": "code",
      "source": [
        "#Remove the unnecessary columns customerID & UpdatedAt\n",
        "df = df.drop(['customerID', 'tenure_group'], axis=1)\n",
        "df"
      ],
      "metadata": {
        "colab": {
          "base_uri": "https://localhost:8080/",
          "height": 626
        },
        "id": "ZIucE2qtgwSf",
        "outputId": "6afd212a-3ebb-4af7-fcf6-da3d9be86b72"
      },
      "execution_count": null,
      "outputs": [
        {
          "output_type": "execute_result",
          "data": {
            "text/plain": [
              "      gender SeniorCitizen Partner Dependents  tenure PhoneService  \\\n",
              "0     Female            No     Yes         No       1           No   \n",
              "1       Male            No      No         No      34          Yes   \n",
              "2       Male            No      No         No       2          Yes   \n",
              "3       Male            No      No         No      45           No   \n",
              "4     Female            No      No         No       2          Yes   \n",
              "...      ...           ...     ...        ...     ...          ...   \n",
              "7038    Male            No     Yes        Yes      24          Yes   \n",
              "7039  Female            No     Yes        Yes      72          Yes   \n",
              "7040  Female            No     Yes        Yes      11           No   \n",
              "7041    Male           Yes     Yes         No       4          Yes   \n",
              "7042    Male            No      No         No      66          Yes   \n",
              "\n",
              "         MultipleLines InternetService OnlineSecurity OnlineBackup  \\\n",
              "0     No phone service             DSL             No          Yes   \n",
              "1                   No             DSL            Yes           No   \n",
              "2                   No             DSL            Yes          Yes   \n",
              "3     No phone service             DSL            Yes           No   \n",
              "4                   No     Fiber optic             No           No   \n",
              "...                ...             ...            ...          ...   \n",
              "7038               Yes             DSL            Yes           No   \n",
              "7039               Yes     Fiber optic             No          Yes   \n",
              "7040  No phone service             DSL            Yes           No   \n",
              "7041               Yes     Fiber optic             No           No   \n",
              "7042                No     Fiber optic            Yes           No   \n",
              "\n",
              "     DeviceProtection TechSupport StreamingTV StreamingMovies        Contract  \\\n",
              "0                  No          No          No              No  Month-to-month   \n",
              "1                 Yes          No          No              No        One year   \n",
              "2                  No          No          No              No  Month-to-month   \n",
              "3                 Yes         Yes          No              No        One year   \n",
              "4                  No          No          No              No  Month-to-month   \n",
              "...               ...         ...         ...             ...             ...   \n",
              "7038              Yes         Yes         Yes             Yes        One year   \n",
              "7039              Yes          No         Yes             Yes        One year   \n",
              "7040               No          No          No              No  Month-to-month   \n",
              "7041               No          No          No              No  Month-to-month   \n",
              "7042              Yes         Yes         Yes             Yes        Two year   \n",
              "\n",
              "     PaperlessBilling              PaymentMethod  MonthlyCharges  \\\n",
              "0                 Yes           Electronic check           29.85   \n",
              "1                  No               Mailed check           56.95   \n",
              "2                 Yes               Mailed check           53.85   \n",
              "3                  No  Bank transfer (automatic)           42.30   \n",
              "4                 Yes           Electronic check           70.70   \n",
              "...               ...                        ...             ...   \n",
              "7038              Yes               Mailed check           84.80   \n",
              "7039              Yes    Credit card (automatic)          103.20   \n",
              "7040              Yes           Electronic check           29.60   \n",
              "7041              Yes               Mailed check           74.40   \n",
              "7042              Yes  Bank transfer (automatic)          105.65   \n",
              "\n",
              "      TotalCharges Churn  \n",
              "0            29.85    No  \n",
              "1          1889.50    No  \n",
              "2           108.15   Yes  \n",
              "3          1840.75    No  \n",
              "4           151.65   Yes  \n",
              "...            ...   ...  \n",
              "7038       1990.50    No  \n",
              "7039       7362.90    No  \n",
              "7040        346.45    No  \n",
              "7041        306.60   Yes  \n",
              "7042       6844.50    No  \n",
              "\n",
              "[7043 rows x 20 columns]"
            ],
            "text/html": [
              "\n",
              "  <div id=\"df-d3b490a7-75bc-4509-a465-3b78ae801e75\">\n",
              "    <div class=\"colab-df-container\">\n",
              "      <div>\n",
              "<style scoped>\n",
              "    .dataframe tbody tr th:only-of-type {\n",
              "        vertical-align: middle;\n",
              "    }\n",
              "\n",
              "    .dataframe tbody tr th {\n",
              "        vertical-align: top;\n",
              "    }\n",
              "\n",
              "    .dataframe thead th {\n",
              "        text-align: right;\n",
              "    }\n",
              "</style>\n",
              "<table border=\"1\" class=\"dataframe\">\n",
              "  <thead>\n",
              "    <tr style=\"text-align: right;\">\n",
              "      <th></th>\n",
              "      <th>gender</th>\n",
              "      <th>SeniorCitizen</th>\n",
              "      <th>Partner</th>\n",
              "      <th>Dependents</th>\n",
              "      <th>tenure</th>\n",
              "      <th>PhoneService</th>\n",
              "      <th>MultipleLines</th>\n",
              "      <th>InternetService</th>\n",
              "      <th>OnlineSecurity</th>\n",
              "      <th>OnlineBackup</th>\n",
              "      <th>DeviceProtection</th>\n",
              "      <th>TechSupport</th>\n",
              "      <th>StreamingTV</th>\n",
              "      <th>StreamingMovies</th>\n",
              "      <th>Contract</th>\n",
              "      <th>PaperlessBilling</th>\n",
              "      <th>PaymentMethod</th>\n",
              "      <th>MonthlyCharges</th>\n",
              "      <th>TotalCharges</th>\n",
              "      <th>Churn</th>\n",
              "    </tr>\n",
              "  </thead>\n",
              "  <tbody>\n",
              "    <tr>\n",
              "      <th>0</th>\n",
              "      <td>Female</td>\n",
              "      <td>No</td>\n",
              "      <td>Yes</td>\n",
              "      <td>No</td>\n",
              "      <td>1</td>\n",
              "      <td>No</td>\n",
              "      <td>No phone service</td>\n",
              "      <td>DSL</td>\n",
              "      <td>No</td>\n",
              "      <td>Yes</td>\n",
              "      <td>No</td>\n",
              "      <td>No</td>\n",
              "      <td>No</td>\n",
              "      <td>No</td>\n",
              "      <td>Month-to-month</td>\n",
              "      <td>Yes</td>\n",
              "      <td>Electronic check</td>\n",
              "      <td>29.85</td>\n",
              "      <td>29.85</td>\n",
              "      <td>No</td>\n",
              "    </tr>\n",
              "    <tr>\n",
              "      <th>1</th>\n",
              "      <td>Male</td>\n",
              "      <td>No</td>\n",
              "      <td>No</td>\n",
              "      <td>No</td>\n",
              "      <td>34</td>\n",
              "      <td>Yes</td>\n",
              "      <td>No</td>\n",
              "      <td>DSL</td>\n",
              "      <td>Yes</td>\n",
              "      <td>No</td>\n",
              "      <td>Yes</td>\n",
              "      <td>No</td>\n",
              "      <td>No</td>\n",
              "      <td>No</td>\n",
              "      <td>One year</td>\n",
              "      <td>No</td>\n",
              "      <td>Mailed check</td>\n",
              "      <td>56.95</td>\n",
              "      <td>1889.50</td>\n",
              "      <td>No</td>\n",
              "    </tr>\n",
              "    <tr>\n",
              "      <th>2</th>\n",
              "      <td>Male</td>\n",
              "      <td>No</td>\n",
              "      <td>No</td>\n",
              "      <td>No</td>\n",
              "      <td>2</td>\n",
              "      <td>Yes</td>\n",
              "      <td>No</td>\n",
              "      <td>DSL</td>\n",
              "      <td>Yes</td>\n",
              "      <td>Yes</td>\n",
              "      <td>No</td>\n",
              "      <td>No</td>\n",
              "      <td>No</td>\n",
              "      <td>No</td>\n",
              "      <td>Month-to-month</td>\n",
              "      <td>Yes</td>\n",
              "      <td>Mailed check</td>\n",
              "      <td>53.85</td>\n",
              "      <td>108.15</td>\n",
              "      <td>Yes</td>\n",
              "    </tr>\n",
              "    <tr>\n",
              "      <th>3</th>\n",
              "      <td>Male</td>\n",
              "      <td>No</td>\n",
              "      <td>No</td>\n",
              "      <td>No</td>\n",
              "      <td>45</td>\n",
              "      <td>No</td>\n",
              "      <td>No phone service</td>\n",
              "      <td>DSL</td>\n",
              "      <td>Yes</td>\n",
              "      <td>No</td>\n",
              "      <td>Yes</td>\n",
              "      <td>Yes</td>\n",
              "      <td>No</td>\n",
              "      <td>No</td>\n",
              "      <td>One year</td>\n",
              "      <td>No</td>\n",
              "      <td>Bank transfer (automatic)</td>\n",
              "      <td>42.30</td>\n",
              "      <td>1840.75</td>\n",
              "      <td>No</td>\n",
              "    </tr>\n",
              "    <tr>\n",
              "      <th>4</th>\n",
              "      <td>Female</td>\n",
              "      <td>No</td>\n",
              "      <td>No</td>\n",
              "      <td>No</td>\n",
              "      <td>2</td>\n",
              "      <td>Yes</td>\n",
              "      <td>No</td>\n",
              "      <td>Fiber optic</td>\n",
              "      <td>No</td>\n",
              "      <td>No</td>\n",
              "      <td>No</td>\n",
              "      <td>No</td>\n",
              "      <td>No</td>\n",
              "      <td>No</td>\n",
              "      <td>Month-to-month</td>\n",
              "      <td>Yes</td>\n",
              "      <td>Electronic check</td>\n",
              "      <td>70.70</td>\n",
              "      <td>151.65</td>\n",
              "      <td>Yes</td>\n",
              "    </tr>\n",
              "    <tr>\n",
              "      <th>...</th>\n",
              "      <td>...</td>\n",
              "      <td>...</td>\n",
              "      <td>...</td>\n",
              "      <td>...</td>\n",
              "      <td>...</td>\n",
              "      <td>...</td>\n",
              "      <td>...</td>\n",
              "      <td>...</td>\n",
              "      <td>...</td>\n",
              "      <td>...</td>\n",
              "      <td>...</td>\n",
              "      <td>...</td>\n",
              "      <td>...</td>\n",
              "      <td>...</td>\n",
              "      <td>...</td>\n",
              "      <td>...</td>\n",
              "      <td>...</td>\n",
              "      <td>...</td>\n",
              "      <td>...</td>\n",
              "      <td>...</td>\n",
              "    </tr>\n",
              "    <tr>\n",
              "      <th>7038</th>\n",
              "      <td>Male</td>\n",
              "      <td>No</td>\n",
              "      <td>Yes</td>\n",
              "      <td>Yes</td>\n",
              "      <td>24</td>\n",
              "      <td>Yes</td>\n",
              "      <td>Yes</td>\n",
              "      <td>DSL</td>\n",
              "      <td>Yes</td>\n",
              "      <td>No</td>\n",
              "      <td>Yes</td>\n",
              "      <td>Yes</td>\n",
              "      <td>Yes</td>\n",
              "      <td>Yes</td>\n",
              "      <td>One year</td>\n",
              "      <td>Yes</td>\n",
              "      <td>Mailed check</td>\n",
              "      <td>84.80</td>\n",
              "      <td>1990.50</td>\n",
              "      <td>No</td>\n",
              "    </tr>\n",
              "    <tr>\n",
              "      <th>7039</th>\n",
              "      <td>Female</td>\n",
              "      <td>No</td>\n",
              "      <td>Yes</td>\n",
              "      <td>Yes</td>\n",
              "      <td>72</td>\n",
              "      <td>Yes</td>\n",
              "      <td>Yes</td>\n",
              "      <td>Fiber optic</td>\n",
              "      <td>No</td>\n",
              "      <td>Yes</td>\n",
              "      <td>Yes</td>\n",
              "      <td>No</td>\n",
              "      <td>Yes</td>\n",
              "      <td>Yes</td>\n",
              "      <td>One year</td>\n",
              "      <td>Yes</td>\n",
              "      <td>Credit card (automatic)</td>\n",
              "      <td>103.20</td>\n",
              "      <td>7362.90</td>\n",
              "      <td>No</td>\n",
              "    </tr>\n",
              "    <tr>\n",
              "      <th>7040</th>\n",
              "      <td>Female</td>\n",
              "      <td>No</td>\n",
              "      <td>Yes</td>\n",
              "      <td>Yes</td>\n",
              "      <td>11</td>\n",
              "      <td>No</td>\n",
              "      <td>No phone service</td>\n",
              "      <td>DSL</td>\n",
              "      <td>Yes</td>\n",
              "      <td>No</td>\n",
              "      <td>No</td>\n",
              "      <td>No</td>\n",
              "      <td>No</td>\n",
              "      <td>No</td>\n",
              "      <td>Month-to-month</td>\n",
              "      <td>Yes</td>\n",
              "      <td>Electronic check</td>\n",
              "      <td>29.60</td>\n",
              "      <td>346.45</td>\n",
              "      <td>No</td>\n",
              "    </tr>\n",
              "    <tr>\n",
              "      <th>7041</th>\n",
              "      <td>Male</td>\n",
              "      <td>Yes</td>\n",
              "      <td>Yes</td>\n",
              "      <td>No</td>\n",
              "      <td>4</td>\n",
              "      <td>Yes</td>\n",
              "      <td>Yes</td>\n",
              "      <td>Fiber optic</td>\n",
              "      <td>No</td>\n",
              "      <td>No</td>\n",
              "      <td>No</td>\n",
              "      <td>No</td>\n",
              "      <td>No</td>\n",
              "      <td>No</td>\n",
              "      <td>Month-to-month</td>\n",
              "      <td>Yes</td>\n",
              "      <td>Mailed check</td>\n",
              "      <td>74.40</td>\n",
              "      <td>306.60</td>\n",
              "      <td>Yes</td>\n",
              "    </tr>\n",
              "    <tr>\n",
              "      <th>7042</th>\n",
              "      <td>Male</td>\n",
              "      <td>No</td>\n",
              "      <td>No</td>\n",
              "      <td>No</td>\n",
              "      <td>66</td>\n",
              "      <td>Yes</td>\n",
              "      <td>No</td>\n",
              "      <td>Fiber optic</td>\n",
              "      <td>Yes</td>\n",
              "      <td>No</td>\n",
              "      <td>Yes</td>\n",
              "      <td>Yes</td>\n",
              "      <td>Yes</td>\n",
              "      <td>Yes</td>\n",
              "      <td>Two year</td>\n",
              "      <td>Yes</td>\n",
              "      <td>Bank transfer (automatic)</td>\n",
              "      <td>105.65</td>\n",
              "      <td>6844.50</td>\n",
              "      <td>No</td>\n",
              "    </tr>\n",
              "  </tbody>\n",
              "</table>\n",
              "<p>7043 rows × 20 columns</p>\n",
              "</div>\n",
              "      <button class=\"colab-df-convert\" onclick=\"convertToInteractive('df-d3b490a7-75bc-4509-a465-3b78ae801e75')\"\n",
              "              title=\"Convert this dataframe to an interactive table.\"\n",
              "              style=\"display:none;\">\n",
              "        \n",
              "  <svg xmlns=\"http://www.w3.org/2000/svg\" height=\"24px\"viewBox=\"0 0 24 24\"\n",
              "       width=\"24px\">\n",
              "    <path d=\"M0 0h24v24H0V0z\" fill=\"none\"/>\n",
              "    <path d=\"M18.56 5.44l.94 2.06.94-2.06 2.06-.94-2.06-.94-.94-2.06-.94 2.06-2.06.94zm-11 1L8.5 8.5l.94-2.06 2.06-.94-2.06-.94L8.5 2.5l-.94 2.06-2.06.94zm10 10l.94 2.06.94-2.06 2.06-.94-2.06-.94-.94-2.06-.94 2.06-2.06.94z\"/><path d=\"M17.41 7.96l-1.37-1.37c-.4-.4-.92-.59-1.43-.59-.52 0-1.04.2-1.43.59L10.3 9.45l-7.72 7.72c-.78.78-.78 2.05 0 2.83L4 21.41c.39.39.9.59 1.41.59.51 0 1.02-.2 1.41-.59l7.78-7.78 2.81-2.81c.8-.78.8-2.07 0-2.86zM5.41 20L4 18.59l7.72-7.72 1.47 1.35L5.41 20z\"/>\n",
              "  </svg>\n",
              "      </button>\n",
              "      \n",
              "  <style>\n",
              "    .colab-df-container {\n",
              "      display:flex;\n",
              "      flex-wrap:wrap;\n",
              "      gap: 12px;\n",
              "    }\n",
              "\n",
              "    .colab-df-convert {\n",
              "      background-color: #E8F0FE;\n",
              "      border: none;\n",
              "      border-radius: 50%;\n",
              "      cursor: pointer;\n",
              "      display: none;\n",
              "      fill: #1967D2;\n",
              "      height: 32px;\n",
              "      padding: 0 0 0 0;\n",
              "      width: 32px;\n",
              "    }\n",
              "\n",
              "    .colab-df-convert:hover {\n",
              "      background-color: #E2EBFA;\n",
              "      box-shadow: 0px 1px 2px rgba(60, 64, 67, 0.3), 0px 1px 3px 1px rgba(60, 64, 67, 0.15);\n",
              "      fill: #174EA6;\n",
              "    }\n",
              "\n",
              "    [theme=dark] .colab-df-convert {\n",
              "      background-color: #3B4455;\n",
              "      fill: #D2E3FC;\n",
              "    }\n",
              "\n",
              "    [theme=dark] .colab-df-convert:hover {\n",
              "      background-color: #434B5C;\n",
              "      box-shadow: 0px 1px 3px 1px rgba(0, 0, 0, 0.15);\n",
              "      filter: drop-shadow(0px 1px 2px rgba(0, 0, 0, 0.3));\n",
              "      fill: #FFFFFF;\n",
              "    }\n",
              "  </style>\n",
              "\n",
              "      <script>\n",
              "        const buttonEl =\n",
              "          document.querySelector('#df-d3b490a7-75bc-4509-a465-3b78ae801e75 button.colab-df-convert');\n",
              "        buttonEl.style.display =\n",
              "          google.colab.kernel.accessAllowed ? 'block' : 'none';\n",
              "\n",
              "        async function convertToInteractive(key) {\n",
              "          const element = document.querySelector('#df-d3b490a7-75bc-4509-a465-3b78ae801e75');\n",
              "          const dataTable =\n",
              "            await google.colab.kernel.invokeFunction('convertToInteractive',\n",
              "                                                     [key], {});\n",
              "          if (!dataTable) return;\n",
              "\n",
              "          const docLinkHtml = 'Like what you see? Visit the ' +\n",
              "            '<a target=\"_blank\" href=https://colab.research.google.com/notebooks/data_table.ipynb>data table notebook</a>'\n",
              "            + ' to learn more about interactive tables.';\n",
              "          element.innerHTML = '';\n",
              "          dataTable['output_type'] = 'display_data';\n",
              "          await google.colab.output.renderOutput(dataTable, element);\n",
              "          const docLink = document.createElement('div');\n",
              "          docLink.innerHTML = docLinkHtml;\n",
              "          element.appendChild(docLink);\n",
              "        }\n",
              "      </script>\n",
              "    </div>\n",
              "  </div>\n",
              "  "
            ]
          },
          "metadata": {},
          "execution_count": 75
        }
      ]
    },
    {
      "cell_type": "markdown",
      "source": [
        "## Balancing Data Label"
      ],
      "metadata": {
        "id": "93KDZ8WumCWS"
      }
    },
    {
      "cell_type": "markdown",
      "source": [
        "![1_H6XodlitlGDl9YdbwaZLMw.png](data:image/png;base64,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)"
      ],
      "metadata": {
        "id": "kEA51A4hkwRQ"
      }
    },
    {
      "cell_type": "code",
      "source": [
        "# class count\n",
        "class_count_0, class_count_1 = df['Churn'].value_counts()\n",
        "\n",
        "# Separate class\n",
        "class_0 = df[df['Churn'] == 'No']\n",
        "class_1 = df[df['Churn'] == 'Yes']# print the shape of the class\n",
        "print('class 0:', class_0.shape)\n",
        "print('class 1:', class_1.shape)"
      ],
      "metadata": {
        "colab": {
          "base_uri": "https://localhost:8080/"
        },
        "id": "7Qdm2-JJlTFP",
        "outputId": "97ad6bde-d9e6-4b55-9732-6eef113ea369"
      },
      "execution_count": null,
      "outputs": [
        {
          "output_type": "stream",
          "name": "stdout",
          "text": [
            "class 0: (5174, 20)\n",
            "class 1: (1869, 20)\n"
          ]
        }
      ]
    },
    {
      "cell_type": "code",
      "source": [
        "class_0_under = class_0.sample(class_count_1)\n",
        "\n",
        "df_use = pd.concat([class_0_under, class_1], axis=0)\n",
        "\n",
        "print(\"total class of Yes and No:\",df_use['Churn'].value_counts())# plot the count after under-sampeling\n",
        "df_use['Churn'].value_counts().plot(kind='bar', title='count (target)')"
      ],
      "metadata": {
        "colab": {
          "base_uri": "https://localhost:8080/",
          "height": 356
        },
        "id": "NOY__asNlh7J",
        "outputId": "412810e5-9f34-4261-9b62-82bae08cfe1f"
      },
      "execution_count": null,
      "outputs": [
        {
          "output_type": "stream",
          "name": "stdout",
          "text": [
            "total class of Yes and No: No     1869\n",
            "Yes    1869\n",
            "Name: Churn, dtype: int64\n"
          ]
        },
        {
          "output_type": "execute_result",
          "data": {
            "text/plain": [
              "<matplotlib.axes._subplots.AxesSubplot at 0x7f99083caf90>"
            ]
          },
          "metadata": {},
          "execution_count": 77
        },
        {
          "output_type": "display_data",
          "data": {
            "text/plain": [
              "<Figure size 432x288 with 1 Axes>"
            ],
            "image/png": "[encoded data removed]"
          },
          "metadata": {
            "needs_background": "light"
          }
        }
      ]
    },
    {
      "cell_type": "code",
      "source": [
        "cat_column_name = df_use.describe(exclude=[np.number]).columns"
      ],
      "metadata": {
        "id": "slFpomOLfDM6"
      },
      "execution_count": null,
      "outputs": []
    },
    {
      "cell_type": "code",
      "source": [
        "# Encoding data categorical\n",
        "from sklearn.preprocessing import LabelEncoder\n",
        "labelencoder = LabelEncoder()\n",
        "\n",
        "for col in cat_column_name:\n",
        "    df_use[col] = labelencoder.fit_transform(df_use[col])\n",
        "\n",
        "df_use[cat_column_name].head()"
      ],
      "metadata": {
        "colab": {
          "base_uri": "https://localhost:8080/",
          "height": 270
        },
        "id": "moXQ6jV_ejw3",
        "outputId": "938901ac-5a46-432a-8527-6d46924643f5"
      },
      "execution_count": null,
      "outputs": [
        {
          "output_type": "execute_result",
          "data": {
            "text/plain": [
              "      gender  SeniorCitizen  Partner  Dependents  PhoneService  MultipleLines  \\\n",
              "1228       0              0        1           0             1              2   \n",
              "987        1              0        0           0             1              0   \n",
              "6699       0              0        0           0             1              0   \n",
              "6397       1              1        0           0             1              0   \n",
              "706        0              0        0           0             1              0   \n",
              "\n",
              "      InternetService  OnlineSecurity  OnlineBackup  DeviceProtection  \\\n",
              "1228                1               2             0                 0   \n",
              "987                 2               1             1                 1   \n",
              "6699                2               1             1                 1   \n",
              "6397                0               0             0                 2   \n",
              "706                 0               2             2                 0   \n",
              "\n",
              "      TechSupport  StreamingTV  StreamingMovies  Contract  PaperlessBilling  \\\n",
              "1228            0            2                2         0                 1   \n",
              "987             1            1                1         0                 0   \n",
              "6699            1            1                1         2                 1   \n",
              "6397            2            0                2         1                 0   \n",
              "706             2            0                0         2                 1   \n",
              "\n",
              "      PaymentMethod  Churn  \n",
              "1228              3      0  \n",
              "987               0      0  \n",
              "6699              3      0  \n",
              "6397              0      0  \n",
              "706               3      0  "
            ],
            "text/html": [
              "\n",
              "  <div id=\"df-28f0c3db-614a-4dbc-a6d2-996e008a1f58\">\n",
              "    <div class=\"colab-df-container\">\n",
              "      <div>\n",
              "<style scoped>\n",
              "    .dataframe tbody tr th:only-of-type {\n",
              "        vertical-align: middle;\n",
              "    }\n",
              "\n",
              "    .dataframe tbody tr th {\n",
              "        vertical-align: top;\n",
              "    }\n",
              "\n",
              "    .dataframe thead th {\n",
              "        text-align: right;\n",
              "    }\n",
              "</style>\n",
              "<table border=\"1\" class=\"dataframe\">\n",
              "  <thead>\n",
              "    <tr style=\"text-align: right;\">\n",
              "      <th></th>\n",
              "      <th>gender</th>\n",
              "      <th>SeniorCitizen</th>\n",
              "      <th>Partner</th>\n",
              "      <th>Dependents</th>\n",
              "      <th>PhoneService</th>\n",
              "      <th>MultipleLines</th>\n",
              "      <th>InternetService</th>\n",
              "      <th>OnlineSecurity</th>\n",
              "      <th>OnlineBackup</th>\n",
              "      <th>DeviceProtection</th>\n",
              "      <th>TechSupport</th>\n",
              "      <th>StreamingTV</th>\n",
              "      <th>StreamingMovies</th>\n",
              "      <th>Contract</th>\n",
              "      <th>PaperlessBilling</th>\n",
              "      <th>PaymentMethod</th>\n",
              "      <th>Churn</th>\n",
              "    </tr>\n",
              "  </thead>\n",
              "  <tbody>\n",
              "    <tr>\n",
              "      <th>1228</th>\n",
              "      <td>0</td>\n",
              "      <td>0</td>\n",
              "      <td>1</td>\n",
              "      <td>0</td>\n",
              "      <td>1</td>\n",
              "      <td>2</td>\n",
              "      <td>1</td>\n",
              "      <td>2</td>\n",
              "      <td>0</td>\n",
              "      <td>0</td>\n",
              "      <td>0</td>\n",
              "      <td>2</td>\n",
              "      <td>2</td>\n",
              "      <td>0</td>\n",
              "      <td>1</td>\n",
              "      <td>3</td>\n",
              "      <td>0</td>\n",
              "    </tr>\n",
              "    <tr>\n",
              "      <th>987</th>\n",
              "      <td>1</td>\n",
              "      <td>0</td>\n",
              "      <td>0</td>\n",
              "      <td>0</td>\n",
              "      <td>1</td>\n",
              "      <td>0</td>\n",
              "      <td>2</td>\n",
              "      <td>1</td>\n",
              "      <td>1</td>\n",
              "      <td>1</td>\n",
              "      <td>1</td>\n",
              "      <td>1</td>\n",
              "      <td>1</td>\n",
              "      <td>0</td>\n",
              "      <td>0</td>\n",
              "      <td>0</td>\n",
              "      <td>0</td>\n",
              "    </tr>\n",
              "    <tr>\n",
              "      <th>6699</th>\n",
              "      <td>0</td>\n",
              "      <td>0</td>\n",
              "      <td>0</td>\n",
              "      <td>0</td>\n",
              "      <td>1</td>\n",
              "      <td>0</td>\n",
              "      <td>2</td>\n",
              "      <td>1</td>\n",
              "      <td>1</td>\n",
              "      <td>1</td>\n",
              "      <td>1</td>\n",
              "      <td>1</td>\n",
              "      <td>1</td>\n",
              "      <td>2</td>\n",
              "      <td>1</td>\n",
              "      <td>3</td>\n",
              "      <td>0</td>\n",
              "    </tr>\n",
              "    <tr>\n",
              "      <th>6397</th>\n",
              "      <td>1</td>\n",
              "      <td>1</td>\n",
              "      <td>0</td>\n",
              "      <td>0</td>\n",
              "      <td>1</td>\n",
              "      <td>0</td>\n",
              "      <td>0</td>\n",
              "      <td>0</td>\n",
              "      <td>0</td>\n",
              "      <td>2</td>\n",
              "      <td>2</td>\n",
              "      <td>0</td>\n",
              "      <td>2</td>\n",
              "      <td>1</td>\n",
              "      <td>0</td>\n",
              "      <td>0</td>\n",
              "      <td>0</td>\n",
              "    </tr>\n",
              "    <tr>\n",
              "      <th>706</th>\n",
              "      <td>0</td>\n",
              "      <td>0</td>\n",
              "      <td>0</td>\n",
              "      <td>0</td>\n",
              "      <td>1</td>\n",
              "      <td>0</td>\n",
              "      <td>0</td>\n",
              "      <td>2</td>\n",
              "      <td>2</td>\n",
              "      <td>0</td>\n",
              "      <td>2</td>\n",
              "      <td>0</td>\n",
              "      <td>0</td>\n",
              "      <td>2</td>\n",
              "      <td>1</td>\n",
              "      <td>3</td>\n",
              "      <td>0</td>\n",
              "    </tr>\n",
              "  </tbody>\n",
              "</table>\n",
              "</div>\n",
              "      <button class=\"colab-df-convert\" onclick=\"convertToInteractive('df-28f0c3db-614a-4dbc-a6d2-996e008a1f58')\"\n",
              "              title=\"Convert this dataframe to an interactive table.\"\n",
              "              style=\"display:none;\">\n",
              "        \n",
              "  <svg xmlns=\"http://www.w3.org/2000/svg\" height=\"24px\"viewBox=\"0 0 24 24\"\n",
              "       width=\"24px\">\n",
              "    <path d=\"M0 0h24v24H0V0z\" fill=\"none\"/>\n",
              "    <path d=\"M18.56 5.44l.94 2.06.94-2.06 2.06-.94-2.06-.94-.94-2.06-.94 2.06-2.06.94zm-11 1L8.5 8.5l.94-2.06 2.06-.94-2.06-.94L8.5 2.5l-.94 2.06-2.06.94zm10 10l.94 2.06.94-2.06 2.06-.94-2.06-.94-.94-2.06-.94 2.06-2.06.94z\"/><path d=\"M17.41 7.96l-1.37-1.37c-.4-.4-.92-.59-1.43-.59-.52 0-1.04.2-1.43.59L10.3 9.45l-7.72 7.72c-.78.78-.78 2.05 0 2.83L4 21.41c.39.39.9.59 1.41.59.51 0 1.02-.2 1.41-.59l7.78-7.78 2.81-2.81c.8-.78.8-2.07 0-2.86zM5.41 20L4 18.59l7.72-7.72 1.47 1.35L5.41 20z\"/>\n",
              "  </svg>\n",
              "      </button>\n",
              "      \n",
              "  <style>\n",
              "    .colab-df-container {\n",
              "      display:flex;\n",
              "      flex-wrap:wrap;\n",
              "      gap: 12px;\n",
              "    }\n",
              "\n",
              "    .colab-df-convert {\n",
              "      background-color: #E8F0FE;\n",
              "      border: none;\n",
              "      border-radius: 50%;\n",
              "      cursor: pointer;\n",
              "      display: none;\n",
              "      fill: #1967D2;\n",
              "      height: 32px;\n",
              "      padding: 0 0 0 0;\n",
              "      width: 32px;\n",
              "    }\n",
              "\n",
              "    .colab-df-convert:hover {\n",
              "      background-color: #E2EBFA;\n",
              "      box-shadow: 0px 1px 2px rgba(60, 64, 67, 0.3), 0px 1px 3px 1px rgba(60, 64, 67, 0.15);\n",
              "      fill: #174EA6;\n",
              "    }\n",
              "\n",
              "    [theme=dark] .colab-df-convert {\n",
              "      background-color: #3B4455;\n",
              "      fill: #D2E3FC;\n",
              "    }\n",
              "\n",
              "    [theme=dark] .colab-df-convert:hover {\n",
              "      background-color: #434B5C;\n",
              "      box-shadow: 0px 1px 3px 1px rgba(0, 0, 0, 0.15);\n",
              "      filter: drop-shadow(0px 1px 2px rgba(0, 0, 0, 0.3));\n",
              "      fill: #FFFFFF;\n",
              "    }\n",
              "  </style>\n",
              "\n",
              "      <script>\n",
              "        const buttonEl =\n",
              "          document.querySelector('#df-28f0c3db-614a-4dbc-a6d2-996e008a1f58 button.colab-df-convert');\n",
              "        buttonEl.style.display =\n",
              "          google.colab.kernel.accessAllowed ? 'block' : 'none';\n",
              "\n",
              "        async function convertToInteractive(key) {\n",
              "          const element = document.querySelector('#df-28f0c3db-614a-4dbc-a6d2-996e008a1f58');\n",
              "          const dataTable =\n",
              "            await google.colab.kernel.invokeFunction('convertToInteractive',\n",
              "                                                     [key], {});\n",
              "          if (!dataTable) return;\n",
              "\n",
              "          const docLinkHtml = 'Like what you see? Visit the ' +\n",
              "            '<a target=\"_blank\" href=https://colab.research.google.com/notebooks/data_table.ipynb>data table notebook</a>'\n",
              "            + ' to learn more about interactive tables.';\n",
              "          element.innerHTML = '';\n",
              "          dataTable['output_type'] = 'display_data';\n",
              "          await google.colab.output.renderOutput(dataTable, element);\n",
              "          const docLink = document.createElement('div');\n",
              "          docLink.innerHTML = docLinkHtml;\n",
              "          element.appendChild(docLink);\n",
              "        }\n",
              "      </script>\n",
              "    </div>\n",
              "  </div>\n",
              "  "
            ]
          },
          "metadata": {},
          "execution_count": 79
        }
      ]
    },
    {
      "cell_type": "code",
      "source": [
        "# Split data into X_train, y_train, X_test, y_test\n",
        "from sklearn.model_selection import train_test_split\n",
        "\n",
        "X_train, X_test, y_train, y_test = train_test_split(\n",
        "    df_use.drop(['Churn'], axis=1),\n",
        "    df_use.Churn,\n",
        "    test_size= 0.2,\n",
        "    random_state=0,\n",
        "    stratify=df_use.Churn\n",
        ")"
      ],
      "metadata": {
        "id": "6yCwqdZnfhKK"
      },
      "execution_count": null,
      "outputs": []
    },
    {
      "cell_type": "code",
      "source": [
        "# Print according to the expected result\n",
        "print('The number of rows and columns of X_train is:', X_train.shape,', while the number of rows and columns of y_train is:', y_train.shape)\n",
        "print('Churn percentage in Training data is:')\n",
        "print(y_train.value_counts(normalize=True))\n",
        "print('The number of rows and columns of X_test is:', X_test.shape,', while the number of rows and columns of y_test is:', y_test.shape)\n",
        "print('Churn percentage in Testing data is:')\n",
        "print(y_test.value_counts(normalize=True))"
      ],
      "metadata": {
        "colab": {
          "base_uri": "https://localhost:8080/"
        },
        "id": "mdyRs_XGgZ6I",
        "outputId": "5cdf6d8b-b1ae-4a64-937d-e8af14fc202c"
      },
      "execution_count": null,
      "outputs": [
        {
          "output_type": "stream",
          "name": "stdout",
          "text": [
            "The number of rows and columns of X_train is: (2990, 19) , while the number of rows and columns of y_train is: (2990,)\n",
            "Churn percentage in Training data is:\n",
            "1    0.5\n",
            "0    0.5\n",
            "Name: Churn, dtype: float64\n",
            "The number of rows and columns of X_test is: (748, 19) , while the number of rows and columns of y_test is: (748,)\n",
            "Churn percentage in Testing data is:\n",
            "1    0.5\n",
            "0    0.5\n",
            "Name: Churn, dtype: float64\n"
          ]
        }
      ]
    },
    {
      "cell_type": "markdown",
      "source": [
        "## Conclusion\n",
        "\n",
        "After further analysis, it turns out that there are columns that are not needed in the model, namely the customer ID number `customerID` & the data collection period `UpdatedAt`, so this needs to be deleted.\n",
        "\n",
        "Then we continue to change the value of the data that is still in the form of a string to be numeric through encoding, after that it can be seen that the distribution of the data, especially the min and max columns of each variable, has changed to 0 & 1.\n",
        "\n",
        "The last stage is to divide the data into 2 parts for modeling purposes, after it has been done, it can be seen from the number of rows and columns of each data is appropriate & the percentage of churn column is also the same as the data at the beginning, this indicates that the data is separated properly and correctly."
      ],
      "metadata": {
        "id": "m1NVdfLxggk4"
      }
    },
    {
      "cell_type": "markdown",
      "source": [
        "# 5 Machine Learning Modelling"
      ],
      "metadata": {
        "id": "ui9XWNsmgF9Y"
      }
    },
    {
      "cell_type": "markdown",
      "source": [
        "Now, We're ready to go for model building, but before we do it.. Let's understand the metrics that matter for this specific problem.\n",
        "\n",
        "\n",
        "*  Our ultimate goal is to retain as many churning customers as we can. We don't care much if we predict a customer to be churning turns out not churning ie., our Model should have more True positives and less False Negatives. It doesn't matter if we have many False Positives because we care more about no. of false Negatives. The less the no. of False Negatives, the more we're sure about retention.. \n",
        "\n",
        "\n",
        "Just to be clear: In our scenario/perspective:\n",
        "\n",
        "* A False Positive is when we predict a customer to be churning turns out to be not Churning.\n",
        "* A False Negative is when we predict a customer to be not churning turns out to be Churning.\n",
        "\n",
        "It doesn't cost us much if we give an exciting offer (expensive for comapany) to a loyal customer who's not about to leave us. But it costs us a lot if we don't interact/give an offer to a customer who's about to leave us soon. (Because It's a standard rule that acquiring a customer costs more than retaining one.)\n",
        "\n",
        "\n",
        "\n",
        "---\n",
        "\n",
        "So, the metric we're looking for is  --> **RECALL**\n",
        "\n",
        "Recall=TP/TP+FN\n",
        "\n",
        "Recall gives us the measure of - What proportion of Churned Customers have we retained/Predicted. The less False Negatives we get, The more recall we have... Let's go ahead and build the model\n",
        "\n"
      ],
      "metadata": {
        "id": "UfRMkmDbiCwc"
      }
    },
    {
      "cell_type": "markdown",
      "source": [
        "We will create some machine learning models for this case. Then we choose the best model to use later."
      ],
      "metadata": {
        "id": "KcxR4Et_hhCy"
      }
    },
    {
      "cell_type": "code",
      "source": [
        "from sklearn.linear_model import LogisticRegression\n",
        "from sklearn.ensemble import RandomForestClassifier\n",
        "from sklearn.ensemble import GradientBoostingClassifier\n",
        "from sklearn.metrics import confusion_matrix, classification_report\n",
        "\n",
        "import pickle\n",
        "\n",
        "from pathlib import Path "
      ],
      "metadata": {
        "id": "v3mF79-riRzn"
      },
      "execution_count": null,
      "outputs": []
    },
    {
      "cell_type": "markdown",
      "metadata": {
        "id": "dswsypYYabke"
      },
      "source": [
        "## Logistic Regression\n",
        "\n"
      ]
    },
    {
      "cell_type": "markdown",
      "metadata": {
        "id": "MU5cLu3oedta"
      },
      "source": [
        "### Modeling\n",
        "\n",
        "Next we will create a model using the **Logistic Regression** Algorithm.\n",
        "\n",
        "Use **LogisticRegression()** to call the algorithm, fit to the train data and save it as **log_model**"
      ]
    },
    {
      "cell_type": "markdown",
      "source": [
        "![image.png](data:image/png;base64,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)"
      ],
      "metadata": {
        "id": "OI2itEF9ktmX"
      }
    },
    {
      "cell_type": "code",
      "metadata": {
        "id": "5ujZrIkwqG1n",
        "colab": {
          "base_uri": "https://localhost:8080/"
        },
        "outputId": "1969b1ab-90cf-43d5-90a5-a46578fe9a61"
      },
      "source": [
        "log_model = LogisticRegression().fit(X_train,y_train)\n",
        "print('The Logistic Regression model formed is: \\n', log_model)"
      ],
      "execution_count": null,
      "outputs": [
        {
          "output_type": "stream",
          "name": "stdout",
          "text": [
            "The Logistic Regression model formed is: \n",
            " LogisticRegression()\n"
          ]
        }
      ]
    },
    {
      "cell_type": "markdown",
      "metadata": {
        "id": "IfXU-zGnaytM"
      },
      "source": [
        "### Model Performance On Data Training - Display Metrics\n",
        "\n",
        "After we make the model, then do the calculations to get the classification report and the confusion matrix in the training data as shown below. Use **classification_report()** & **confusion_matrix()**."
      ]
    },
    {
      "cell_type": "code",
      "metadata": {
        "colab": {
          "base_uri": "https://localhost:8080/"
        },
        "id": "FiG0Clk2ao7F",
        "outputId": "c9953cef-a2ae-4133-d53c-061c5b27773a"
      },
      "source": [
        "# Predict\n",
        "y_train_pred = log_model.predict(X_train)\n",
        "# Print classification report\n",
        "print('Classification Report Training Model (Logistic Regression) :')\n",
        "print(classification_report(y_train, y_train_pred))"
      ],
      "execution_count": null,
      "outputs": [
        {
          "output_type": "stream",
          "name": "stdout",
          "text": [
            "Classification Report Training Model (Logistic Regression) :\n",
            "              precision    recall  f1-score   support\n",
            "\n",
            "           0       0.78      0.75      0.77      1495\n",
            "           1       0.76      0.79      0.78      1495\n",
            "\n",
            "    accuracy                           0.77      2990\n",
            "   macro avg       0.77      0.77      0.77      2990\n",
            "weighted avg       0.77      0.77      0.77      2990\n",
            "\n"
          ]
        }
      ]
    },
    {
      "cell_type": "markdown",
      "metadata": {
        "id": "1RHXHiiia6n8"
      },
      "source": [
        "### Model Performance on Data Training - Display Confusion Matrix Plots\n",
        "\n",
        "After getting the results of the classification report in the previous stage, now we will visualize the report."
      ]
    },
    {
      "cell_type": "code",
      "metadata": {
        "colab": {
          "base_uri": "https://localhost:8080/",
          "height": 328
        },
        "id": "rnUmKy4Oa2Mu",
        "outputId": "78107a87-3fa9-4da2-adf6-9ec8d4c7ad88"
      },
      "source": [
        "# Form confusion matrix as a DataFrame\n",
        "confusion_matrix_df = pd.DataFrame((confusion_matrix(y_train, y_train_pred)), ('No churn', 'Churn'), ('No churn', 'Churn'))\n",
        "\n",
        "# Plot confusion matrix\n",
        "plt.figure()\n",
        "heatmap = sns.heatmap(confusion_matrix_df, annot=True, annot_kws={'size': 14}, fmt='d', cmap='YlGnBu')\n",
        "heatmap.yaxis.set_ticklabels(heatmap.yaxis.get_ticklabels(), rotation=0, ha='right', fontsize=14)\n",
        "heatmap.xaxis.set_ticklabels(heatmap.xaxis.get_ticklabels(), rotation=0, ha='right', fontsize=14)\n",
        "\n",
        "plt.title('Confusion Matrix for Training Model\\n(Logistic Regression)', fontsize=18, color='darkblue')\n",
        "plt.ylabel('True label', fontsize=14)\n",
        "plt.xlabel('Predicted label', fontsize=14)\n",
        "plt.show()"
      ],
      "execution_count": null,
      "outputs": [
        {
          "output_type": "display_data",
          "data": {
            "text/plain": [
              "<Figure size 432x288 with 2 Axes>"
            ],
            "image/png": "[encoded data removed]"
          },
          "metadata": {
            "needs_background": "light"
          }
        }
      ]
    },
    {
      "cell_type": "markdown",
      "metadata": {
        "id": "xY1v1WCpbDAq"
      },
      "source": [
        "### Model Performance on Data Testing - Display Metrics\n",
        "\n",
        "After we make the model, then do the calculations to get the classification report and the confusion matrix in the data testing as shown below.\n",
        "\n",
        "Use **classification_report()** & **confusion_matrix()**."
      ]
    },
    {
      "cell_type": "code",
      "metadata": {
        "colab": {
          "base_uri": "https://localhost:8080/"
        },
        "id": "xAIAOMmja8wO",
        "outputId": "50048589-5579-4f0d-baa3-3117f6fd735b"
      },
      "source": [
        "# Predict\n",
        "y_test_pred = log_model.predict(X_test)\n",
        "# Print classification report \n",
        "print('Classification Report Testing Model (Logistic Regression) :')\n",
        "print(classification_report(y_test, y_test_pred))"
      ],
      "execution_count": null,
      "outputs": [
        {
          "output_type": "stream",
          "name": "stdout",
          "text": [
            "Classification Report Testing Model (Logistic Regression) :\n",
            "              precision    recall  f1-score   support\n",
            "\n",
            "           0       0.75      0.74      0.75       374\n",
            "           1       0.75      0.75      0.75       374\n",
            "\n",
            "    accuracy                           0.75       748\n",
            "   macro avg       0.75      0.75      0.75       748\n",
            "weighted avg       0.75      0.75      0.75       748\n",
            "\n"
          ]
        }
      ]
    },
    {
      "cell_type": "markdown",
      "metadata": {
        "id": "rYAVd6ZCbIbK"
      },
      "source": [
        "### Model Performance on Data Testing - Display Confusion Matrix Plots\n",
        "\n",
        "After displaying the metrics in the previous stage, now we will visualize the metrics that have been generated previously"
      ]
    },
    {
      "cell_type": "code",
      "metadata": {
        "colab": {
          "base_uri": "https://localhost:8080/",
          "height": 349
        },
        "id": "YjTcPFFObFln",
        "outputId": "0dd881f2-b2a1-4f8b-85c6-ec3cbba9b6cd"
      },
      "source": [
        "# Form confusion matrix as a DataFrame\n",
        "confusion_matrix_df = pd.DataFrame((confusion_matrix(y_test, y_test_pred)), ('No churn', 'Churn'), ('No churn', 'Churn'))\n",
        "\n",
        "# Plot confusion matrix\n",
        "plt.figure()\n",
        "heatmap = sns.heatmap(confusion_matrix_df, annot=True, annot_kws={'size': 14}, fmt='d', cmap='YlGnBu')\n",
        "heatmap.yaxis.set_ticklabels(heatmap.yaxis.get_ticklabels(), rotation=0, ha='right', fontsize=14)\n",
        "heatmap.xaxis.set_ticklabels(heatmap.xaxis.get_ticklabels(), rotation=0, ha='right', fontsize=14)\n",
        "\n",
        "plt.title('Confusion Matrix for Testing Model\\n(Logistic Regression)\\n', fontsize=18, color='darkblue')\n",
        "plt.ylabel('True label', fontsize=14)\n",
        "plt.xlabel('Predicted label', fontsize=14)\n",
        "plt.show()"
      ],
      "execution_count": null,
      "outputs": [
        {
          "output_type": "display_data",
          "data": {
            "text/plain": [
              "<Figure size 432x288 with 2 Axes>"
            ],
            "image/png": "[encoded data removed]"
          },
          "metadata": {
            "needs_background": "light"
          }
        }
      ]
    },
    {
      "cell_type": "markdown",
      "metadata": {
        "id": "hlcxYq1ebU_L"
      },
      "source": [
        "### Conclusion\n",
        "\n",
        "From the results and analysis above, then:\n",
        "\n",
        "* If we use the logistic regression algorithm by calling LogisticRegression() from sklearn without adding any parameters, then the resulting model with default settings from sklearn, details can be seen in the documentation.\n",
        "\n",
        "* From the training data, it can be seen that the model is able to predict the data with an accuracy of 79%, with details of the correct churn guess, the churn is 645, the non-churn guess that doesn't actually churn is 3221, the non-churn guess that actually churns is 645 and the churn guess which actually doesn't churn is 354.\n",
        "\n",
        "* From the data testing, it can be seen that the model is able to predict the data by producing an accuracy of 79%, with the details of the correct churn guess, the churn is 267, the non-churn guess that doesn't actually churn is 1390, the non-churn guess that actually has the churn is 279 and the churn guess which actually doesn't churn is 149."
      ]
    },
    {
      "cell_type": "markdown",
      "metadata": {
        "id": "Kg6ibFxpbaAl"
      },
      "source": [
        "## Random Forest Classifier"
      ]
    },
    {
      "cell_type": "markdown",
      "metadata": {
        "id": "-RTgElq7bdh5"
      },
      "source": [
        "### Modeling\n",
        "\n",
        "Next we will create a model using the **Random Forest Classifier** Algorithm.\n",
        "\n",
        "Use **RandomForestClassifier()** to call the algorithm, fit to train data and save as **rdf_model**"
      ]
    },
    {
      "cell_type": "code",
      "metadata": {
        "colab": {
          "base_uri": "https://localhost:8080/"
        },
        "id": "zn32UCr1bNM8",
        "outputId": "23ac9937-9037-4c76-971b-d10ae6c406ba"
      },
      "source": [
        "#Train the model\n",
        "rdf_model = RandomForestClassifier().fit(X_train,y_train)\n",
        "print(rdf_model)"
      ],
      "execution_count": null,
      "outputs": [
        {
          "output_type": "stream",
          "name": "stdout",
          "text": [
            "RandomForestClassifier()\n"
          ]
        }
      ]
    },
    {
      "cell_type": "markdown",
      "metadata": {
        "id": "ZHwkpxstbmqr"
      },
      "source": [
        "### Model Performance On Data Training - Display Metrics\n",
        "\n",
        "After we make the model, then do the calculations to get the classification report and the confusion matrix in the **training data** as shown below.\n",
        "\n",
        "Use **classification_report()** & **confusion_matrix()**."
      ]
    },
    {
      "cell_type": "code",
      "metadata": {
        "colab": {
          "base_uri": "https://localhost:8080/"
        },
        "id": "jR1JA-uEbils",
        "outputId": "cd1c428b-72c6-48da-a6a7-2f20c3b5318e"
      },
      "source": [
        "# Predict\n",
        "y_train_pred = rdf_model.predict(X_train)\n",
        "# Print classification report \n",
        "print('Classification Report Training Model (Random Forest) :')\n",
        "print(classification_report(y_train, y_train_pred))"
      ],
      "execution_count": null,
      "outputs": [
        {
          "output_type": "stream",
          "name": "stdout",
          "text": [
            "Classification Report Training Model (Random Forest) :\n",
            "              precision    recall  f1-score   support\n",
            "\n",
            "           0       1.00      1.00      1.00      1495\n",
            "           1       1.00      1.00      1.00      1495\n",
            "\n",
            "    accuracy                           1.00      2990\n",
            "   macro avg       1.00      1.00      1.00      2990\n",
            "weighted avg       1.00      1.00      1.00      2990\n",
            "\n"
          ]
        }
      ]
    },
    {
      "cell_type": "markdown",
      "metadata": {
        "id": "MHbxFripbsAq"
      },
      "source": [
        "### Model Performance On Data Training - Display Confusion Matrix Plots\n",
        "\n",
        "After displaying the metrics in the previous stage, then we will visualize the metrics"
      ]
    },
    {
      "cell_type": "code",
      "metadata": {
        "colab": {
          "base_uri": "https://localhost:8080/",
          "height": 328
        },
        "id": "KNn8JCjpboQW",
        "outputId": "68d53ad4-0636-4994-eed3-0233316b2c79"
      },
      "source": [
        "# Form confusion matrix as a DataFrame\n",
        "confusion_matrix_df = pd.DataFrame((confusion_matrix(y_train, y_train_pred)), ('No churn', 'Churn'), ('No churn', 'Churn'))\n",
        "\n",
        "# Plot confusion matrix\n",
        "plt.figure()\n",
        "heatmap = sns.heatmap(confusion_matrix_df, annot=True, annot_kws={'size': 14}, fmt='d', cmap='YlGnBu')\n",
        "heatmap.yaxis.set_ticklabels(heatmap.yaxis.get_ticklabels(), rotation=0, ha='right', fontsize=14)\n",
        "heatmap.xaxis.set_ticklabels(heatmap.xaxis.get_ticklabels(), rotation=0, ha='right', fontsize=14)\n",
        "\n",
        "plt.title('Confusion Matrix for Training Model\\n(Random Forest)', fontsize=18, color='darkblue')\n",
        "plt.ylabel('True label', fontsize=14)\n",
        "plt.xlabel('Predicted label', fontsize=14)\n",
        "plt.show()"
      ],
      "execution_count": null,
      "outputs": [
        {
          "output_type": "display_data",
          "data": {
            "text/plain": [
              "<Figure size 432x288 with 2 Axes>"
            ],
            "image/png": "[encoded data removed]"
          },
          "metadata": {
            "needs_background": "light"
          }
        }
      ]
    },
    {
      "cell_type": "markdown",
      "metadata": {
        "id": "QbyM14zmbzq6"
      },
      "source": [
        "### Model Performance On Data Testing - Display Metrics\n",
        "\n",
        "After we make the model, then do the calculations to get the classification report and the confusion matrix in **data testing** as shown below.\n",
        "\n",
        "Use **classification_report()** & **confusion_matrix()**."
      ]
    },
    {
      "cell_type": "code",
      "metadata": {
        "colab": {
          "base_uri": "https://localhost:8080/"
        },
        "id": "PoChHoXRbvzQ",
        "outputId": "02bc2ac3-1cfe-4a1d-9b29-85b2404c31fa"
      },
      "source": [
        "# Predict\n",
        "y_test_pred = rdf_model.predict(X_test)\n",
        "# Print classification report \n",
        "print('Classification Report Testing Model (Random Forest) :')\n",
        "print(classification_report(y_test, y_test_pred))"
      ],
      "execution_count": null,
      "outputs": [
        {
          "output_type": "stream",
          "name": "stdout",
          "text": [
            "Classification Report Testing Model (Random Forest) :\n",
            "              precision    recall  f1-score   support\n",
            "\n",
            "           0       0.74      0.74      0.74       374\n",
            "           1       0.74      0.74      0.74       374\n",
            "\n",
            "    accuracy                           0.74       748\n",
            "   macro avg       0.74      0.74      0.74       748\n",
            "weighted avg       0.74      0.74      0.74       748\n",
            "\n"
          ]
        }
      ]
    },
    {
      "cell_type": "markdown",
      "metadata": {
        "id": "KbLs0GKnb6Fi"
      },
      "source": [
        "### Model Performance On Data Testing - Display Confusion Matrix Plots\n",
        "\n",
        "Show a visualization of the results of the metrics that have been obtained in the previous stage"
      ]
    },
    {
      "cell_type": "code",
      "metadata": {
        "colab": {
          "base_uri": "https://localhost:8080/",
          "height": 349
        },
        "id": "Czeyaw9ub2IY",
        "outputId": "688a94c1-8948-4829-9100-078ef1fc9e64"
      },
      "source": [
        "# Form confusion matrix as a DataFrame\n",
        "confusion_matrix_df = pd.DataFrame((confusion_matrix(y_test, y_test_pred)), ('No churn', 'Churn'), ('No churn', 'Churn'))\n",
        "\n",
        "# Plot confusion matrix\n",
        "plt.figure()\n",
        "heatmap = sns.heatmap(confusion_matrix_df, annot=True, annot_kws={'size': 14}, fmt='d', cmap='YlGnBu')\n",
        "heatmap.yaxis.set_ticklabels(heatmap.yaxis.get_ticklabels(), rotation=0, ha='right', fontsize=14)\n",
        "heatmap.xaxis.set_ticklabels(heatmap.xaxis.get_ticklabels(), rotation=0, ha='right', fontsize=14)\n",
        "\n",
        "plt.title('Confusion Matrix for Testing Model\\n(Random Forest)\\n', fontsize=18, color='darkblue')\n",
        "plt.ylabel('True label', fontsize=14)\n",
        "plt.xlabel('Predicted label', fontsize=14)\n",
        "plt.show()"
      ],
      "execution_count": null,
      "outputs": [
        {
          "output_type": "display_data",
          "data": {
            "text/plain": [
              "<Figure size 432x288 with 2 Axes>"
            ],
            "image/png": "[encoded data removed]"
          },
          "metadata": {
            "needs_background": "light"
          }
        }
      ]
    },
    {
      "cell_type": "markdown",
      "metadata": {
        "id": "67qOkP_tcGhD"
      },
      "source": [
        "### Conclusion\n",
        "\n",
        "From the results and analysis above, then:\n",
        "\n",
        "* If we use the Random Forest algorithm by calling **RandomForestClassifier()** from sklearn without adding any parameters, the resulting model with the default settings of sklearn, for details can be seen in the documentation.\n",
        "\n",
        "* From the training data, it can be seen that the model is able to predict the data with an accuracy of 100%, with details of the correct churn guess, the churn is 1272, the non-churn guess that doesn't actually churn is 3570, the no-churn guess that actually churns is 18 and the churn guess which actually doesn't churn is 5.\n",
        "\n",
        "* From the data testing, it can be seen that the model is able to predict the data with an accuracy of 78%, with the details of the correct churn guess that actually churn is 256, the non-churn guess that doesn't actually churn is 1363, the non-churn guess that actually churn is 290 and the churn guess which actually doesn't churn is 1176."
      ]
    },
    {
      "cell_type": "markdown",
      "metadata": {
        "id": "Y1VvWAENcKXr"
      },
      "source": [
        "## Gradient Boosting Classifier"
      ]
    },
    {
      "cell_type": "markdown",
      "metadata": {
        "id": "7OBAm10kcNZT"
      },
      "source": [
        "### Modeling\n",
        "\n",
        "Next we will create a model using the Gradient Boosting Classifier Algorithm.\n",
        "\n",
        " \n",
        "Use **GradientBoostingClassifier()** to call the algorithm, fit to train data and save as **gbt_model**"
      ]
    },
    {
      "cell_type": "code",
      "metadata": {
        "colab": {
          "base_uri": "https://localhost:8080/"
        },
        "id": "_HgkJcbzb74E",
        "outputId": "4d44b9dc-3b4a-47f0-fd69-16901478a923"
      },
      "source": [
        "from sklearn.ensemble import GradientBoostingClassifier\n",
        "#Train the model\n",
        "gbt_model = GradientBoostingClassifier().fit(X_train,y_train)\n",
        "print(gbt_model)"
      ],
      "execution_count": null,
      "outputs": [
        {
          "output_type": "stream",
          "name": "stdout",
          "text": [
            "GradientBoostingClassifier()\n"
          ]
        }
      ]
    },
    {
      "cell_type": "markdown",
      "metadata": {
        "id": "CvIbAxTCcTLT"
      },
      "source": [
        "### Model Performance On Data Training - Display Metrics\n",
        "\n",
        "After we make the model, then do the calculations to get the classification report and the confusion matrix in the training data as shown below.\n",
        "\n",
        "Use **classification_report()** & **confusion_matrix()**."
      ]
    },
    {
      "cell_type": "code",
      "metadata": {
        "colab": {
          "base_uri": "https://localhost:8080/"
        },
        "id": "Ex0QoSsXcQ5L",
        "outputId": "19b599e3-e444-458f-81eb-91a29eb65960"
      },
      "source": [
        "# Predict\n",
        "y_train_pred = gbt_model.predict(X_train)\n",
        "# Print classification report \n",
        "print('Classification Report Training Model (Gradient Boosting) :')\n",
        "print(classification_report(y_train, y_train_pred))"
      ],
      "execution_count": null,
      "outputs": [
        {
          "output_type": "stream",
          "name": "stdout",
          "text": [
            "Classification Report Training Model (Gradient Boosting) :\n",
            "              precision    recall  f1-score   support\n",
            "\n",
            "           0       0.84      0.77      0.80      1495\n",
            "           1       0.79      0.85      0.82      1495\n",
            "\n",
            "    accuracy                           0.81      2990\n",
            "   macro avg       0.81      0.81      0.81      2990\n",
            "weighted avg       0.81      0.81      0.81      2990\n",
            "\n"
          ]
        }
      ]
    },
    {
      "cell_type": "markdown",
      "metadata": {
        "id": "8lwvxOEmcaJD"
      },
      "source": [
        "### Model Performance On Data Training - Display Confusion Matrix Plots\n",
        "\n",
        "Show a visualization of the results of the metrics that have been obtained in the previous stage"
      ]
    },
    {
      "cell_type": "code",
      "metadata": {
        "colab": {
          "base_uri": "https://localhost:8080/",
          "height": 328
        },
        "id": "amhV6CLhcYYI",
        "outputId": "23041300-c07c-45d1-aec3-0846aa6418a4"
      },
      "source": [
        "# Form confusion matrix as a DataFrame\n",
        "confusion_matrix_df = pd.DataFrame((confusion_matrix(y_train, y_train_pred)), ('No churn', 'Churn'), ('No churn', 'Churn'))\n",
        "\n",
        "# Plot confusion matrix\n",
        "plt.figure()\n",
        "heatmap = sns.heatmap(confusion_matrix_df, annot=True, annot_kws={'size': 14}, fmt='d', cmap='YlGnBu')\n",
        "heatmap.yaxis.set_ticklabels(heatmap.yaxis.get_ticklabels(), rotation=0, ha='right', fontsize=14)\n",
        "heatmap.xaxis.set_ticklabels(heatmap.xaxis.get_ticklabels(), rotation=0, ha='right', fontsize=14)\n",
        "\n",
        "plt.title('Confusion Matrix for Training Model\\n(Gradient Boosting)', fontsize=18, color='darkblue')\n",
        "plt.ylabel('True label', fontsize=14)\n",
        "plt.xlabel('Predicted label', fontsize=14)\n",
        "plt.show()"
      ],
      "execution_count": null,
      "outputs": [
        {
          "output_type": "display_data",
          "data": {
            "text/plain": [
              "<Figure size 432x288 with 2 Axes>"
            ],
            "image/png": "[encoded data removed]"
          },
          "metadata": {
            "needs_background": "light"
          }
        }
      ]
    },
    {
      "cell_type": "markdown",
      "metadata": {
        "id": "ym4w0kUtcgIK"
      },
      "source": [
        "### Model Performance on Data Testing - Displaying Metrics\n",
        "\n",
        "After we make the model, then do the calculations to get the classification report and the confusion matrix in the data testing as shown below.\n",
        "\n",
        "Use **classification_report()** & **confusion_matrix()**."
      ]
    },
    {
      "cell_type": "code",
      "metadata": {
        "colab": {
          "base_uri": "https://localhost:8080/"
        },
        "id": "wwVcu6E_ceUD",
        "outputId": "f0e74d03-8831-4dbb-81ee-4baf9772a618"
      },
      "source": [
        "# Predict\n",
        "y_test_pred = gbt_model.predict(X_test)\n",
        "# Print classification report \n",
        "print('Classification Report Testing Model (Gradient Boosting) :')\n",
        "print(classification_report(y_test, y_test_pred))"
      ],
      "execution_count": null,
      "outputs": [
        {
          "output_type": "stream",
          "name": "stdout",
          "text": [
            "Classification Report Testing Model (Gradient Boosting) :\n",
            "              precision    recall  f1-score   support\n",
            "\n",
            "           0       0.76      0.72      0.74       374\n",
            "           1       0.73      0.78      0.75       374\n",
            "\n",
            "    accuracy                           0.75       748\n",
            "   macro avg       0.75      0.75      0.75       748\n",
            "weighted avg       0.75      0.75      0.75       748\n",
            "\n"
          ]
        }
      ]
    },
    {
      "cell_type": "markdown",
      "metadata": {
        "id": "nOhMpC5fkRIP"
      },
      "source": [
        "### Model Performance On Data Testing - Display Confusion Matrix Plots\n",
        "\n",
        "Show a visualization of the results of the metrics that have been obtained in the previous stage"
      ]
    },
    {
      "cell_type": "code",
      "metadata": {
        "colab": {
          "base_uri": "https://localhost:8080/",
          "height": 328
        },
        "id": "cG2l2moXclCB",
        "outputId": "e8216b6b-953a-4ff2-b789-0e1440d1989c"
      },
      "source": [
        "# Form confusion matrix as a DataFrame\n",
        "confusion_matrix_df = pd.DataFrame((confusion_matrix(y_test, y_test_pred)), ('No churn', 'Churn'), ('No churn', 'Churn'))\n",
        "\n",
        "# Plot confusion matrix\n",
        "plt.figure()\n",
        "heatmap = sns.heatmap(confusion_matrix_df, annot=True, annot_kws={'size': 14}, fmt='d', cmap='YlGnBu')\n",
        "heatmap.yaxis.set_ticklabels(heatmap.yaxis.get_ticklabels(), rotation=0, ha='right', fontsize=14)\n",
        "heatmap.xaxis.set_ticklabels(heatmap.xaxis.get_ticklabels(), rotation=0, ha='right', fontsize=14)\n",
        "\n",
        "plt.title('Confusion Matrix for Testing Model\\n(Gradient Boosting)', fontsize=18, color='darkblue')\n",
        "plt.ylabel('True label', fontsize=14)\n",
        "plt.xlabel('Predicted label', fontsize=14)\n",
        "plt.show()"
      ],
      "execution_count": null,
      "outputs": [
        {
          "output_type": "display_data",
          "data": {
            "text/plain": [
              "<Figure size 432x288 with 2 Axes>"
            ],
            "image/png": "[encoded data removed]"
          },
          "metadata": {
            "needs_background": "light"
          }
        }
      ]
    },
    {
      "cell_type": "markdown",
      "metadata": {
        "id": "wOhHv7dRcpri"
      },
      "source": [
        "### Conclusion\n",
        "\n",
        "From the results and analysis above, then:\n",
        "\n",
        "* If we use the Gradient Boosting algorithm by calling GradientBoostingClassifier() from the sklearn package without adding any parameters, the resulting model with the default settings of sklearn, for details can be seen in the documentation.\n",
        "\n",
        "* From the training data, it can be seen that the model is able to predict the data by producing an accuracy of 82%, with the details of the correct churn guess, the churn is 684, the non-churn guess that doesn't actually churn is 3286, the non-churn guess that actually churns is 606 and the churn guess which actually doesn't churn is 289.\n",
        "\n",
        "* From the data testing, it can be seen that the model is able to predict the data with an accuracy of 79%, with details of the correct churn guess, the churn is 261, the guess not churn that actually doesn't churn is 1394, the guess not churn that actually churn is 285 and the guess churn which actually doesn't churn is 145."
      ]
    },
    {
      "cell_type": "markdown",
      "metadata": {
        "id": "AKKpKLu8cu3O"
      },
      "source": [
        "# 6 Determining the Best Model Algorithm"
      ]
    },
    {
      "cell_type": "markdown",
      "metadata": {
        "id": "Pe7Zk3vzc1UE"
      },
      "source": [
        "\n",
        "\n",
        "A good model is a model that is able to provide good performance in the training and testing phases of the model.\n",
        "\n",
        "* Over-Fitting is a condition where the model is able to predict very well in the training phase, but cannot predict as well in the testing phase.\n",
        "* Under-Fitting is a condition where the model is not able to predict well in the training phase, but is able to predict well in the testing phase.\n",
        "* Appropriate-Fitting is a condition where the model is able to predict well in the training phase and in the testing phase."
      ]
    },
    {
      "cell_type": "markdown",
      "metadata": {
        "id": "EpbucDQbc3i6"
      },
      "source": [
        "For detailed details, can be seen in the illustration below:\n",
        "\n",
        "<table>\n",
        "  <tr><td>\n",
        "    <img src=\"https://raw.githubusercontent.com/jokoeliyanto/ppp/main/images/download.png\">\n",
        "  </td></tr>\n",
        "<table>"
      ]
    },
    {
      "cell_type": "markdown",
      "metadata": {
        "id": "dWu05UeIdT6j"
      },
      "source": [
        "Next, we will determine the best algorithm model from the model that has been done above (Appropriate-Fitting), then we save it as a best_model_churn.pkl file with the aim of modeling later we don't need to repeat the modeling, just call the file. Save in the file directory according to the dataset, then check whether the file is properly saved or not. Use **dump()** from **pickle** to save the file. You can use the code below to save the model file to try on your local laptop."
      ]
    },
    {
      "cell_type": "code",
      "metadata": {
        "colab": {
          "base_uri": "https://localhost:8080/"
        },
        "id": "aLkymK-mcmXJ",
        "outputId": "8ace3eb1-6874-4eca-afbd-fccfa05d9d9a"
      },
      "source": [
        "print(log_model)"
      ],
      "execution_count": null,
      "outputs": [
        {
          "output_type": "stream",
          "name": "stdout",
          "text": [
            "LogisticRegression()\n"
          ]
        }
      ]
    },
    {
      "cell_type": "markdown",
      "metadata": {
        "id": "RnUUqSL8dYab"
      },
      "source": [
        "# Conclusion\n",
        "\n",
        "|              Model           | Accuracy Data Training | Accuracy Data Testing |\n",
        "| ---------------------------- | ---------------------- |-----------------------|\n",
        "| Logistic Regression          | 79 %                   |    79%                   |\n",
        "| Random Forest Classifier     | 100 % (Over-fitting)              |    78%                   |\n",
        "| Gradient Boosting Classifier | 82 %                  |        79%               |\n",
        "\n"
      ]
    },
    {
      "cell_type": "markdown",
      "metadata": {
        "id": "fnoc5AxOmgFV"
      },
      "source": [
        "Based on the results above, it is concluded that the best model is the Gradient Boosting Classifier model. This is due to the acquisition of accuracy on the testing data which is the same as the Logistic Regression model, but it has a higher accuracy on the training data. This value also does not include over-fitting."
      ]
    }
  ]
}