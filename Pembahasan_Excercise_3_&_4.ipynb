{
  "nbformat": 4,
  "nbformat_minor": 0,
  "metadata": {
    "colab": {
      "name": "Pembahasan Excercise 3 & 4.ipynb",
      "provenance": [],
      "collapsed_sections": [
        "mKUUrvccxvCt"
      ]
    },
    "kernelspec": {
      "name": "python3",
      "display_name": "Python 3"
    },
    "language_info": {
      "name": "python"
    }
  },
  "cells": [
    {
      "cell_type": "markdown",
      "source": [
        "## Excercise 3"
      ],
      "metadata": {
        "id": "tIdl0zbXszoq"
      }
    },
    {
      "cell_type": "markdown",
      "source": [
        "### Question 1"
      ],
      "metadata": {
        "id": "4ehWmJpms3n_"
      }
    },
    {
      "cell_type": "code",
      "execution_count": null,
      "metadata": {
        "colab": {
          "base_uri": "https://localhost:8080/"
        },
        "id": "G0vpuny8svob",
        "outputId": "6d78357a-650c-401d-85c5-209882352bca"
      },
      "outputs": [
        {
          "output_type": "stream",
          "name": "stdout",
          "text": [
            "78\n"
          ]
        }
      ],
      "source": [
        "# Buatlah code dari tipe integer menjadi variable, lalu print .\n",
        "\n",
        "pensil = 78\n",
        "print(pensil)"
      ]
    },
    {
      "cell_type": "code",
      "source": [
        "type(pensil)"
      ],
      "metadata": {
        "colab": {
          "base_uri": "https://localhost:8080/"
        },
        "id": "UbesP8PwYIdN",
        "outputId": "f3f72189-3578-4a36-cf7e-b2cd7175346a"
      },
      "execution_count": null,
      "outputs": [
        {
          "output_type": "execute_result",
          "data": {
            "text/plain": [
              "int"
            ]
          },
          "metadata": {},
          "execution_count": 2
        }
      ]
    },
    {
      "cell_type": "markdown",
      "source": [
        "### Question 2"
      ],
      "metadata": {
        "id": "sObCKwQ4tHMA"
      }
    },
    {
      "cell_type": "code",
      "source": [
        "#Konversikan tipe data variabel tersebut menjadi string\n",
        "\n",
        "str(pensil)"
      ],
      "metadata": {
        "colab": {
          "base_uri": "https://localhost:8080/",
          "height": 35
        },
        "id": "81KPrKF8tGq2",
        "outputId": "732e4117-2586-4c44-9399-ae267146e88a"
      },
      "execution_count": null,
      "outputs": [
        {
          "output_type": "execute_result",
          "data": {
            "text/plain": [
              "'78'"
            ],
            "application/vnd.google.colaboratory.intrinsic+json": {
              "type": "string"
            }
          },
          "metadata": {},
          "execution_count": 3
        }
      ]
    },
    {
      "cell_type": "markdown",
      "source": [
        "### Question 3"
      ],
      "metadata": {
        "id": "LjUc0gwhtOLa"
      }
    },
    {
      "cell_type": "code",
      "source": [
        "#Konversikan tipe data variabel tersebut menjadi float\n",
        "\n",
        "float(pensil)"
      ],
      "metadata": {
        "colab": {
          "base_uri": "https://localhost:8080/"
        },
        "id": "vwDBMBUdtMVr",
        "outputId": "b9f84a35-1a42-4d8e-bfb9-1b6768466ab8"
      },
      "execution_count": null,
      "outputs": [
        {
          "output_type": "execute_result",
          "data": {
            "text/plain": [
              "78.0"
            ]
          },
          "metadata": {},
          "execution_count": 4
        }
      ]
    },
    {
      "cell_type": "markdown",
      "source": [
        "### Question 4"
      ],
      "metadata": {
        "id": "CJPN-lfptZcV"
      }
    },
    {
      "cell_type": "code",
      "source": [
        "#Buatlah pemrograman Python untuk menampilkan warna pertama dan terakhir dari tipe data list di bawah\n",
        "color_list = [\"Red\",\"Green\",\"White\" ,\"Black\"]\n",
        "\n",
        "print('Pertama: ',color_list[0], ', Terakhir: ', color_list[3])"
      ],
      "metadata": {
        "colab": {
          "base_uri": "https://localhost:8080/"
        },
        "id": "9p_NX42ItX7U",
        "outputId": "eb940d6c-9300-4691-e07d-1f2f1641a550"
      },
      "execution_count": null,
      "outputs": [
        {
          "output_type": "stream",
          "name": "stdout",
          "text": [
            "Pertama:  Red , Terakhir:  Black\n"
          ]
        }
      ]
    },
    {
      "cell_type": "code",
      "source": [
        "print('Pertama: ',color_list[0], ', Terakhir: ', color_list[len(color_list)-1])"
      ],
      "metadata": {
        "colab": {
          "base_uri": "https://localhost:8080/"
        },
        "id": "eVN8DNnHozpL",
        "outputId": "68a17c22-41db-454c-a2b4-0c0a9fc6ea52"
      },
      "execution_count": null,
      "outputs": [
        {
          "output_type": "stream",
          "name": "stdout",
          "text": [
            "Pertama:  Red , Terakhir:  Black\n"
          ]
        }
      ]
    },
    {
      "cell_type": "code",
      "source": [
        "print('Pertama: ',color_list[0], ', Terakhir: ', color_list[-1])"
      ],
      "metadata": {
        "colab": {
          "base_uri": "https://localhost:8080/"
        },
        "id": "fcwdYpt2Cr4Q",
        "outputId": "96ff898a-def9-4fac-abfd-c02b8e296aca"
      },
      "execution_count": null,
      "outputs": [
        {
          "output_type": "stream",
          "name": "stdout",
          "text": [
            "Pertama:  Red , Terakhir:  Black\n"
          ]
        }
      ]
    },
    {
      "cell_type": "markdown",
      "source": [
        "### Question 5"
      ],
      "metadata": {
        "id": "DdxECwgmts3V"
      }
    },
    {
      "cell_type": "code",
      "source": [
        "# Cetak secara reverse list yang tersedia\n",
        "# Contoh:\n",
        "# Input : list = [10, 11, 12, 13, 14, 15]\n",
        "# Output : [15, 14, 13, 12, 11, 10]\n",
        "\n",
        "# membuat list\n",
        "lst = [11, 5, 17, 18, 23, 50]\n",
        "print('list: ', lst)"
      ],
      "metadata": {
        "colab": {
          "base_uri": "https://localhost:8080/"
        },
        "id": "4e9aKw7-tu0A",
        "outputId": "d0a99520-4aca-490a-c6f3-ae2cb4db21d8"
      },
      "execution_count": null,
      "outputs": [
        {
          "output_type": "stream",
          "name": "stdout",
          "text": [
            "list:  [11, 5, 17, 18, 23, 50]\n"
          ]
        }
      ]
    },
    {
      "cell_type": "code",
      "source": [
        "lst.reverse()"
      ],
      "metadata": {
        "id": "oP1bJ-P6DlLg"
      },
      "execution_count": null,
      "outputs": []
    },
    {
      "cell_type": "code",
      "source": [
        "lst"
      ],
      "metadata": {
        "colab": {
          "base_uri": "https://localhost:8080/"
        },
        "id": "livXcyTRpKtS",
        "outputId": "f2dcaa62-78d1-4dbc-fa13-5a617ba8b2f9"
      },
      "execution_count": null,
      "outputs": [
        {
          "output_type": "execute_result",
          "data": {
            "text/plain": [
              "[50, 23, 18, 17, 5, 11]"
            ]
          },
          "metadata": {},
          "execution_count": 64
        }
      ]
    },
    {
      "cell_type": "code",
      "source": [
        "lst = [11, 5, 17, 18, 23, 50]"
      ],
      "metadata": {
        "id": "J-WilIyQhmmE"
      },
      "execution_count": null,
      "outputs": []
    },
    {
      "cell_type": "code",
      "source": [
        "lst[::1]"
      ],
      "metadata": {
        "colab": {
          "base_uri": "https://localhost:8080/"
        },
        "id": "UBgdJGUnbMsI",
        "outputId": "013313af-19ef-4585-e759-a0adb6c163e0"
      },
      "execution_count": null,
      "outputs": [
        {
          "output_type": "execute_result",
          "data": {
            "text/plain": [
              "[11, 5, 17, 18, 23, 50]"
            ]
          },
          "metadata": {},
          "execution_count": 71
        }
      ]
    },
    {
      "cell_type": "code",
      "source": [
        "lst[::-1]"
      ],
      "metadata": {
        "colab": {
          "base_uri": "https://localhost:8080/"
        },
        "id": "Ci9ANdwBpccP",
        "outputId": "6c26be20-8c8d-4864-8e8b-cb8cb5c097ac"
      },
      "execution_count": null,
      "outputs": [
        {
          "output_type": "execute_result",
          "data": {
            "text/plain": [
              "[50, 23, 18, 17, 5, 11]"
            ]
          },
          "metadata": {},
          "execution_count": 72
        }
      ]
    },
    {
      "cell_type": "code",
      "source": [
        "lst = [11, 5, 17, 18, 23, 50]\n",
        "# reverse list\n",
        "print('reverse list: ', lst[::-1])"
      ],
      "metadata": {
        "id": "PgGsb4K6pUEq",
        "colab": {
          "base_uri": "https://localhost:8080/"
        },
        "outputId": "0d477f90-7949-4f2a-d51f-b947ae4bf49a"
      },
      "execution_count": null,
      "outputs": [
        {
          "output_type": "stream",
          "name": "stdout",
          "text": [
            "reverse list:  [50, 23, 18, 17, 5, 11]\n"
          ]
        }
      ]
    },
    {
      "cell_type": "markdown",
      "source": [
        "### Question 6"
      ],
      "metadata": {
        "id": "n32dbferuMB9"
      }
    },
    {
      "cell_type": "code",
      "source": [
        "# hilangkan elements dari index 1 sampai 4\n",
        "lst = [11, 5, 17, 18, 23, 50]\n",
        "\n",
        "del lst[1:5]\n",
        "lst"
      ],
      "metadata": {
        "colab": {
          "base_uri": "https://localhost:8080/"
        },
        "id": "ijtgcG1DuONp",
        "outputId": "ef99762a-f3dd-4519-bf38-73bbf43a63a7"
      },
      "execution_count": null,
      "outputs": [
        {
          "output_type": "execute_result",
          "data": {
            "text/plain": [
              "[11, 50]"
            ]
          },
          "metadata": {},
          "execution_count": 74
        }
      ]
    },
    {
      "cell_type": "markdown",
      "source": [
        "### Question 7"
      ],
      "metadata": {
        "id": "ps4wKegFudhF"
      }
    },
    {
      "cell_type": "code",
      "source": [
        "# Tuliskan Python program untuk menggabungkan dua dictrionary adding values untuk common keys.\n",
        "# d1 = {'a': 100, 'b': 200, 'c':300}\n",
        "# d2 = {'a': 300, 'b': 200, 'd':400}\n",
        "# Sample output: Counter({'a': 400, 'b': 400, 'd': 400, 'c': 300})\n",
        "\n",
        "d1 = {'a': 100, 'b': 200, 'c':300}\n",
        "d2 = {'a': 300, 'b': 200, 'd':400}"
      ],
      "metadata": {
        "id": "VV-dSUm3ufOh"
      },
      "execution_count": null,
      "outputs": []
    },
    {
      "cell_type": "code",
      "source": [
        "for key in d2:\n",
        "    if key in d1:\n",
        "        d2[key] = d2[key] + d1[key]"
      ],
      "metadata": {
        "id": "YEnHFBkZrGK4"
      },
      "execution_count": null,
      "outputs": []
    },
    {
      "cell_type": "code",
      "source": [
        "d2"
      ],
      "metadata": {
        "colab": {
          "base_uri": "https://localhost:8080/"
        },
        "id": "QG9X3vRyhvqL",
        "outputId": "269e1d42-e741-4379-8f56-ff8f4987f934"
      },
      "execution_count": null,
      "outputs": [
        {
          "output_type": "execute_result",
          "data": {
            "text/plain": [
              "{'a': 400, 'b': 400, 'd': 400}"
            ]
          },
          "metadata": {},
          "execution_count": 77
        }
      ]
    },
    {
      "cell_type": "code",
      "source": [
        "d1"
      ],
      "metadata": {
        "colab": {
          "base_uri": "https://localhost:8080/"
        },
        "id": "lPCzPczChwhd",
        "outputId": "3f703070-bc06-4e05-e1d9-5661e89d9525"
      },
      "execution_count": null,
      "outputs": [
        {
          "output_type": "execute_result",
          "data": {
            "text/plain": [
              "{'a': 100, 'b': 200, 'c': 300}"
            ]
          },
          "metadata": {},
          "execution_count": 78
        }
      ]
    },
    {
      "cell_type": "code",
      "source": [
        "c = {**d1, **d2}\n",
        "print(c)"
      ],
      "metadata": {
        "colab": {
          "base_uri": "https://localhost:8080/"
        },
        "id": "qFdQ2iXRhuxL",
        "outputId": "b252866a-bc4e-44e1-a70e-4440a5ec8b62"
      },
      "execution_count": null,
      "outputs": [
        {
          "output_type": "stream",
          "name": "stdout",
          "text": [
            "{'a': 400, 'b': 400, 'c': 300, 'd': 400}\n"
          ]
        }
      ]
    },
    {
      "cell_type": "code",
      "source": [
        "d1 = {'a': 100, 'b': 200, 'c':300}\n",
        "d2 = {'a': 300, 'b': 200, 'd':400}\n",
        "\n",
        "from collections import Counter\n",
        "         \n",
        "Cdict = Counter(d1) + Counter(d2)\n",
        "print(Cdict)"
      ],
      "metadata": {
        "colab": {
          "base_uri": "https://localhost:8080/"
        },
        "id": "oQkzH_7Wh1FF",
        "outputId": "51d27351-5306-48c3-f507-3118c9774df8"
      },
      "execution_count": null,
      "outputs": [
        {
          "output_type": "stream",
          "name": "stdout",
          "text": [
            "Counter({'a': 400, 'b': 400, 'd': 400, 'c': 300})\n"
          ]
        }
      ]
    },
    {
      "cell_type": "markdown",
      "source": [
        "### Question 8"
      ],
      "metadata": {
        "id": "aAz9t7yRv3sa"
      }
    },
    {
      "cell_type": "code",
      "source": [
        "# Tuliskan Python program untuk menggabungkan dua dictionary Python\n",
        "d1 = {'a': 100, 'b': 200}\n",
        "d2 = {'b': 100, 'y': 200}"
      ],
      "metadata": {
        "id": "DDQOJ25ev5fZ"
      },
      "execution_count": null,
      "outputs": []
    },
    {
      "cell_type": "code",
      "source": [
        "{**d1, **d2}"
      ],
      "metadata": {
        "colab": {
          "base_uri": "https://localhost:8080/"
        },
        "id": "K2ak7MHjh6iS",
        "outputId": "c54dcc85-9d32-48bc-e7cd-3a2dd54f9c38"
      },
      "execution_count": null,
      "outputs": [
        {
          "output_type": "execute_result",
          "data": {
            "text/plain": [
              "{'a': 100, 'b': 100, 'y': 200}"
            ]
          },
          "metadata": {},
          "execution_count": 85
        }
      ]
    },
    {
      "cell_type": "code",
      "source": [
        "Counter = dict(d1,**d2)\n",
        "print (Counter)"
      ],
      "metadata": {
        "colab": {
          "base_uri": "https://localhost:8080/"
        },
        "id": "B4RMgOlrh_I_",
        "outputId": "fe290f70-828a-4f1e-cf0d-8ad48ccc48f3"
      },
      "execution_count": null,
      "outputs": [
        {
          "output_type": "stream",
          "name": "stdout",
          "text": [
            "{'a': 100, 'b': 100, 'y': 200}\n"
          ]
        }
      ]
    },
    {
      "cell_type": "code",
      "source": [
        "d1.update(d2)"
      ],
      "metadata": {
        "id": "Jz0LVPNCh5t2"
      },
      "execution_count": null,
      "outputs": []
    },
    {
      "cell_type": "code",
      "source": [
        "d1"
      ],
      "metadata": {
        "colab": {
          "base_uri": "https://localhost:8080/"
        },
        "id": "bpL18PQYlLJ2",
        "outputId": "dd25a3df-9950-421d-bf5f-bf37e1687f3c"
      },
      "execution_count": null,
      "outputs": [
        {
          "output_type": "execute_result",
          "data": {
            "text/plain": [
              "{'a': 100, 'b': 100, 'y': 200}"
            ]
          },
          "metadata": {},
          "execution_count": 88
        }
      ]
    },
    {
      "cell_type": "markdown",
      "source": [
        "### Question 9"
      ],
      "metadata": {
        "id": "Ot1G9V9Yw2Fo"
      }
    },
    {
      "cell_type": "code",
      "source": [
        "# Kembalikan item yang sama dari kedua set\n",
        "set1 = {10, 20, 30, 40, 50}\n",
        "set2 = {30, 40, 50, 60, 70}"
      ],
      "metadata": {
        "colab": {
          "base_uri": "https://localhost:8080/"
        },
        "id": "FywSNyWhwJ6Z",
        "outputId": "29216fc1-cc00-49c6-9389-67ae7814770b"
      },
      "execution_count": null,
      "outputs": [
        {
          "output_type": "execute_result",
          "data": {
            "text/plain": [
              "{30, 40, 50}"
            ]
          },
          "metadata": {},
          "execution_count": 50
        }
      ]
    },
    {
      "cell_type": "code",
      "source": [
        "set1.intersection(set2)"
      ],
      "metadata": {
        "colab": {
          "base_uri": "https://localhost:8080/"
        },
        "id": "ju7q5n8XJrcC",
        "outputId": "8c3e02fa-3293-4ccd-d09b-076adc480dca"
      },
      "execution_count": null,
      "outputs": [
        {
          "output_type": "execute_result",
          "data": {
            "text/plain": [
              "{30, 40, 50}"
            ]
          },
          "metadata": {},
          "execution_count": 89
        }
      ]
    },
    {
      "cell_type": "code",
      "source": [
        "set1 & set2"
      ],
      "metadata": {
        "colab": {
          "base_uri": "https://localhost:8080/"
        },
        "id": "aa6HJIkJiD2F",
        "outputId": "22078e34-405c-4212-fc39-cd92b4c8339c"
      },
      "execution_count": null,
      "outputs": [
        {
          "output_type": "execute_result",
          "data": {
            "text/plain": [
              "{30, 40, 50}"
            ]
          },
          "metadata": {},
          "execution_count": 90
        }
      ]
    },
    {
      "cell_type": "markdown",
      "source": [
        "### Question 10"
      ],
      "metadata": {
        "id": "4HmpuJyPxVJc"
      }
    },
    {
      "cell_type": "code",
      "source": [
        "# Reverse tipe data tupel di bawah\n",
        "tuple1 = (10, 20, 30, 40, 50)"
      ],
      "metadata": {
        "id": "4Ja2pWBZiLYW"
      },
      "execution_count": null,
      "outputs": []
    },
    {
      "cell_type": "code",
      "source": [
        "tuple1[::-1]"
      ],
      "metadata": {
        "colab": {
          "base_uri": "https://localhost:8080/"
        },
        "id": "R_X9JXILiMQ7",
        "outputId": "bd4c0c13-9b9e-4f8f-83e0-3693776b65fd"
      },
      "execution_count": null,
      "outputs": [
        {
          "output_type": "execute_result",
          "data": {
            "text/plain": [
              "(50, 40, 30, 20, 10)"
            ]
          },
          "metadata": {},
          "execution_count": 92
        }
      ]
    },
    {
      "cell_type": "code",
      "source": [
        "reversed(tuple1)"
      ],
      "metadata": {
        "colab": {
          "base_uri": "https://localhost:8080/"
        },
        "id": "3EbbVoZClqUb",
        "outputId": "10121434-0dd1-454a-e7ba-d9f5a3d2b0b5"
      },
      "execution_count": null,
      "outputs": [
        {
          "output_type": "execute_result",
          "data": {
            "text/plain": [
              "<reversed at 0x7fcc31505450>"
            ]
          },
          "metadata": {},
          "execution_count": 93
        }
      ]
    },
    {
      "cell_type": "code",
      "source": [
        "# Reverse tipe data tupel di bawah\n",
        "tuple1 = (10, 20, 30, 40, 50)\n",
        "\n",
        "# expected output : (50, 40, 30, 20, 10)\n",
        "\n",
        "tuple(reversed(tuple1))"
      ],
      "metadata": {
        "colab": {
          "base_uri": "https://localhost:8080/"
        },
        "id": "9VEvjYrsxXmu",
        "outputId": "faaeb6c5-1a3b-4d37-da27-72779179eef2"
      },
      "execution_count": null,
      "outputs": [
        {
          "output_type": "execute_result",
          "data": {
            "text/plain": [
              "(50, 40, 30, 20, 10)"
            ]
          },
          "metadata": {},
          "execution_count": 94
        }
      ]
    },
    {
      "cell_type": "code",
      "source": [
        "tuple1_list = list(tuple1)\n",
        "\n",
        "tuple1_list.reverse()"
      ],
      "metadata": {
        "id": "kLOktSDFKJx7"
      },
      "execution_count": null,
      "outputs": []
    },
    {
      "cell_type": "code",
      "source": [
        "tuple(tuple1_list)"
      ],
      "metadata": {
        "colab": {
          "base_uri": "https://localhost:8080/"
        },
        "id": "IeNVFVFdK4wm",
        "outputId": "f58fd219-3fbe-4d54-e242-a280e7a2c8ff"
      },
      "execution_count": null,
      "outputs": [
        {
          "output_type": "execute_result",
          "data": {
            "text/plain": [
              "(50, 40, 30, 20, 10)"
            ]
          },
          "metadata": {},
          "execution_count": 96
        }
      ]
    },
    {
      "cell_type": "code",
      "source": [
        "# Reverse tipe data tupel di bawah\n",
        "def Reverse(tuple1):\n",
        "    new_tup = tuple1[::-1]\n",
        "    return new_tup\n",
        "tuple1 = (10, 20, 30, 40, 50)\n",
        "\n",
        "# expected output : (50, 40, 30, 20, 10)\n",
        "print(Reverse(tuple1))"
      ],
      "metadata": {
        "colab": {
          "base_uri": "https://localhost:8080/"
        },
        "id": "Bp1tZrtWs5_4",
        "outputId": "19f1c5c3-80c2-4634-816b-f111dbd9f5b1"
      },
      "execution_count": null,
      "outputs": [
        {
          "output_type": "stream",
          "name": "stdout",
          "text": [
            "(50, 40, 30, 20, 10)\n"
          ]
        }
      ]
    },
    {
      "cell_type": "markdown",
      "source": [
        "## Excercise 4"
      ],
      "metadata": {
        "id": "mKUUrvccxvCt"
      }
    },
    {
      "cell_type": "markdown",
      "source": [
        "### Question 1"
      ],
      "metadata": {
        "id": "plAOs-uLxyRV"
      }
    },
    {
      "cell_type": "code",
      "source": [
        "# Write a program to create function calculation() such that it can accept two variables and calculate addition and subtraction. Also, it must return both addition and subtraction in a single return call.\n",
        "\n",
        "def calculation(a, b):\n",
        "    # Your Code\n",
        "    return \n",
        "\n",
        "# calculation(40, 10), expected return 50,30"
      ],
      "metadata": {
        "id": "Vwuyh2T6xwjv"
      },
      "execution_count": null,
      "outputs": []
    },
    {
      "cell_type": "code",
      "source": [
        "def nama_fungsi(input):\n",
        "  hasil = input + 1\n",
        "  return hasil"
      ],
      "metadata": {
        "id": "NGGw8dxwvp8c"
      },
      "execution_count": null,
      "outputs": []
    },
    {
      "cell_type": "code",
      "source": [
        "def calculation(a, b):\n",
        "    penjumlahan = a+b\n",
        "    pengurangan = a - b\n",
        "    return penjumlahan, pengurangan"
      ],
      "metadata": {
        "id": "Qz_99y2Kx3ex"
      },
      "execution_count": null,
      "outputs": []
    },
    {
      "cell_type": "code",
      "source": [
        "calculation(40, 10)"
      ],
      "metadata": {
        "colab": {
          "base_uri": "https://localhost:8080/"
        },
        "id": "kgmhHyx6w1-r",
        "outputId": "3dd2c776-ee57-48b0-b911-9682a07f0b59"
      },
      "execution_count": null,
      "outputs": [
        {
          "output_type": "execute_result",
          "data": {
            "text/plain": [
              "(50, 30)"
            ]
          },
          "metadata": {},
          "execution_count": 44
        }
      ]
    },
    {
      "cell_type": "code",
      "source": [
        "penjumlahan, pengurangan = calculation(40, 10)"
      ],
      "metadata": {
        "id": "u4xzusVrvDcq"
      },
      "execution_count": null,
      "outputs": []
    },
    {
      "cell_type": "code",
      "source": [
        "penjumlahan"
      ],
      "metadata": {
        "colab": {
          "base_uri": "https://localhost:8080/"
        },
        "id": "6Kt7VrWovITI",
        "outputId": "37ffdd36-1578-4815-d446-25b174ac83e9"
      },
      "execution_count": null,
      "outputs": [
        {
          "output_type": "execute_result",
          "data": {
            "text/plain": [
              "50"
            ]
          },
          "metadata": {},
          "execution_count": 45
        }
      ]
    },
    {
      "cell_type": "code",
      "source": [
        "pengurangan"
      ],
      "metadata": {
        "colab": {
          "base_uri": "https://localhost:8080/"
        },
        "id": "15VghHtGvJ9W",
        "outputId": "7d607fd6-bc03-4cfd-fab6-75d8c6641e59"
      },
      "execution_count": null,
      "outputs": [
        {
          "output_type": "execute_result",
          "data": {
            "text/plain": [
              "30"
            ]
          },
          "metadata": {},
          "execution_count": 46
        }
      ]
    },
    {
      "cell_type": "markdown",
      "source": [
        "### Question 2"
      ],
      "metadata": {
        "id": "66waK8rMyRm7"
      }
    },
    {
      "cell_type": "code",
      "source": [
        "# Define a function that accepts lowercase words and returns uppercase words.\n",
        "\n",
        "def response(txt):\n",
        "    # Your Code\n",
        "    return \n",
        "\n",
        "# response('myskill'), expected return 'MYSKILL'"
      ],
      "metadata": {
        "id": "6bPqNs0_yJqu"
      },
      "execution_count": null,
      "outputs": []
    },
    {
      "cell_type": "code",
      "source": [
        "def response(txt):\n",
        "    res = txt.upper()\n",
        "    return res\n",
        "\n",
        "response('myskill')"
      ],
      "metadata": {
        "colab": {
          "base_uri": "https://localhost:8080/",
          "height": 35
        },
        "id": "vt7WccCdyUbV",
        "outputId": "dbd866ad-1449-49e5-d980-966d43bc74b9"
      },
      "execution_count": null,
      "outputs": [
        {
          "output_type": "execute_result",
          "data": {
            "text/plain": [
              "'MYSKILL'"
            ],
            "application/vnd.google.colaboratory.intrinsic+json": {
              "type": "string"
            }
          },
          "metadata": {},
          "execution_count": 48
        }
      ]
    },
    {
      "cell_type": "code",
      "source": [
        "txt = 'MySkill'\n",
        "\n",
        "txt.upper()"
      ],
      "metadata": {
        "colab": {
          "base_uri": "https://localhost:8080/",
          "height": 35
        },
        "id": "274K14LXNrIX",
        "outputId": "2eaa7cf4-4831-4c84-be74-7f6700554422"
      },
      "execution_count": null,
      "outputs": [
        {
          "output_type": "execute_result",
          "data": {
            "text/plain": [
              "'MYSKILL'"
            ],
            "application/vnd.google.colaboratory.intrinsic+json": {
              "type": "string"
            }
          },
          "metadata": {},
          "execution_count": 49
        }
      ]
    },
    {
      "cell_type": "markdown",
      "source": [
        "### Question 3"
      ],
      "metadata": {
        "id": "oQw15Na4ydyg"
      }
    },
    {
      "cell_type": "code",
      "source": [
        "# Write a program to check whether a number entered by user is even or odd.\n",
        "# hints using if else"
      ],
      "metadata": {
        "id": "ha-_Ilo-yfqN"
      },
      "execution_count": null,
      "outputs": []
    },
    {
      "cell_type": "code",
      "source": [
        "def genap_ganjil(a):\n",
        "    if a % 2 == 0:\n",
        "      res = 'genap'\n",
        "    else :\n",
        "      res = 'ganjil'\n",
        "    return res\n",
        "    \n",
        "genap_ganjil(3)"
      ],
      "metadata": {
        "colab": {
          "base_uri": "https://localhost:8080/",
          "height": 35
        },
        "id": "UGtVkMYnOKh2",
        "outputId": "57c5c6c2-83f5-4420-e1da-606a892fb8c3"
      },
      "execution_count": null,
      "outputs": [
        {
          "output_type": "execute_result",
          "data": {
            "text/plain": [
              "'ganjil'"
            ],
            "application/vnd.google.colaboratory.intrinsic+json": {
              "type": "string"
            }
          },
          "metadata": {},
          "execution_count": 50
        }
      ]
    },
    {
      "cell_type": "code",
      "source": [
        "def genap_ganjil(a):\n",
        "    res = 'ganjil'\n",
        "\n",
        "    if a % 2 == 0:\n",
        "      res = 'genap'\n",
        "    return res\n",
        "\n",
        "genap_ganjil(3)"
      ],
      "metadata": {
        "colab": {
          "base_uri": "https://localhost:8080/",
          "height": 35
        },
        "id": "KiCg9KzMyh_V",
        "outputId": "39f42e71-715a-4b6d-b590-6812e38616a5"
      },
      "execution_count": null,
      "outputs": [
        {
          "output_type": "execute_result",
          "data": {
            "text/plain": [
              "'ganjil'"
            ],
            "application/vnd.google.colaboratory.intrinsic+json": {
              "type": "string"
            }
          },
          "metadata": {},
          "execution_count": 51
        }
      ]
    },
    {
      "cell_type": "code",
      "source": [
        "a=2 # assign value\n",
        "\n",
        "a==2 # apakah a itu sama dengan 2"
      ],
      "metadata": {
        "id": "7mj-X4vizgSx",
        "colab": {
          "base_uri": "https://localhost:8080/"
        },
        "outputId": "f2927ab3-cef3-477d-c56a-741e1db63659"
      },
      "execution_count": null,
      "outputs": [
        {
          "output_type": "execute_result",
          "data": {
            "text/plain": [
              "True"
            ]
          },
          "metadata": {},
          "execution_count": 16
        }
      ]
    },
    {
      "cell_type": "code",
      "source": [
        "print('baris pertama')\n",
        "a = 3\n",
        "if a==2:\n",
        "  print('nilai a, memang', a)\n",
        "else :\n",
        "  print('nilai a bukan 2')\n",
        "print('baris terakhir')"
      ],
      "metadata": {
        "colab": {
          "base_uri": "https://localhost:8080/"
        },
        "id": "77cfx28jyduL",
        "outputId": "b64dc2bb-ebf9-4c03-857e-01d4465e8253"
      },
      "execution_count": null,
      "outputs": [
        {
          "output_type": "stream",
          "name": "stdout",
          "text": [
            "baris pertama\n",
            "nilai a bukan 2\n",
            "baris terakhir\n"
          ]
        }
      ]
    },
    {
      "cell_type": "markdown",
      "source": [
        "### Question 4"
      ],
      "metadata": {
        "id": "8BJK5rluzQjg"
      }
    },
    {
      "cell_type": "code",
      "source": [
        "# Write a for loop so that every item in the list is printed.\n",
        "lst=[\"koala\", \"cat\", \"fox\", \"panda\", \"chipmunk\", \"sloth\", \"penguin\", \"dolphin\"]"
      ],
      "metadata": {
        "id": "ThpJYIaizAue"
      },
      "execution_count": null,
      "outputs": []
    },
    {
      "cell_type": "code",
      "source": [
        "for a in lst:\n",
        "  print(a)"
      ],
      "metadata": {
        "colab": {
          "base_uri": "https://localhost:8080/"
        },
        "id": "wNJ14d-qzzGg",
        "outputId": "26952f15-9243-4d7d-c456-409b151cfad8"
      },
      "execution_count": null,
      "outputs": [
        {
          "output_type": "stream",
          "name": "stdout",
          "text": [
            "koala\n",
            "cat\n",
            "fox\n",
            "panda\n",
            "chipmunk\n",
            "sloth\n",
            "penguin\n",
            "dolphin\n"
          ]
        }
      ]
    },
    {
      "cell_type": "markdown",
      "source": [
        "### Question 5"
      ],
      "metadata": {
        "id": "yL8r4ZA5zaoc"
      }
    },
    {
      "cell_type": "code",
      "source": [
        "# The while loop below defines the condition (x < 10) and repeats the instructions until that condition is true. "
      ],
      "metadata": {
        "id": "jimroSb6zccc"
      },
      "execution_count": null,
      "outputs": []
    },
    {
      "cell_type": "code",
      "source": [
        "x = 1       # nilai awal\n",
        "\n",
        "while x < 10 : # syarat\n",
        "  print(x)     # perintah yg dijalankan\n",
        "  x = x+1"
      ],
      "metadata": {
        "colab": {
          "base_uri": "https://localhost:8080/"
        },
        "id": "j3gfuD67zfu8",
        "outputId": "8c714e4e-7c19-46ab-ef6e-a01c87e7f909"
      },
      "execution_count": null,
      "outputs": [
        {
          "output_type": "stream",
          "name": "stdout",
          "text": [
            "1\n",
            "2\n",
            "3\n",
            "4\n",
            "5\n",
            "6\n",
            "7\n",
            "8\n",
            "9\n"
          ]
        }
      ]
    },
    {
      "cell_type": "markdown",
      "source": [
        "### Question 6"
      ],
      "metadata": {
        "id": "PMPybwxizpbK"
      }
    },
    {
      "cell_type": "code",
      "source": [
        "# Write a lambda function which takes z as a parameter and returns z*11\n",
        "# Assign it to variable named: f."
      ],
      "metadata": {
        "id": "G7LDcAz1zrWc"
      },
      "execution_count": null,
      "outputs": []
    },
    {
      "cell_type": "code",
      "source": [
        "f = lambda z : z*11"
      ],
      "metadata": {
        "id": "S7140wLh6U-K"
      },
      "execution_count": null,
      "outputs": []
    },
    {
      "cell_type": "code",
      "source": [
        "i=9\n",
        "\n",
        "f = lambda z : z*11\n",
        "print(f(i))"
      ],
      "metadata": {
        "colab": {
          "base_uri": "https://localhost:8080/"
        },
        "id": "auofu8jez5XP",
        "outputId": "2578c9e9-6c44-4c14-e3e5-3469cc3b273c"
      },
      "execution_count": null,
      "outputs": [
        {
          "output_type": "stream",
          "name": "stdout",
          "text": [
            "99\n"
          ]
        }
      ]
    },
    {
      "cell_type": "markdown",
      "source": [
        "### Question 7"
      ],
      "metadata": {
        "id": "AcnzV_q20MIV"
      }
    },
    {
      "cell_type": "code",
      "source": [
        "# Multiply argument a with argument b and return the result using lambda"
      ],
      "metadata": {
        "id": "RSe01GxM0Ntb"
      },
      "execution_count": null,
      "outputs": []
    },
    {
      "cell_type": "code",
      "source": [
        "a = 4\n",
        "b = 3\n",
        "\n",
        "perkalian = lambda a, b : a*b\n",
        "print(perkalian(a,b))"
      ],
      "metadata": {
        "colab": {
          "base_uri": "https://localhost:8080/"
        },
        "id": "fvX5Bk2u0TN7",
        "outputId": "3dc1cc29-3fd3-4b74-c432-524fe5234fa4"
      },
      "execution_count": null,
      "outputs": [
        {
          "output_type": "stream",
          "name": "stdout",
          "text": [
            "12\n"
          ]
        }
      ]
    },
    {
      "cell_type": "code",
      "source": [
        "perkalian = lambda a, b, c, d, e : a+b+c+d+e\n",
        "print(perkalian(1,1,1,1,1))"
      ],
      "metadata": {
        "colab": {
          "base_uri": "https://localhost:8080/"
        },
        "id": "zhcVAVeP4Jko",
        "outputId": "135a34b4-b1dc-4aff-f17d-ae5005359ccc"
      },
      "execution_count": null,
      "outputs": [
        {
          "output_type": "stream",
          "name": "stdout",
          "text": [
            "5\n"
          ]
        }
      ]
    },
    {
      "cell_type": "markdown",
      "source": [
        "### Question 8"
      ],
      "metadata": {
        "id": "o-QDv6BL0fZZ"
      }
    },
    {
      "cell_type": "code",
      "source": [
        "# Write while with break with condition Exit the loop when i is 3:"
      ],
      "metadata": {
        "id": "V1sMyCD50hvT"
      },
      "execution_count": null,
      "outputs": []
    },
    {
      "cell_type": "code",
      "source": [
        "i = 0\n",
        "while i >= 0:\n",
        "  print(i)\n",
        "  i = i+1\n",
        "  if i == 3:\n",
        "    break\n",
        "  \n",
        "print('Loop ended.')"
      ],
      "metadata": {
        "colab": {
          "base_uri": "https://localhost:8080/"
        },
        "id": "-XACXmjx0jvE",
        "outputId": "1e46e416-4cb2-4c19-e45a-6b1134ca0571"
      },
      "execution_count": null,
      "outputs": [
        {
          "output_type": "stream",
          "name": "stdout",
          "text": [
            "0\n",
            "1\n",
            "2\n",
            "Loop ended.\n"
          ]
        }
      ]
    },
    {
      "cell_type": "markdown",
      "source": [
        "### Question 9"
      ],
      "metadata": {
        "id": "OjTT8AKz2IAo"
      }
    },
    {
      "cell_type": "code",
      "source": [
        "# write for loop with range() function and print number from 0 to 4"
      ],
      "metadata": {
        "id": "g_J9BlI22JS8"
      },
      "execution_count": null,
      "outputs": []
    },
    {
      "cell_type": "code",
      "source": [
        "[0,1,2,3,4]"
      ],
      "metadata": {
        "id": "P2pFAw_d5VJB",
        "colab": {
          "base_uri": "https://localhost:8080/"
        },
        "outputId": "07d0be7c-ab48-4584-ec22-ef713e91bef6"
      },
      "execution_count": null,
      "outputs": [
        {
          "output_type": "execute_result",
          "data": {
            "text/plain": [
              "[0, 1, 2, 3, 4]"
            ]
          },
          "metadata": {},
          "execution_count": 64
        }
      ]
    },
    {
      "cell_type": "code",
      "source": [
        "lsta = [1,2,3,4]"
      ],
      "metadata": {
        "id": "21D8tgRNV9IP"
      },
      "execution_count": null,
      "outputs": []
    },
    {
      "cell_type": "code",
      "source": [
        "for i in lsta:\n",
        "  print(i)"
      ],
      "metadata": {
        "colab": {
          "base_uri": "https://localhost:8080/"
        },
        "id": "IBVVeemq7YCA",
        "outputId": "6487ce23-a9ad-468d-8619-709cb6a495c7"
      },
      "execution_count": null,
      "outputs": [
        {
          "output_type": "stream",
          "name": "stdout",
          "text": [
            "1\n",
            "2\n",
            "3\n",
            "4\n"
          ]
        }
      ]
    },
    {
      "cell_type": "code",
      "source": [
        "list(range(4))"
      ],
      "metadata": {
        "colab": {
          "base_uri": "https://localhost:8080/"
        },
        "id": "vF38QrgHWNud",
        "outputId": "ccc94ae3-8268-4372-a35d-9b3be65172d8"
      },
      "execution_count": null,
      "outputs": [
        {
          "output_type": "execute_result",
          "data": {
            "text/plain": [
              "[0, 1, 2, 3]"
            ]
          },
          "metadata": {},
          "execution_count": 67
        }
      ]
    },
    {
      "cell_type": "code",
      "source": [
        "for i in range(4):\n",
        "  #function()\n",
        "  print(i)"
      ],
      "metadata": {
        "colab": {
          "base_uri": "https://localhost:8080/"
        },
        "id": "XGxAZtgK2Lyz",
        "outputId": "67f41764-23ee-412b-e1de-dd9e6e95d1d8"
      },
      "execution_count": null,
      "outputs": [
        {
          "output_type": "stream",
          "name": "stdout",
          "text": [
            "0\n",
            "1\n",
            "2\n",
            "3\n"
          ]
        }
      ]
    },
    {
      "cell_type": "code",
      "source": [
        "i = int(input('Masukkan range cetak angka dari 0 sampai = '))\n",
        "for x in range(i+1):\n",
        "  print(x)"
      ],
      "metadata": {
        "colab": {
          "base_uri": "https://localhost:8080/"
        },
        "id": "upGjssv15szW",
        "outputId": "07069a3d-b8d8-462f-841b-b3233bbead53"
      },
      "execution_count": null,
      "outputs": [
        {
          "output_type": "stream",
          "name": "stdout",
          "text": [
            "Masukkan range cetak angka dari 0 sampai = 11\n",
            "0\n",
            "1\n",
            "2\n",
            "3\n",
            "4\n",
            "5\n",
            "6\n",
            "7\n",
            "8\n",
            "9\n",
            "10\n",
            "11\n"
          ]
        }
      ]
    },
    {
      "cell_type": "markdown",
      "source": [
        "### Question 10"
      ],
      "metadata": {
        "id": "a7BaniIh2T40"
      }
    },
    {
      "cell_type": "code",
      "source": [
        "# Access Index in for Loop, print list and its index with for loop\n",
        "colors = ['blue','red','green','yellow']\n",
        "# expected output\n",
        "# 0 blue\n",
        "# 1 red\n",
        "# 2 green\n",
        "# 3 yellow"
      ],
      "metadata": {
        "id": "kIzm-t2P2VJx"
      },
      "execution_count": null,
      "outputs": []
    },
    {
      "cell_type": "code",
      "source": [
        "dict1 = {'a':1, 'b':2, 'c':3}"
      ],
      "metadata": {
        "id": "6xg7DtVh7stK"
      },
      "execution_count": null,
      "outputs": []
    },
    {
      "cell_type": "code",
      "source": [
        "for value, key in enumerate(dict1):\n",
        "  print(value, key)"
      ],
      "metadata": {
        "colab": {
          "base_uri": "https://localhost:8080/"
        },
        "id": "Z5Jk8-8_2XVp",
        "outputId": "7998fe8d-72cd-40a3-8570-7de7c71945c4"
      },
      "execution_count": null,
      "outputs": [
        {
          "output_type": "stream",
          "name": "stdout",
          "text": [
            "0 a\n",
            "1 b\n",
            "2 c\n"
          ]
        }
      ]
    },
    {
      "cell_type": "code",
      "source": [
        "for index in range(len(colors)):\n",
        "  print(index,' ',colors[index])\n",
        "colors = ['blue','red','green','yellow']\n",
        "for index in range(len(colors)):\n",
        "  print(index,' ',colors[index])"
      ],
      "metadata": {
        "colab": {
          "base_uri": "https://localhost:8080/"
        },
        "id": "j3g3BI-u6MsW",
        "outputId": "dd1a0b37-82c1-4a53-d727-7f9a209e95c3"
      },
      "execution_count": null,
      "outputs": [
        {
          "output_type": "stream",
          "name": "stdout",
          "text": [
            "0   blue\n",
            "1   red\n",
            "2   green\n",
            "3   yellow\n",
            "0   blue\n",
            "1   red\n",
            "2   green\n",
            "3   yellow\n"
          ]
        }
      ]
    },
    {
      "cell_type": "code",
      "source": [
        "colors = ['blue','red','green','yellow']\n",
        "for x in colors:\n",
        "    print (colors.index(x),x)"
      ],
      "metadata": {
        "colab": {
          "base_uri": "https://localhost:8080/"
        },
        "id": "Az4BGwkr6YRa",
        "outputId": "a814468b-8ddf-4e13-cdab-02eeeef10e44"
      },
      "execution_count": null,
      "outputs": [
        {
          "output_type": "stream",
          "name": "stdout",
          "text": [
            "0 blue\n",
            "1 red\n",
            "2 green\n",
            "3 yellow\n"
          ]
        }
      ]
    }
  ]
}